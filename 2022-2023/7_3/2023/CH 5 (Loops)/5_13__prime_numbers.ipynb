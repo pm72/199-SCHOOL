{
 "cells": [
  {
   "cell_type": "markdown",
   "id": "7b7e63e1",
   "metadata": {},
   "source": [
    "# პირველი N მარტივი რიცხვი"
   ]
  },
  {
   "cell_type": "code",
   "execution_count": 21,
   "id": "795f84c0",
   "metadata": {},
   "outputs": [
    {
     "name": "stdout",
     "output_type": "stream",
     "text": [
      "2     3     5     7     11    13    17    19    23    29    \n",
      "31    37    41    43    47    53    59    61    67    71    \n",
      "73    79    83    89    97    101   103   107   109   113   \n",
      "127   131   137   139   149   151   157   163   167   173   \n",
      "179   181   191   193   197   199   211   223   227   229   \n",
      "\n",
      "\n",
      " 50\n"
     ]
    }
   ],
   "source": [
    "N = 50\n",
    "number = 2\n",
    "count = 0\n",
    "\n",
    "while count < N:\n",
    "    divisor = 2\n",
    "    \n",
    "    while divisor <= number ** 0.5:\n",
    "        if number % divisor == 0:\n",
    "            break\n",
    "        \n",
    "        divisor += 1\n",
    "    \n",
    "    else:\n",
    "        count += 1\n",
    "        print(f\"{number:<6d}\", end='')\n",
    "        \n",
    "        if count % 10 == 0:\n",
    "            print()\n",
    "    \n",
    "    number += 1\n",
    "\n",
    "print(\"\\n\\n\", count)"
   ]
  },
  {
   "cell_type": "markdown",
   "id": "7d2f2822",
   "metadata": {},
   "source": [
    "# მარტივი მამრავლები"
   ]
  },
  {
   "cell_type": "code",
   "execution_count": 28,
   "id": "52207241",
   "metadata": {},
   "outputs": [
    {
     "name": "stdout",
     "output_type": "stream",
     "text": [
      "Enter a number: 20\n",
      "2    2    5    "
     ]
    }
   ],
   "source": [
    "number = int(eval(input(\"Enter a number: \")))\n",
    "divisor = 2\n",
    "\n",
    "while number > 1:\n",
    "    if number % divisor == 0:\n",
    "        print(f\"{divisor:<5d}\", end='')\n",
    "        number //= divisor\n",
    "    else:\n",
    "        divisor += 1\n",
    "\n",
    "# 20  10  5  1\n",
    "# 2   2   5"
   ]
  },
  {
   "cell_type": "markdown",
   "id": "83d8dd79",
   "metadata": {},
   "source": [
    "# ერასტოფენეს საცერი"
   ]
  },
  {
   "cell_type": "code",
   "execution_count": 41,
   "id": "12dd85e5",
   "metadata": {},
   "outputs": [
    {
     "name": "stdout",
     "output_type": "stream",
     "text": [
      "2     3     5     7     11    13    17    19    23    29    \n",
      "31    37    41    43    47    \n",
      "\n",
      "Count: 15\n"
     ]
    }
   ],
   "source": [
    "N = 50\n",
    "A = [True] * N\n",
    "A[0] = A[1] = False\n",
    "\n",
    "for i in range(2, N):\n",
    "    if A[i]:\n",
    "        for j in range(2 * i, N, i):\n",
    "           A[j] = False\n",
    "\n",
    "count = 0\n",
    "for i in range(2, N):\n",
    "    if A[i]:\n",
    "        count += 1\n",
    "        print(f\"{i:<6d}\", end='')\n",
    "        \n",
    "        if count % 10 == 0:\n",
    "            print()\n",
    "\n",
    "print(f\"\\n\\nCount: {count}\")"
   ]
  },
  {
   "cell_type": "code",
   "execution_count": null,
   "id": "f8ccca66",
   "metadata": {},
   "outputs": [],
   "source": []
  }
 ],
 "metadata": {
  "kernelspec": {
   "display_name": "Python 3 (ipykernel)",
   "language": "python",
   "name": "python3"
  },
  "language_info": {
   "codemirror_mode": {
    "name": "ipython",
    "version": 3
   },
   "file_extension": ".py",
   "mimetype": "text/x-python",
   "name": "python",
   "nbconvert_exporter": "python",
   "pygments_lexer": "ipython3",
   "version": "3.10.9"
  }
 },
 "nbformat": 4,
 "nbformat_minor": 5
}
