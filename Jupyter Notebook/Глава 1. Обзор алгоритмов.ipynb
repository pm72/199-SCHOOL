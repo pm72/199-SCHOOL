{
 "cells": [
  {
   "cell_type": "markdown",
   "id": "7077193a",
   "metadata": {},
   "source": [
    "# Глава 1. Обзор алгоритмов"
   ]
  },
  {
   "cell_type": "markdown",
   "id": "62194874",
   "metadata": {},
   "source": [
    "#### Линейная временная сложность (O(n))"
   ]
  },
  {
   "cell_type": "code",
   "execution_count": 7,
   "id": "ed555506",
   "metadata": {},
   "outputs": [],
   "source": [
    "def getsum(my_list):\n",
    "    s = 0\n",
    "    \n",
    "    for item in my_list:\n",
    "        s += item\n",
    "    \n",
    "    return s"
   ]
  },
  {
   "cell_type": "code",
   "execution_count": 8,
   "id": "a85790ee",
   "metadata": {},
   "outputs": [
    {
     "data": {
      "text/plain": [
       "6"
      ]
     },
     "execution_count": 8,
     "metadata": {},
     "output_type": "execute_result"
    }
   ],
   "source": [
    "getsum([1, 2, 3])"
   ]
  },
  {
   "cell_type": "code",
   "execution_count": 9,
   "id": "92af9d5f",
   "metadata": {},
   "outputs": [
    {
     "data": {
      "text/plain": [
       "10"
      ]
     },
     "execution_count": 9,
     "metadata": {},
     "output_type": "execute_result"
    }
   ],
   "source": [
    "getsum([1, 2, 3, 4])"
   ]
  },
  {
   "cell_type": "markdown",
   "id": "c275af3f",
   "metadata": {},
   "source": [
    "#### Квадратичная временная сложность (O(n2))"
   ]
  },
  {
   "cell_type": "code",
   "execution_count": 10,
   "id": "66deb51e",
   "metadata": {},
   "outputs": [],
   "source": [
    "def getsum(my_list):\n",
    "    s = 0\n",
    "    \n",
    "    for row in my_list:\n",
    "        for item in row:\n",
    "            s += item\n",
    "    \n",
    "    return s"
   ]
  },
  {
   "cell_type": "code",
   "execution_count": 11,
   "id": "ad2cb777",
   "metadata": {},
   "outputs": [
    {
     "data": {
      "text/plain": [
       "10"
      ]
     },
     "execution_count": 11,
     "metadata": {},
     "output_type": "execute_result"
    }
   ],
   "source": [
    "getsum([[1, 2], [3, 4]])"
   ]
  },
  {
   "cell_type": "code",
   "execution_count": 12,
   "id": "2582733e",
   "metadata": {},
   "outputs": [
    {
     "data": {
      "text/plain": [
       "21"
      ]
     },
     "execution_count": 12,
     "metadata": {},
     "output_type": "execute_result"
    }
   ],
   "source": [
    "getsum([[1, 2, 3], [4, 5, 6]])"
   ]
  },
  {
   "cell_type": "code",
   "execution_count": 13,
   "id": "5f70a018",
   "metadata": {},
   "outputs": [
    {
     "data": {
      "text/plain": [
       "33"
      ]
     },
     "execution_count": 13,
     "metadata": {},
     "output_type": "execute_result"
    }
   ],
   "source": [
    "getsum(((1, 2), (10, 20)))"
   ]
  },
  {
   "cell_type": "markdown",
   "id": "3718eca7",
   "metadata": {},
   "source": [
    "#### Логарифмическая временная сложность (O(logn))"
   ]
  },
  {
   "cell_type": "code",
   "execution_count": 37,
   "id": "73437192",
   "metadata": {},
   "outputs": [],
   "source": [
    "def search_binary(my_list, item):   # [8, 9, 10, 100, 1000, 2000, 3000], 10\n",
    "    first = 0\n",
    "    last = len(my_list) - 1\n",
    "    found = False\n",
    "    \n",
    "    while first <= last and not found:\n",
    "        mid = (first + last) // 2\n",
    "        \n",
    "        if my_list[mid] == item:\n",
    "            found = True\n",
    "        elif item < my_list[mid]:\n",
    "            last = mid - 1\n",
    "        else:\n",
    "            first = mid + 1\n",
    "    \n",
    "    return found"
   ]
  },
  {
   "cell_type": "code",
   "execution_count": 39,
   "id": "de122932",
   "metadata": {},
   "outputs": [
    {
     "data": {
      "text/plain": [
       "True"
      ]
     },
     "execution_count": 39,
     "metadata": {},
     "output_type": "execute_result"
    }
   ],
   "source": [
    "search_binary([8, 9, 10, 100, 1000, 2000, 3000], 10)"
   ]
  },
  {
   "cell_type": "code",
   "execution_count": 40,
   "id": "42f7ed49",
   "metadata": {},
   "outputs": [
    {
     "data": {
      "text/plain": [
       "False"
      ]
     },
     "execution_count": 40,
     "metadata": {},
     "output_type": "execute_result"
    }
   ],
   "source": [
    "search_binary([8, 9, 10, 100, 1000, 2000, 3000], 5)"
   ]
  },
  {
   "cell_type": "code",
   "execution_count": null,
   "id": "cbbe40e6",
   "metadata": {},
   "outputs": [],
   "source": [
    " "
   ]
  }
 ],
 "metadata": {
  "kernelspec": {
   "display_name": "Python 3 (ipykernel)",
   "language": "python",
   "name": "python3"
  },
  "language_info": {
   "codemirror_mode": {
    "name": "ipython",
    "version": 3
   },
   "file_extension": ".py",
   "mimetype": "text/x-python",
   "name": "python",
   "nbconvert_exporter": "python",
   "pygments_lexer": "ipython3",
   "version": "3.10.9"
  }
 },
 "nbformat": 4,
 "nbformat_minor": 5
}
