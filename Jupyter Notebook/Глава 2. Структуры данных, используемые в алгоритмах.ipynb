{
 "cells": [
  {
   "cell_type": "markdown",
   "id": "cc6b88e5",
   "metadata": {},
   "source": [
    "# Глвав 2. Структуры данных, используемые в алгоритмах"
   ]
  },
  {
   "cell_type": "markdown",
   "id": "9a198cdd",
   "metadata": {},
   "source": [
    " ## СТРУКТУРЫ ДАННЫХ В PYTHON"
   ]
  },
  {
   "cell_type": "markdown",
   "id": "d07c2eb4",
   "metadata": {},
   "source": [
    "* Список (List). Упорядоченная изменяемая последовательность элементов.\n",
    "* Кортеж (Tuple). Упорядоченная неизменяемая последовательность элементов.\n",
    "* Множество (Set). Неупорядоченная последовательность элементов.\n",
    "* Словарь (Dictionary). Неупорядоченная последовательность пар «ключ — значение».\n",
    "* DataFrame. Двумерная структура для хранения двумерных данных."
   ]
  },
  {
   "cell_type": "markdown",
   "id": "bce73456",
   "metadata": {},
   "source": [
    "### Список"
   ]
  },
  {
   "cell_type": "code",
   "execution_count": 2,
   "id": "1989b855",
   "metadata": {},
   "outputs": [
    {
     "name": "stdout",
     "output_type": "stream",
     "text": [
      "['John', 33, 'Toronto', True]\n"
     ]
    }
   ],
   "source": [
    "a_list = ['John', 33, 'Toronto', True]\n",
    "\n",
    "print(a_list)"
   ]
  },
  {
   "cell_type": "markdown",
   "id": "c9af8d61",
   "metadata": {},
   "source": [
    "* ___Индексация списка___"
   ]
  },
  {
   "cell_type": "code",
   "execution_count": 4,
   "id": "02225cc3",
   "metadata": {},
   "outputs": [
    {
     "name": "stdout",
     "output_type": "stream",
     "text": [
      "Green\n"
     ]
    }
   ],
   "source": [
    "bin_colors = ['Red', 'Green', 'Blue', 'Yellow']\n",
    "\n",
    "print(bin_colors[1])"
   ]
  },
  {
   "cell_type": "markdown",
   "id": "c25778f0",
   "metadata": {},
   "source": [
    "* ___Срез списка___"
   ]
  },
  {
   "cell_type": "code",
   "execution_count": 7,
   "id": "17981717",
   "metadata": {},
   "outputs": [
    {
     "name": "stdout",
     "output_type": "stream",
     "text": [
      "['Red', 'Green']\n",
      "['Red', 'Green']\n",
      "['Blue', 'Yellow']\n"
     ]
    }
   ],
   "source": [
    "bin_colors = ['Red', 'Green', 'Blue', 'Yellow']\n",
    "\n",
    "print(bin_colors[0:2])\n",
    "print(bin_colors[:2])\n",
    "\n",
    "print(bin_colors[2:])"
   ]
  },
  {
   "cell_type": "markdown",
   "id": "b69a3b02",
   "metadata": {},
   "source": [
    "* ___Отрицательная индексация___"
   ]
  },
  {
   "cell_type": "code",
   "execution_count": 11,
   "id": "9bcc8511",
   "metadata": {},
   "outputs": [
    {
     "name": "stdout",
     "output_type": "stream",
     "text": [
      "Yellow\n",
      "['Red', 'Green', 'Blue']\n",
      "['Red', 'Green']\n",
      "['Blue']\n"
     ]
    }
   ],
   "source": [
    "bin_colors = ['Red', 'Green', 'Blue', 'Yellow']\n",
    "\n",
    "print(bin_colors[-1])\n",
    "print(bin_colors[:-1])\n",
    "print(bin_colors[:-2])\n",
    "print(bin_colors[-2:-1])"
   ]
  },
  {
   "cell_type": "markdown",
   "id": "d1a84396",
   "metadata": {},
   "source": [
    "* ___Вложенность___"
   ]
  },
  {
   "cell_type": "code",
   "execution_count": 17,
   "id": "4ec126b1",
   "metadata": {},
   "outputs": [
    {
     "name": "stdout",
     "output_type": "stream",
     "text": [
      "2\n",
      "[100, 200, 300]\n",
      "200\n",
      "300\n"
     ]
    }
   ],
   "source": [
    "a = [1, 2, [100, 200, 300], 6]\n",
    "\n",
    "print(a[1])\n",
    "print(a[2])\n",
    "print(a[2][1])\n",
    "print(max(a[2]))"
   ]
  },
  {
   "cell_type": "markdown",
   "id": "5c75e67f",
   "metadata": {},
   "source": [
    "* ___Итерация___"
   ]
  },
  {
   "cell_type": "code",
   "execution_count": 21,
   "id": "f14f2022",
   "metadata": {},
   "outputs": [
    {
     "name": "stdout",
     "output_type": "stream",
     "text": [
      "Red Square\n",
      "Green Square\n",
      "Blue Square\n",
      "Yellow Square\n"
     ]
    }
   ],
   "source": [
    "bin_colors = ['Red', 'Green', 'Blue', 'Yellow']\n",
    "\n",
    "for color in bin_colors:\n",
    "    print(f\"{color} Square\")"
   ]
  },
  {
   "cell_type": "markdown",
   "id": "5a57d886",
   "metadata": {},
   "source": [
    "### Лямбда-функции"
   ]
  },
  {
   "cell_type": "markdown",
   "id": "931fbb75",
   "metadata": {},
   "source": [
    "* ___Фильтрация данных___"
   ]
  },
  {
   "cell_type": "code",
   "execution_count": 66,
   "id": "4745773a",
   "metadata": {},
   "outputs": [
    {
     "name": "stdout",
     "output_type": "stream",
     "text": [
      "[200, 300, 1000]\n"
     ]
    }
   ],
   "source": [
    "arr = [-5, 200, 300, -10, 10, 1000]\n",
    "\n",
    "print(list(filter(lambda x: x > 100, arr)))"
   ]
  },
  {
   "cell_type": "markdown",
   "id": "e2408051",
   "metadata": {},
   "source": [
    "* ___Преобразование данных___"
   ]
  },
  {
   "cell_type": "code",
   "execution_count": 65,
   "id": "190e3079",
   "metadata": {
    "scrolled": true
   },
   "outputs": [
    {
     "name": "stdout",
     "output_type": "stream",
     "text": [
      "[121, 484, 1089, 1936, 3025]\n"
     ]
    }
   ],
   "source": [
    "arr = [11, 22, 33, 44,55]\n",
    "\n",
    "print(list(map(lambda x: x ** 2, arr)))"
   ]
  },
  {
   "cell_type": "markdown",
   "id": "e895e231",
   "metadata": {},
   "source": [
    "* ___Агрегирование данных___"
   ]
  },
  {
   "cell_type": "code",
   "execution_count": 72,
   "id": "faff354d",
   "metadata": {},
   "outputs": [
    {
     "name": "stdout",
     "output_type": "stream",
     "text": [
      "270\n",
      "270\n"
     ]
    }
   ],
   "source": [
    "from functools import reduce\n",
    "\n",
    "arr = [100, 122, 33, 4, 5, 6]\n",
    "\n",
    "def do_sum(x1, x2):\n",
    "    return x1 + x2\n",
    "\n",
    "x = reduce(do_sum, arr)\n",
    "\n",
    "print(x)\n",
    "print(sum(arr))"
   ]
  },
  {
   "cell_type": "markdown",
   "id": "ba518b72",
   "metadata": {},
   "source": [
    "### Функция range"
   ]
  },
  {
   "cell_type": "code",
   "execution_count": 78,
   "id": "1941511d",
   "metadata": {},
   "outputs": [
    {
     "name": "stdout",
     "output_type": "stream",
     "text": [
      "0 1 2 3 4 5\n"
     ]
    }
   ],
   "source": [
    "x = range(6)\n",
    "\n",
    "print(*x)"
   ]
  },
  {
   "cell_type": "code",
   "execution_count": 81,
   "id": "a83a88ae",
   "metadata": {},
   "outputs": [
    {
     "name": "stdout",
     "output_type": "stream",
     "text": [
      "3 5 7 9 11 13 15 17 19 21 23 25 27\n"
     ]
    }
   ],
   "source": [
    "odd_numbers = range(3, 29, 2)\n",
    "\n",
    "print(*odd_numbers)"
   ]
  },
  {
   "cell_type": "markdown",
   "id": "0c6b8653",
   "metadata": {},
   "source": [
    "### Кортеж"
   ]
  },
  {
   "cell_type": "code",
   "execution_count": 83,
   "id": "73a95d67",
   "metadata": {},
   "outputs": [
    {
     "name": "stdout",
     "output_type": "stream",
     "text": [
      "Green\n",
      "('Blue', 'Yellow')\n",
      "('Red', 'Green', 'Blue')\n"
     ]
    }
   ],
   "source": [
    "bin_colors=('Red','Green','Blue','Yellow')\n",
    "\n",
    "print(bin_colors[1])\n",
    "\n",
    "print(bin_colors[2:])\n",
    "print(bin_colors[:-1])\n"
   ]
  },
  {
   "cell_type": "code",
   "execution_count": 85,
   "id": "e63e4561",
   "metadata": {
    "scrolled": true
   },
   "outputs": [
    {
     "name": "stdout",
     "output_type": "stream",
     "text": [
      "2\n",
      "(100, 200, 300)\n",
      "200\n",
      "300\n"
     ]
    }
   ],
   "source": [
    "a = (1, 2, (100,200,300), 6)\n",
    "\n",
    "print(a[1])\n",
    "print(a[2])\n",
    "print(a[2][1])\n",
    "print(max(a[2]))"
   ]
  },
  {
   "cell_type": "markdown",
   "id": "b72fb9b1",
   "metadata": {},
   "source": [
    "### Словарь"
   ]
  },
  {
   "cell_type": "code",
   "execution_count": 99,
   "id": "b68a7b04",
   "metadata": {},
   "outputs": [
    {
     "name": "stdout",
     "output_type": "stream",
     "text": [
      "{'manual_colors': 'Yellow', 'approved_color': 'Green', 'refused_coor': 'Red'}\n"
     ]
    }
   ],
   "source": [
    "bin_colors = {\n",
    "    'manual_colors': 'Yellow',\n",
    "    'approved_color': 'Green',\n",
    "    'refused_coor': 'Red'\n",
    "}\n",
    "\n",
    "print(bin_colors)"
   ]
  },
  {
   "cell_type": "code",
   "execution_count": 100,
   "id": "474a2c68",
   "metadata": {},
   "outputs": [
    {
     "name": "stdout",
     "output_type": "stream",
     "text": [
      "Green\n",
      "Green\n"
     ]
    }
   ],
   "source": [
    "print(bin_colors.get('approved_color'))\n",
    "print(bin_colors['approved_color'])"
   ]
  },
  {
   "cell_type": "code",
   "execution_count": 102,
   "id": "6e41387c",
   "metadata": {},
   "outputs": [
    {
     "name": "stdout",
     "output_type": "stream",
     "text": [
      "{'manual_colors': 'Yellow', 'approved_color': 'Purple', 'refused_coor': 'Red'}\n"
     ]
    }
   ],
   "source": [
    "bin_colors['approved_color'] = 'Purple'\n",
    "\n",
    "print(bin_colors)"
   ]
  },
  {
   "cell_type": "markdown",
   "id": "0b23c285",
   "metadata": {},
   "source": [
    "### Множество"
   ]
  },
  {
   "cell_type": "code",
   "execution_count": 104,
   "id": "1c8ab98f",
   "metadata": {},
   "outputs": [
    {
     "name": "stdout",
     "output_type": "stream",
     "text": [
      "{'leaves', 'grass'}\n"
     ]
    }
   ],
   "source": [
    "green = {'grass', 'leaves'}\n",
    "\n",
    "print(green)    "
   ]
  },
  {
   "cell_type": "code",
   "execution_count": 106,
   "id": "269a4596",
   "metadata": {},
   "outputs": [
    {
     "name": "stdout",
     "output_type": "stream",
     "text": [
      "{'leaves', 'grass'}\n"
     ]
    }
   ],
   "source": [
    "green = {'grass', 'leaves', 'leaves'}\n",
    "\n",
    "print(green)"
   ]
  },
  {
   "cell_type": "markdown",
   "id": "86435598",
   "metadata": {},
   "source": [
    "Рассмотрим операции над множествами. Для этого возьмем два множества:\n",
    "* множество с именем yellow, в котором содержатся вещи желтого цвета;\n",
    "* множество с именем red, в котором содержатся вещи красного цвета.\n",
    "\n",
    "Обратите внимание, что некоторые вещи содержатся в обоих множествах. Эти два множества и их взаимосвязь можно представить с помощью диаграммы Венна (рис. 2.3)."
   ]
  },
  {
   "attachments": {
    "image.png": {
     "image/png": "[encoded data removed]"
    }
   },
   "cell_type": "markdown",
   "id": "101f45e4",
   "metadata": {},
   "source": [
    " ![image.png](attachment:image.png)\n",
    " \n",
    " _Рис. 2.3 (dandelions — одуванчики, leaves — листья, fire hydrant — пожарный кран,\n",
    "rose — роза, blood — кровь)_"
   ]
  },
  {
   "cell_type": "code",
   "execution_count": 1,
   "id": "af43e903",
   "metadata": {},
   "outputs": [
    {
     "name": "stdout",
     "output_type": "stream",
     "text": [
      "{'rose', 'blood', 'leaves', 'dendelions', 'fire hydrant'}\n",
      "{'rose', 'blood', 'leaves', 'dendelions', 'fire hydrant'}\n",
      "{'fire hydrant', 'leaves'}\n",
      "{'fire hydrant', 'leaves'}\n"
     ]
    }
   ],
   "source": [
    "yellow = {'dendelions', 'fire hydrant', 'leaves'}\n",
    "red = {'fire hydrant', 'leaves', 'rose', 'blood'}\n",
    "\n",
    "print(yellow | red)  # union\n",
    "print(yellow.union(red))\n",
    "print(yellow & red)  # intersection\n",
    "print(yellow.intersection(red))"
   ]
  },
  {
   "cell_type": "markdown",
   "id": "898463e9",
   "metadata": {},
   "source": [
    "### DataFrame"
   ]
  },
  {
   "cell_type": "code",
   "execution_count": null,
   "id": "aa3c8934",
   "metadata": {},
   "outputs": [],
   "source": [
    " "
   ]
  }
 ],
 "metadata": {
  "kernelspec": {
   "display_name": "Python 3 (ipykernel)",
   "language": "python",
   "name": "python3"
  },
  "language_info": {
   "codemirror_mode": {
    "name": "ipython",
    "version": 3
   },
   "file_extension": ".py",
   "mimetype": "text/x-python",
   "name": "python",
   "nbconvert_exporter": "python",
   "pygments_lexer": "ipython3",
   "version": "3.10.9"
  }
 },
 "nbformat": 4,
 "nbformat_minor": 5
}
