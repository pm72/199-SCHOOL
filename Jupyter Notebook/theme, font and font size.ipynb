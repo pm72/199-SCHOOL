{
 "cells": [
  {
   "cell_type": "code",
   "execution_count": 6,
   "id": "c2fb22b9",
   "metadata": {},
   "outputs": [],
   "source": [
    "!jt -t oceans16 -f ubuntu -fs 12 -ofs 12"
   ]
  },
  {
   "cell_type": "code",
   "execution_count": 4,
   "id": "22ec0135",
   "metadata": {},
   "outputs": [],
   "source": [
    "!jt -t grade3 -f ubuntu -fs 12 -ofs 12"
   ]
  },
  {
   "cell_type": "code",
   "execution_count": 3,
   "id": "4717ee4b",
   "metadata": {},
   "outputs": [],
   "source": [
    "!jt -f ubuntu -fs 14 -ofs 14"
   ]
  }
 ],
 "metadata": {
  "kernelspec": {
   "display_name": "Python 3",
   "language": "python",
   "name": "python3"
  },
  "language_info": {
   "codemirror_mode": {
    "name": "ipython",
    "version": 3
   },
   "file_extension": ".py",
   "mimetype": "text/x-python",
   "name": "python",
   "nbconvert_exporter": "python",
   "pygments_lexer": "ipython3",
   "version": "3.8.8"
  }
 },
 "nbformat": 4,
 "nbformat_minor": 5
}
