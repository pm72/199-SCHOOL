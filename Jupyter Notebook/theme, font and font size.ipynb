{
 "cells": [
  {
   "cell_type": "code",
   "execution_count": null,
   "id": "03090271",
   "metadata": {},
   "outputs": [],
   "source": [
    "# cmd\n",
    "pip install -i https://pypi.doubanio.com/simple/ jupyterthemes\n",
    "jt -l"
   ]
  },
  {
   "cell_type": "code",
   "execution_count": null,
   "id": "c2fb22b9",
   "metadata": {
    "scrolled": true
   },
   "outputs": [],
   "source": [
    "# cmd\n",
    "!jt -t oceans16 -f ubuntu -fs 12 -ofs 12"
   ]
  },
  {
   "cell_type": "code",
   "execution_count": null,
   "id": "22ec0135",
   "metadata": {},
   "outputs": [],
   "source": [
    "!jt -t grade3 -f ubuntu -fs 12 -ofs 12"
   ]
  },
  {
   "cell_type": "code",
   "execution_count": null,
   "id": "4717ee4b",
   "metadata": {},
   "outputs": [],
   "source": [
    "!jt -f ubuntu -fs 14 -ofs 14"
   ]
  }
 ],
 "metadata": {
  "kernelspec": {
   "display_name": "Python 3 (ipykernel)",
   "language": "python",
   "name": "python3"
  },
  "language_info": {
   "codemirror_mode": {
    "name": "ipython",
    "version": 3
   },
   "file_extension": ".py",
   "mimetype": "text/x-python",
   "name": "python",
   "nbconvert_exporter": "python",
   "pygments_lexer": "ipython3",
   "version": "3.10.9"
  }
 },
 "nbformat": 4,
 "nbformat_minor": 5
}
