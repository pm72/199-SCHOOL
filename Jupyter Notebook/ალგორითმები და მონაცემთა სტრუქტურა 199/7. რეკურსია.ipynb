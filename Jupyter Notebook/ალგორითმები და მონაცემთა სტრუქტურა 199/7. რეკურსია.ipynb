{
 "cells": [
  {
   "cell_type": "markdown",
   "id": "2a8cf612",
   "metadata": {},
   "source": [
    "# რეკურსია"
   ]
  },
  {
   "cell_type": "code",
   "execution_count": 2,
   "id": "976365f8",
   "metadata": {},
   "outputs": [],
   "source": [
    "def matryoshka(n):\n",
    "  if n == 1:\n",
    "    print(\"The Smallest matryoshka\")\n",
    "  else:\n",
    "    print(\"Top matryoshka n =\", n)\n",
    "    matryoshka(n - 1)\n",
    "    print(\"Low matryoshka n =\", n)"
   ]
  },
  {
   "cell_type": "code",
   "execution_count": 3,
   "id": "f986b521",
   "metadata": {
    "scrolled": true
   },
   "outputs": [
    {
     "name": "stdout",
     "output_type": "stream",
     "text": [
      "Top matryoshka n = 5\n",
      "Top matryoshka n = 4\n",
      "Top matryoshka n = 3\n",
      "Top matryoshka n = 2\n",
      "The Smallest matryoshka\n",
      "Low matryoshka n = 2\n",
      "Low matryoshka n = 3\n",
      "Low matryoshka n = 4\n",
      "Low matryoshka n = 5\n"
     ]
    }
   ],
   "source": [
    "matryoshka(5)"
   ]
  },
  {
   "cell_type": "markdown",
   "id": "f16fb755",
   "metadata": {},
   "source": [
    " ### ფაქტორიალი"
   ]
  },
  {
   "cell_type": "code",
   "execution_count": 11,
   "id": "a7f8a44e",
   "metadata": {},
   "outputs": [],
   "source": [
    "def fact(n: int):\n",
    "  assert n >= 0, \"Execute only positives...\"\n",
    "  if n <= 1:\n",
    "    return 1\n",
    "  \n",
    "  return n * fact(n - 1)"
   ]
  },
  {
   "cell_type": "code",
   "execution_count": 18,
   "id": "927dfeb2",
   "metadata": {},
   "outputs": [
    {
     "data": {
      "text/plain": [
       "120"
      ]
     },
     "execution_count": 18,
     "metadata": {},
     "output_type": "execute_result"
    }
   ],
   "source": [
    "fact(5)"
   ]
  },
  {
   "cell_type": "code",
   "execution_count": null,
   "id": "f7733bb1",
   "metadata": {},
   "outputs": [],
   "source": []
  }
 ],
 "metadata": {
  "kernelspec": {
   "display_name": "Python 3 (ipykernel)",
   "language": "python",
   "name": "python3"
  },
  "language_info": {
   "codemirror_mode": {
    "name": "ipython",
    "version": 3
   },
   "file_extension": ".py",
   "mimetype": "text/x-python",
   "name": "python",
   "nbconvert_exporter": "python",
   "pygments_lexer": "ipython3",
   "version": "3.10.9"
  }
 },
 "nbformat": 4,
 "nbformat_minor": 5
}
