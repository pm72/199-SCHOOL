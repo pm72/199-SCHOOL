{
 "cells": [
  {
   "cell_type": "code",
   "execution_count": 10,
   "id": "df006791",
   "metadata": {},
   "outputs": [],
   "source": [
    "F = {\n",
    "  'C:': {\n",
    "    'Python311': ['python.exe', 'python.ini'],\n",
    "    'Program Files': {\n",
    "      'Java': ['README.txt', 'Welcome.html', 'java.exe'],\n",
    "      'MATLAB': ['matlab.bat', 'matlab.exe', 'mcc.bat']\n",
    "    },\n",
    "    'Windows': {\n",
    "      'System32': ['acledit.dll', 'aclui.dll', 'zipfldr.dll']\n",
    "    }\n",
    "  }\n",
    "}"
   ]
  },
  {
   "cell_type": "code",
   "execution_count": 23,
   "id": "18ede80d",
   "metadata": {},
   "outputs": [
    {
     "name": "stdout",
     "output_type": "stream",
     "text": [
      " C:\n",
      "   Python311\n",
      "     python.exe\n",
      "     python.ini\n",
      "   Program Files\n",
      "     Java\n",
      "       README.txt\n",
      "       Welcome.html\n",
      "       java.exe\n",
      "     MATLAB\n",
      "       matlab.bat\n",
      "       matlab.exe\n",
      "       mcc.bat\n",
      "   Windows\n",
      "     System32\n",
      "       acledit.dll\n",
      "       aclui.dll\n",
      "       zipfldr.dll\n"
     ]
    }
   ],
   "source": [
    "def get_files(path, depth=0):\n",
    "  for f in path:\n",
    "    print(' ' * depth, f)\n",
    "    \n",
    "    if type(path[f]) == dict:\n",
    "      get_files(path[f], depth + 2)\n",
    "    else:\n",
    "      print(' ' * (depth + 2), f'\\n{\" \" * (depth + 3)}'.join(path[f]))\n",
    "\n",
    "    \n",
    "# =============\n",
    "get_files(F)"
   ]
  }
 ],
 "metadata": {
  "kernelspec": {
   "display_name": "Python 3 (ipykernel)",
   "language": "python",
   "name": "python3"
  },
  "language_info": {
   "codemirror_mode": {
    "name": "ipython",
    "version": 3
   },
   "file_extension": ".py",
   "mimetype": "text/x-python",
   "name": "python",
   "nbconvert_exporter": "python",
   "pygments_lexer": "ipython3",
   "version": "3.10.9"
  }
 },
 "nbformat": 4,
 "nbformat_minor": 5
}
