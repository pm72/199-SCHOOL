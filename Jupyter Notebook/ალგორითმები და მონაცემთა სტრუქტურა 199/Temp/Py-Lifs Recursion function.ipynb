{
 "cells": [
  {
   "cell_type": "code",
   "execution_count": 17,
   "id": "affa7468",
   "metadata": {},
   "outputs": [
    {
     "name": "stdout",
     "output_type": "stream",
     "text": [
      "Enter an array: \n",
      "7 8 2 4\n"
     ]
    },
    {
     "data": {
      "text/plain": [
       "[4, 2, 2, 4]"
      ]
     },
     "execution_count": 17,
     "metadata": {},
     "output_type": "execute_result"
    }
   ],
   "source": [
    "def my_reverse(n):\n",
    "  if n > 0:\n",
    "    my_reverse(n - 1)\n",
    "    arr[n-1] = arr[-n]\n",
    "\n",
    "\n",
    "print(\"Enter an array: \")\n",
    "arr = list(map(int, input().split()))\n",
    "n = len(arr)\n",
    "\n",
    "my_reverse(n)\n",
    "\n",
    "arr"
   ]
  }
 ],
 "metadata": {
  "kernelspec": {
   "display_name": "Python 3 (ipykernel)",
   "language": "python",
   "name": "python3"
  },
  "language_info": {
   "codemirror_mode": {
    "name": "ipython",
    "version": 3
   },
   "file_extension": ".py",
   "mimetype": "text/x-python",
   "name": "python",
   "nbconvert_exporter": "python",
   "pygments_lexer": "ipython3",
   "version": "3.10.9"
  }
 },
 "nbformat": 4,
 "nbformat_minor": 5
}
