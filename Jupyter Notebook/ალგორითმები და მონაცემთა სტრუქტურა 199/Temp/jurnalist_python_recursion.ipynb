{
 "cells": [
  {
   "cell_type": "code",
   "execution_count": 22,
   "id": "c96d0081",
   "metadata": {},
   "outputs": [],
   "source": [
    "data = {\n",
    "  'url': 'https://clearspending.ge/contract/2772758941200014/',\n",
    "  'contracts': {'number': 235678, 'date': '2023-04-16'},\n",
    "  'sum': {'total': 456_000, 'currency': 'GEL'},\n",
    "}"
   ]
  },
  {
   "cell_type": "code",
   "execution_count": 23,
   "id": "a664da25",
   "metadata": {},
   "outputs": [
    {
     "name": "stdout",
     "output_type": "stream",
     "text": [
      "2023-04-16\n"
     ]
    }
   ],
   "source": [
    "date = data.get('contracts')\n",
    "if date is not None:\n",
    "  print(date.get('date'))"
   ]
  },
  {
   "cell_type": "code",
   "execution_count": 43,
   "id": "3851634c",
   "metadata": {},
   "outputs": [],
   "source": [
    "def recurs_find_key(key, obj):\n",
    "  if key in obj:\n",
    "    return obj.get(key)\n",
    "  \n",
    "  for k, v in obj.items():\n",
    "    if type(v) == dict:\n",
    "      result = recurs_find_key(key, v)\n",
    "      if result is not None:\n",
    "        return result"
   ]
  },
  {
   "cell_type": "code",
   "execution_count": 45,
   "id": "ae42f7b8",
   "metadata": {
    "scrolled": true
   },
   "outputs": [
    {
     "name": "stdout",
     "output_type": "stream",
     "text": [
      "235678\n"
     ]
    }
   ],
   "source": [
    "print(recurs_find_key('number', data))"
   ]
  },
  {
   "cell_type": "code",
   "execution_count": null,
   "id": "7a298a7b",
   "metadata": {},
   "outputs": [],
   "source": [
    "data = {\n",
    "  'url': 'https://clearspending.ge/contract/2772758941200014/',\n",
    "  'contracts': {'number': 235678, 'date': '2023-04-16'},\n",
    "  'sum': {'total': 456_000, 'currency': 'GEL'},\n",
    "}"
   ]
  },
  {
   "cell_type": "code",
   "execution_count": 92,
   "id": "1473837a",
   "metadata": {},
   "outputs": [],
   "source": [
    "def find_key(key, obj):\n",
    "  if key in obj:\n",
    "    return obj.get(key)\n",
    "  \n",
    "  for v in obj.values():\n",
    "    if type(v) == dict:\n",
    "      result = find_key(key, v)\n",
    "      \n",
    "      if result:\n",
    "        return result"
   ]
  },
  {
   "cell_type": "code",
   "execution_count": 96,
   "id": "6bfa7e62",
   "metadata": {
    "scrolled": true
   },
   "outputs": [
    {
     "name": "stdout",
     "output_type": "stream",
     "text": [
      "2023-04-16\n"
     ]
    }
   ],
   "source": [
    "print(find_key('date', data))"
   ]
  }
 ],
 "metadata": {
  "kernelspec": {
   "display_name": "Python 3 (ipykernel)",
   "language": "python",
   "name": "python3"
  },
  "language_info": {
   "codemirror_mode": {
    "name": "ipython",
    "version": 3
   },
   "file_extension": ".py",
   "mimetype": "text/x-python",
   "name": "python",
   "nbconvert_exporter": "python",
   "pygments_lexer": "ipython3",
   "version": "3.10.9"
  }
 },
 "nbformat": 4,
 "nbformat_minor": 5
}
