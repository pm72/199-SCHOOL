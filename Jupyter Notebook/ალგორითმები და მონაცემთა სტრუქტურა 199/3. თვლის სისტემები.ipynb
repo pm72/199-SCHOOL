{
 "cells": [
  {
   "cell_type": "markdown",
   "id": "b38ee163",
   "metadata": {},
   "source": [
    "# თვლის სისტემები"
   ]
  },
  {
   "cell_type": "markdown",
   "id": "40e8f55b",
   "metadata": {},
   "source": [
    "გადავიყვანოთ რიცხვი თვლის ერთი სისტემიდან მეორეში."
   ]
  },
  {
   "cell_type": "code",
   "execution_count": null,
   "id": "18b93389",
   "metadata": {
    "scrolled": true
   },
   "outputs": [],
   "source": [
    "base = 2\n",
    "x = int(eval(input(\"Enter a number: \")))\n",
    "\n",
    "while x > 0:\n",
    "    digit = x % base\n",
    "    print(digit, end='')\n",
    "    x //= base"
   ]
  },
  {
   "cell_type": "code",
   "execution_count": null,
   "id": "58db2efb",
   "metadata": {
    "scrolled": true
   },
   "outputs": [],
   "source": [
    "base = 2\n",
    "number = ''\n",
    "x = int(eval(input(\"Enter a number: \")))\n",
    "\n",
    "while x > 0:\n",
    "    number  += str(x % base)\n",
    "    x //= base\n",
    "\n",
    "number = int(number[::-1])\n",
    "print(number)"
   ]
  },
  {
   "cell_type": "code",
   "execution_count": null,
   "id": "7139a9a9",
   "metadata": {},
   "outputs": [],
   "source": [
    "base = 7\n",
    "arr = []\n",
    "x = int(eval(input(\"Enter a number: \")))\n",
    "\n",
    "while x > 0:\n",
    "    arr.append(x % base)\n",
    "    x //= base\n",
    "\n",
    "arr.reverse()\n",
    "\n",
    "x = 0\n",
    "for i in arr:\n",
    "    x = x * 10 + i\n",
    "\n",
    "x"
   ]
  }
 ],
 "metadata": {
  "kernelspec": {
   "display_name": "Python 3",
   "language": "python",
   "name": "python3"
  },
  "language_info": {
   "codemirror_mode": {
    "name": "ipython",
    "version": 3
   },
   "file_extension": ".py",
   "mimetype": "text/x-python",
   "name": "python",
   "nbconvert_exporter": "python",
   "pygments_lexer": "ipython3",
   "version": "3.8.8"
  }
 },
 "nbformat": 4,
 "nbformat_minor": 5
}
