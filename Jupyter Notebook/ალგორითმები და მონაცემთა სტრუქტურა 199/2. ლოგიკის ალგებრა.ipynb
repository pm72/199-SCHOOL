{
 "cells": [
  {
   "cell_type": "markdown",
   "id": "db774be1",
   "metadata": {},
   "source": [
    "# ლოგიკის ალგებრა"
   ]
  },
  {
   "cell_type": "markdown",
   "id": "e2b23718",
   "metadata": {},
   "source": [
    "### ჭეშმარიტობის ცხრილი"
   ]
  },
  {
   "cell_type": "markdown",
   "id": "f82fa20d",
   "metadata": {},
   "source": [
    "```\n",
    "True / False   ===> type bool\n",
    "\n",
    "   x    |    y    |  x and y  |  x or y  | x xor y |   x   |  not x\n",
    "-----------------------------------------------------------------------\n",
    " False  |  False  |   False   |  False   |  False  | False |  true    \n",
    " False  |  True   |   False   |  True    |  True   | True  |  False\n",
    " True   |  False  |   False   |  True    |  True   |\n",
    " True   |  True   |   True    |  False   |  False  |\n",
    "\n",
    "                  f(x)      f(x)     f(x)            f(x)\n",
    "  x   |   y   |  x * y  |  x + y  | x xor y |  x  |  not x\n",
    "------------------------------------------------------------\n",
    "  0   |   0   |    0    |    0    |    0    |  0  |   1\n",
    "  0   |   1   |    0    |    1    |    1    |  1  |   0\n",
    "  1   |   0   |    0    |    1    |    1\n",
    "  1   |   1   |    1    |    1    |    0\n",
    "  \n",
    "  0/1  0/1\n",
    "  0/1  0/1\n",
    "  ...\n",
    "```\n",
    "\n",
    "```2 x 2 x 2 x 2 = ``` $ 2^{2^2} = 16 $ <br>\n",
    "$ N_{ფუნქ.3x} = 2^{2^3} = 256 $"
   ]
  },
  {
   "cell_type": "markdown",
   "id": "690a96c9",
   "metadata": {},
   "source": [
    "### ლოგიკური გამოსახულება"
   ]
  },
  {
   "cell_type": "code",
   "execution_count": null,
   "id": "cd81abda",
   "metadata": {
    "scrolled": false
   },
   "outputs": [],
   "source": [
    "# შეტანილი რიცხვებიდან რომელიმე 10-ის ჯერადია\n",
    "\n",
    "flag = False\n",
    "N = 5\n",
    "\n",
    "for i in range(N):\n",
    "    x = int(eval(input(\"Enter a number: \")))\n",
    "    \n",
    "#     if x % 10 == 0:\n",
    "#         flag = True\n",
    "    flag = (x % 10 == 0) or flag\n",
    "\n",
    "print(flag)"
   ]
  },
  {
   "cell_type": "code",
   "execution_count": null,
   "id": "d819d66f",
   "metadata": {
    "scrolled": true
   },
   "outputs": [],
   "source": [
    "# შეტანილი რიცხვებიდან ყველა 10-ის ჯერადია\n",
    "\n",
    "flag = True\n",
    "N = 5\n",
    "\n",
    "for i in range(N):\n",
    "    x = int(eval(input(\"Enter a number: \")))\n",
    "    flag = flag and (x % 10 == 0)\n",
    "\n",
    "print(flag)"
   ]
  },
  {
   "cell_type": "markdown",
   "id": "80403c1c",
   "metadata": {},
   "source": [
    "### ჩადგმული და მიმდევრობითი `if`-ები"
   ]
  },
  {
   "cell_type": "code",
   "execution_count": null,
   "id": "2bc2bab3",
   "metadata": {
    "scrolled": true
   },
   "outputs": [],
   "source": [
    "დავბეჭდოთ \"YES\" თუ რიცხვი ტოლია 1-ის ან 2-ის"
   ]
  },
  {
   "cell_type": "code",
   "execution_count": null,
   "id": "e49cfc97",
   "metadata": {},
   "outputs": [],
   "source": [
    "x = int(eval(input(\"Enter a number: \")))\n",
    "if x == 1:\n",
    "    print(\"YES\")\n",
    "    \n",
    "if x == 2:\n",
    "    print(\"YES\")"
   ]
  },
  {
   "cell_type": "code",
   "execution_count": null,
   "id": "f34d5e3f",
   "metadata": {},
   "outputs": [],
   "source": [
    "x = int(eval(input(\"Enter a number: \")))\n",
    "if x == 1 or x == 2:\n",
    "    print(\"YES\")"
   ]
  },
  {
   "cell_type": "markdown",
   "id": "5a60a209",
   "metadata": {},
   "source": [
    "დავბეჭდოთ \"YES\" თუ რიცხვი იყოფა 2-ზე ან 3-ზე"
   ]
  },
  {
   "cell_type": "code",
   "execution_count": null,
   "id": "8d92db2c",
   "metadata": {},
   "outputs": [],
   "source": [
    "x = int(eval(input(\"Enter a number: \")))\n",
    "if x % 2 == 0:\n",
    "    if x % 3 == 0:\n",
    "        print(\"YES\")"
   ]
  },
  {
   "cell_type": "code",
   "execution_count": null,
   "id": "0f6a1308",
   "metadata": {},
   "outputs": [],
   "source": [
    "x = int(eval(input(\"Enter a number: \")))\n",
    "if x % 2 == 0 and x % 3 == 0:\n",
    "    print(\"YES\")"
   ]
  },
  {
   "cell_type": "markdown",
   "id": "b159e2a7",
   "metadata": {},
   "source": [
    "ზედა ორი ფრაგმენტი იდენტურია იმ შემთხვევაში, თუ არ გამოვიყენებთ else-ს"
   ]
  },
  {
   "cell_type": "code",
   "execution_count": null,
   "id": "387bd7bf",
   "metadata": {},
   "outputs": [],
   "source": [
    "x = int(eval(input(\"Enter a number: \")))\n",
    "if x % 2 == 0 and x % 3 == 0:\n",
    "    print(\"YES\")\n",
    "else:\n",
    "    print(\"Not divide by 2 or by 3 or both\")"
   ]
  },
  {
   "cell_type": "code",
   "execution_count": null,
   "id": "c10d4c9f",
   "metadata": {},
   "outputs": [],
   "source": [
    "x = int(eval(input(\"Enter a number: \")))\n",
    "if x % 2 == 0:\n",
    "    if x % 3 == 0:\n",
    "        print(\"YES\")\n",
    "else:\n",
    "    print(\"Not divide by 2 or by 3 or both\")"
   ]
  },
  {
   "cell_type": "markdown",
   "id": "b14543f5",
   "metadata": {},
   "source": [
    "### კასკადური შედარების კონსტრუქციები"
   ]
  },
  {
   "cell_type": "markdown",
   "id": "9e93ae09",
   "metadata": {},
   "source": [
    "მოცემული რიცხვი. დავბეჭდოთ `A` თუ რიცხვი უარყოფითია,\n",
    "\n",
    "`B`: 0 <= რიცხვი < 5,\n",
    "\n",
    "`C` : 5 <= რიცხვი < 10\n",
    "\n",
    "და წინააღმდეგ შემთხვევაში: `D`"
   ]
  },
  {
   "cell_type": "code",
   "execution_count": null,
   "id": "32742254",
   "metadata": {
    "collapsed": true
   },
   "outputs": [],
   "source": [
    "x = int(eval(input(\"Enter a number: \")))\n",
    "message = ''\n",
    "if x < 0:\n",
    "    message = 'A'\n",
    "elif x < 5:\n",
    "    message = 'B'\n",
    "elif x < 10:\n",
    "    message = 'C'\n",
    "else:\n",
    "    message = 'D'\n",
    "\n",
    "print(message)"
   ]
  },
  {
   "cell_type": "markdown",
   "id": "9a4bdd14",
   "metadata": {},
   "source": [
    "მოცემული წერტილის კოორდინატები `(x, y)`. უნდა გავარკვოთ საკოორდინატო სიბრტყის რომელ მეოთხედს ეკუთვნის წერტილი. ითვლება, რომ `x` და `y` ნულისგან განსხვავებულია (არ მდებარეობს საკოორდინატო ღერძებზე)."
   ]
  },
  {
   "cell_type": "code",
   "execution_count": 32,
   "id": "f51024e5",
   "metadata": {
    "collapsed": true
   },
   "outputs": [
    {
     "name": "stdout",
     "output_type": "stream",
     "text": [
      "Enter x and y coordinates for point: 2.57, -5.65\n",
      "The point is located in the IV quarter\n"
     ]
    }
   ],
   "source": [
    "x, y = eval(input(\"Enter x and y coordinates for point: \"))\n",
    "message = ''\n",
    "\n",
    "if y > 0:\n",
    "    if x > 0:\n",
    "        message = 'I'\n",
    "    else:\n",
    "        message = 'II'\n",
    "else:\n",
    "    if x < 0:\n",
    "        message = 'III'\n",
    "    else:\n",
    "        message = 'IV'\n",
    "\n",
    "print(f\"The point is located in the {message} quarter\")"
   ]
  }
 ],
 "metadata": {
  "kernelspec": {
   "display_name": "Python 3",
   "language": "python",
   "name": "python3"
  },
  "language_info": {
   "codemirror_mode": {
    "name": "ipython",
    "version": 3
   },
   "file_extension": ".py",
   "mimetype": "text/x-python",
   "name": "python",
   "nbconvert_exporter": "python",
   "pygments_lexer": "ipython3",
   "version": "3.8.8"
  }
 },
 "nbformat": 4,
 "nbformat_minor": 5
}
