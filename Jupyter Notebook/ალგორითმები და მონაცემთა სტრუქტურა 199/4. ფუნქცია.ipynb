{
 "cells": [
  {
   "cell_type": "markdown",
   "id": "6db55f24",
   "metadata": {},
   "source": [
    "# ფუნქცია"
   ]
  },
  {
   "cell_type": "markdown",
   "id": "1976df81",
   "metadata": {},
   "source": [
    "#### უპარამეტრებო ფუნქცია"
   ]
  },
  {
   "cell_type": "code",
   "execution_count": null,
   "id": "781139a2",
   "metadata": {
    "scrolled": false
   },
   "outputs": [],
   "source": [
    "def hello():\n",
    "    print(\"Hello, world!..\")\n",
    "\n",
    "hello()\n",
    "f = hello\n",
    "f()"
   ]
  },
  {
   "cell_type": "markdown",
   "id": "6b32196c",
   "metadata": {},
   "source": [
    "#### პარამეტრ(ებ)იანი ფუნქცია\n",
    "\n",
    "ფუნქციაში პარამეტრის გადაცემა აუცილებელია"
   ]
  },
  {
   "cell_type": "code",
   "execution_count": null,
   "id": "bf77ca38",
   "metadata": {},
   "outputs": [],
   "source": [
    "def hello(name):\n",
    "    print(\"Hello,\", name)\n",
    "\n",
    "hello('John')\n",
    "hello(\"Alice\")\n",
    "hello()"
   ]
  },
  {
   "cell_type": "markdown",
   "id": "8a9c06e9",
   "metadata": {},
   "source": [
    "#### „არასავალდებულო“ პარამეტრ(ებ)ი\n",
    "\n",
    "ფუნქციში პარამეტრი არსებობს, მაგრამ შეიძლება ეს ფუნქცია გამოვიძახოთ როგორც უპარამეტრებო, არ გადავცეთ პარამეტრ(ებ)ი"
   ]
  },
  {
   "cell_type": "code",
   "execution_count": null,
   "id": "85c96fce",
   "metadata": {},
   "outputs": [],
   "source": [
    "def hello(name='world'):\n",
    "    print(\"hello,\", name)\n",
    "\n",
    "hello()\n",
    "hello('John')\n",
    "hello(\"Alice Green\")"
   ]
  },
  {
   "cell_type": "markdown",
   "id": "8dd5c551",
   "metadata": {},
   "source": [
    "ფუნქციამ შეიძლება დააბრუნოს აზრობრივი მნიშვნელობა. `python`-ში ფუნქცია ყოველთვის აბრუნებს რაიმე მნიშვნელობას. მაგ: `None` (ყველა ვარინტში), რაიმე რიცხვი, სტრიქონი, სიმრავლე და ა.შ. დაბრუნების ოპერატორია `return`"
   ]
  },
  {
   "cell_type": "code",
   "execution_count": null,
   "id": "b6671188",
   "metadata": {},
   "outputs": [],
   "source": [
    "def max2(x, y):\n",
    "    if x > y:\n",
    "        return x\n",
    "    return y\n",
    "\n",
    "max2(15, 58)"
   ]
  },
  {
   "cell_type": "code",
   "execution_count": null,
   "id": "da7a0d2d",
   "metadata": {},
   "outputs": [],
   "source": [
    "def max2(x, y):\n",
    "   return x if x > y else y\n",
    "\n",
    "max2(15, 58)"
   ]
  },
  {
   "cell_type": "code",
   "execution_count": null,
   "id": "c9bac160",
   "metadata": {},
   "outputs": [],
   "source": [
    "def max3(x, y, z):\n",
    "    return max2(x, max2(y, z))"
   ]
  },
  {
   "cell_type": "code",
   "execution_count": null,
   "id": "ac0a5e96",
   "metadata": {},
   "outputs": [],
   "source": [
    "max3(24, 37, 21)"
   ]
  },
  {
   "cell_type": "code",
   "execution_count": null,
   "id": "128d1d5c",
   "metadata": {},
   "outputs": [],
   "source": [
    "max3(5, 12.7, 8)"
   ]
  },
  {
   "cell_type": "code",
   "execution_count": null,
   "id": "fdb973fe",
   "metadata": {},
   "outputs": [],
   "source": [
    "max3(5.8, 2.78, 11.36)"
   ]
  },
  {
   "cell_type": "code",
   "execution_count": null,
   "id": "a22e6d68",
   "metadata": {
    "scrolled": true
   },
   "outputs": [],
   "source": [
    "max3('ab', 'abc', 'abd')"
   ]
  },
  {
   "cell_type": "markdown",
   "id": "8cc6f162",
   "metadata": {},
   "source": [
    "Duck typing"
   ]
  },
  {
   "cell_type": "code",
   "execution_count": null,
   "id": "1348fb7b",
   "metadata": {},
   "outputs": [],
   "source": [
    "def hello_separated(name='world', separator='_'):\n",
    "    print(\"Hello\", name, sep=separator)"
   ]
  },
  {
   "cell_type": "code",
   "execution_count": null,
   "id": "ef16a231",
   "metadata": {},
   "outputs": [],
   "source": [
    "hello_separated('John')"
   ]
  },
  {
   "cell_type": "code",
   "execution_count": null,
   "id": "68c19718",
   "metadata": {},
   "outputs": [],
   "source": [
    "hello_separated('John', '***')"
   ]
  },
  {
   "cell_type": "code",
   "execution_count": null,
   "id": "a07816ff",
   "metadata": {},
   "outputs": [],
   "source": [
    "hello_separated(separator='***')"
   ]
  },
  {
   "cell_type": "code",
   "execution_count": null,
   "id": "69d29e58",
   "metadata": {},
   "outputs": [],
   "source": [
    "hello_separated(separator='___', name='Alice')"
   ]
  },
  {
   "cell_type": "code",
   "execution_count": null,
   "id": "863925e7",
   "metadata": {},
   "outputs": [],
   "source": []
  }
 ],
 "metadata": {
  "kernelspec": {
   "display_name": "Python 3",
   "language": "python",
   "name": "python3"
  },
  "language_info": {
   "codemirror_mode": {
    "name": "ipython",
    "version": 3
   },
   "file_extension": ".py",
   "mimetype": "text/x-python",
   "name": "python",
   "nbconvert_exporter": "python",
   "pygments_lexer": "ipython3",
   "version": "3.8.8"
  }
 },
 "nbformat": 4,
 "nbformat_minor": 5
}
