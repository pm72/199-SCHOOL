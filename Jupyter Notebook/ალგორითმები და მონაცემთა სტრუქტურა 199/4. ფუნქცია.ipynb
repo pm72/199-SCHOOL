{
 "cells": [
  {
   "cell_type": "markdown",
   "id": "6db55f24",
   "metadata": {},
   "source": [
    "# ფუნქცია"
   ]
  },
  {
   "cell_type": "markdown",
   "id": "1976df81",
   "metadata": {},
   "source": [
    "#### უპარამეტრებო ფუნქცია"
   ]
  },
  {
   "cell_type": "code",
   "execution_count": 1,
   "id": "781139a2",
   "metadata": {
    "scrolled": false
   },
   "outputs": [
    {
     "name": "stdout",
     "output_type": "stream",
     "text": [
      "Hello, world!..\n",
      "Hello, world!..\n"
     ]
    }
   ],
   "source": [
    "def hello():\n",
    "    print(\"Hello, world!..\")\n",
    "\n",
    "hello()\n",
    "f = hello\n",
    "f()"
   ]
  },
  {
   "cell_type": "markdown",
   "id": "6b32196c",
   "metadata": {},
   "source": [
    "#### პარამეტრ(ებ)იანი ფუნქცია\n",
    "\n",
    "ფუნქციაში პარამეტრის გადაცემა აუცილებელია"
   ]
  },
  {
   "cell_type": "code",
   "execution_count": 2,
   "id": "bf77ca38",
   "metadata": {},
   "outputs": [
    {
     "name": "stdout",
     "output_type": "stream",
     "text": [
      "Hello, John\n",
      "Hello, Alice\n"
     ]
    },
    {
     "ename": "TypeError",
     "evalue": "hello() missing 1 required positional argument: 'name'",
     "output_type": "error",
     "traceback": [
      "\u001b[1;31m---------------------------------------------------------------------------\u001b[0m",
      "\u001b[1;31mTypeError\u001b[0m                                 Traceback (most recent call last)",
      "Cell \u001b[1;32mIn[2], line 6\u001b[0m\n\u001b[0;32m      4\u001b[0m hello(\u001b[38;5;124m'\u001b[39m\u001b[38;5;124mJohn\u001b[39m\u001b[38;5;124m'\u001b[39m)\n\u001b[0;32m      5\u001b[0m hello(\u001b[38;5;124m\"\u001b[39m\u001b[38;5;124mAlice\u001b[39m\u001b[38;5;124m\"\u001b[39m)\n\u001b[1;32m----> 6\u001b[0m \u001b[43mhello\u001b[49m\u001b[43m(\u001b[49m\u001b[43m)\u001b[49m\n",
      "\u001b[1;31mTypeError\u001b[0m: hello() missing 1 required positional argument: 'name'"
     ]
    }
   ],
   "source": [
    "def hello(name):\n",
    "    print(\"Hello,\", name)\n",
    "\n",
    "hello('John')\n",
    "hello(\"Alice\")\n",
    "hello()"
   ]
  },
  {
   "cell_type": "markdown",
   "id": "8a9c06e9",
   "metadata": {},
   "source": [
    "#### „არასავალდებულო“ პარამეტრ(ებ)ი\n",
    "\n",
    "ფუნქციში პარამეტრი არსებობს, მაგრამ შეიძლება ეს ფუნქცია გამოვიძახოთ როგორც უპარამეტრებო, არ გადავცეთ პარამეტრ(ებ)ი"
   ]
  },
  {
   "cell_type": "code",
   "execution_count": 3,
   "id": "85c96fce",
   "metadata": {},
   "outputs": [
    {
     "name": "stdout",
     "output_type": "stream",
     "text": [
      "hello, world\n",
      "hello, John\n",
      "hello, Alice Green\n"
     ]
    }
   ],
   "source": [
    "def hello(name='world'):\n",
    "    print(\"hello,\", name)\n",
    "\n",
    "hello()\n",
    "hello('John')\n",
    "hello(\"Alice Green\")"
   ]
  },
  {
   "cell_type": "markdown",
   "id": "8dd5c551",
   "metadata": {},
   "source": [
    "ფუნქციამ შეიძლება დააბრუნოს აზრობრივი მნიშვნელობა. `python`-ში ფუნქცია ყოველთვის აბრუნებს რაიმე მნიშვნელობას. მაგ: `None` (ყველა ვარინტში), რაიმე რიცხვი, სტრიქონი, სიმრავლე და ა.შ. დაბრუნების ოპერატორია `return`"
   ]
  },
  {
   "cell_type": "code",
   "execution_count": 4,
   "id": "b6671188",
   "metadata": {},
   "outputs": [
    {
     "data": {
      "text/plain": [
       "58"
      ]
     },
     "execution_count": 4,
     "metadata": {},
     "output_type": "execute_result"
    }
   ],
   "source": [
    "def max2(x, y):\n",
    "    if x > y:\n",
    "        return x\n",
    "    return y\n",
    "\n",
    "max2(15, 58)"
   ]
  },
  {
   "cell_type": "code",
   "execution_count": 5,
   "id": "da7a0d2d",
   "metadata": {},
   "outputs": [
    {
     "data": {
      "text/plain": [
       "58"
      ]
     },
     "execution_count": 5,
     "metadata": {},
     "output_type": "execute_result"
    }
   ],
   "source": [
    "def max2(x, y):\n",
    "   return x if x > y else y\n",
    "\n",
    "max2(15, 58)"
   ]
  },
  {
   "cell_type": "code",
   "execution_count": 8,
   "id": "c9bac160",
   "metadata": {},
   "outputs": [],
   "source": [
    "def max3(x, y, z):\n",
    "    return max2(x, max2(y, z))"
   ]
  },
  {
   "cell_type": "code",
   "execution_count": 9,
   "id": "ac0a5e96",
   "metadata": {},
   "outputs": [
    {
     "data": {
      "text/plain": [
       "37"
      ]
     },
     "execution_count": 9,
     "metadata": {},
     "output_type": "execute_result"
    }
   ],
   "source": [
    "max3(24, 37, 21)"
   ]
  },
  {
   "cell_type": "code",
   "execution_count": 10,
   "id": "128d1d5c",
   "metadata": {},
   "outputs": [
    {
     "data": {
      "text/plain": [
       "12.7"
      ]
     },
     "execution_count": 10,
     "metadata": {},
     "output_type": "execute_result"
    }
   ],
   "source": [
    "max3(5, 12.7, 8)"
   ]
  },
  {
   "cell_type": "code",
   "execution_count": 11,
   "id": "fdb973fe",
   "metadata": {},
   "outputs": [
    {
     "data": {
      "text/plain": [
       "11.36"
      ]
     },
     "execution_count": 11,
     "metadata": {},
     "output_type": "execute_result"
    }
   ],
   "source": [
    "max3(5.8, 2.78, 11.36)"
   ]
  },
  {
   "cell_type": "code",
   "execution_count": 18,
   "id": "a22e6d68",
   "metadata": {
    "scrolled": false
   },
   "outputs": [
    {
     "data": {
      "text/plain": [
       "'abd'"
      ]
     },
     "execution_count": 18,
     "metadata": {},
     "output_type": "execute_result"
    }
   ],
   "source": [
    "# Duck typing\n",
    "max3('ab', 'abc', 'abd')"
   ]
  },
  {
   "cell_type": "code",
   "execution_count": 9,
   "id": "1348fb7b",
   "metadata": {},
   "outputs": [],
   "source": [
    "def hello_separated(name='world', separator='_'):\n",
    "    print(\"Hello\", name, sep=separator)"
   ]
  },
  {
   "cell_type": "code",
   "execution_count": 10,
   "id": "ef16a231",
   "metadata": {},
   "outputs": [
    {
     "name": "stdout",
     "output_type": "stream",
     "text": [
      "Hello_John\n"
     ]
    }
   ],
   "source": [
    "hello_separated('John')"
   ]
  },
  {
   "cell_type": "code",
   "execution_count": 11,
   "id": "68c19718",
   "metadata": {},
   "outputs": [
    {
     "name": "stdout",
     "output_type": "stream",
     "text": [
      "Hello***John\n"
     ]
    }
   ],
   "source": [
    "hello_separated('John', '***')"
   ]
  },
  {
   "cell_type": "code",
   "execution_count": 12,
   "id": "a07816ff",
   "metadata": {},
   "outputs": [
    {
     "name": "stdout",
     "output_type": "stream",
     "text": [
      "Hello***world\n"
     ]
    }
   ],
   "source": [
    "hello_separated(separator='***')"
   ]
  },
  {
   "cell_type": "code",
   "execution_count": 13,
   "id": "69d29e58",
   "metadata": {
    "scrolled": true
   },
   "outputs": [
    {
     "name": "stdout",
     "output_type": "stream",
     "text": [
      "Hello___Alice\n"
     ]
    }
   ],
   "source": [
    "hello_separated(separator='___', name='Alice')"
   ]
  },
  {
   "cell_type": "markdown",
   "id": "63d578d1",
   "metadata": {},
   "source": [
    "### უხეში ძალის მეთოდი (Brute force)"
   ]
  },
  {
   "cell_type": "code",
   "execution_count": 24,
   "id": "ac6ecd10",
   "metadata": {},
   "outputs": [],
   "source": [
    "def is_simple_number(x):\n",
    "    ''' განსაზღვრავს რიცხვი მარტივია თუ შედგენილი.\n",
    "        x – დადებითი, მთელი რიცხვია.\n",
    "        თუ მარტივია, ვაბრუნებ True,\n",
    "        წინააღმდეგ შემთხვევაში – False\n",
    "    '''\n",
    "    \n",
    "    divisor = 2\n",
    "    while divisor <= x ** 0.5:\n",
    "        if x % divisor == 0:\n",
    "            return False\n",
    "        \n",
    "        divisor += 1\n",
    "    \n",
    "    return True"
   ]
  },
  {
   "cell_type": "code",
   "execution_count": 20,
   "id": "10a5d274",
   "metadata": {},
   "outputs": [
    {
     "data": {
      "text/plain": [
       "False"
      ]
     },
     "execution_count": 20,
     "metadata": {},
     "output_type": "execute_result"
    }
   ],
   "source": [
    "is_simple_number(45)"
   ]
  },
  {
   "cell_type": "code",
   "execution_count": 32,
   "id": "e56c32ee",
   "metadata": {},
   "outputs": [
    {
     "name": "stdout",
     "output_type": "stream",
     "text": [
      "21 isn't simple\n"
     ]
    }
   ],
   "source": [
    "number = 21\n",
    "result = is_simple_number(number)\n",
    "\n",
    "# if result:\n",
    "#     print(f\"{number} is simple\")\n",
    "# else:\n",
    "#     print(f\"{number} isn't simple\")\n",
    "\n",
    "print(f\"{number} is simple\") if result else print(f\"{number} isn't simple\")"
   ]
  },
  {
   "cell_type": "code",
   "execution_count": 28,
   "id": "8635fc66",
   "metadata": {},
   "outputs": [
    {
     "name": "stdout",
     "output_type": "stream",
     "text": [
      "Help on function is_simple_number in module __main__:\n",
      "\n",
      "is_simple_number(x)\n",
      "    განსაზღვრავს რიცხვი მარტივია თუ შედგენილი.\n",
      "    x – დადებითი, მთელი რიცხვია.\n",
      "    თუ მარტივია, ვაბრუნებ True,\n",
      "    წინააღმდეგ შემთხვევაში – False\n",
      "\n"
     ]
    }
   ],
   "source": [
    "help(is_simple_number)"
   ]
  },
  {
   "cell_type": "code",
   "execution_count": 20,
   "id": "47c8aaf5",
   "metadata": {},
   "outputs": [],
   "source": [
    "def factorize_number(x):\n",
    "    ''' ყოფს რიცხვს მარტივ მამრავლებად\n",
    "        და ბეჭდავს ეკრანნზე\n",
    "        x – მთელი, დადებითი რიცხვია\n",
    "    '''\n",
    "    \n",
    "    divisor = 2\n",
    "    \n",
    "    while x > 1:\n",
    "        if x % divisor == 0:\n",
    "            print(f\"{divisor: <5d}\", end='')\n",
    "            x //= divisor\n",
    "        else:\n",
    "            divisor += 1"
   ]
  },
  {
   "cell_type": "code",
   "execution_count": 21,
   "id": "d562bcc4",
   "metadata": {},
   "outputs": [
    {
     "name": "stdout",
     "output_type": "stream",
     "text": [
      "2    2    2    2    2    2    2    2    2    2    "
     ]
    }
   ],
   "source": [
    "factorize_number(1024)"
   ]
  },
  {
   "cell_type": "code",
   "execution_count": 22,
   "id": "ac9c7fc9",
   "metadata": {},
   "outputs": [
    {
     "name": "stdout",
     "output_type": "stream",
     "text": [
      "3    3    3    37   "
     ]
    }
   ],
   "source": [
    "factorize_number(999)"
   ]
  },
  {
   "cell_type": "code",
   "execution_count": 23,
   "id": "15540241",
   "metadata": {},
   "outputs": [],
   "source": [
    "factorize_number(0)"
   ]
  }
 ],
 "metadata": {
  "kernelspec": {
   "display_name": "Python 3 (ipykernel)",
   "language": "python",
   "name": "python3"
  },
  "language_info": {
   "codemirror_mode": {
    "name": "ipython",
    "version": 3
   },
   "file_extension": ".py",
   "mimetype": "text/x-python",
   "name": "python",
   "nbconvert_exporter": "python",
   "pygments_lexer": "ipython3",
   "version": "3.10.9"
  }
 },
 "nbformat": 4,
 "nbformat_minor": 5
}
