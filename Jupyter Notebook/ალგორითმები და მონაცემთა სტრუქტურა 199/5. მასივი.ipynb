{
 "cells": [
  {
   "cell_type": "markdown",
   "id": "77333615",
   "metadata": {},
   "source": [
    "# მასივი (ტიპი list)"
   ]
  },
  {
   "cell_type": "code",
   "execution_count": 6,
   "id": "10a9da33",
   "metadata": {},
   "outputs": [
    {
     "name": "stdout",
     "output_type": "stream",
     "text": [
      "[1, 2, 3, 4, 5]\n",
      "1 <class 'int'>\n",
      "2 <class 'int'>\n",
      "3 <class 'int'>\n",
      "4 <class 'int'>\n",
      "5 <class 'int'>\n",
      "<class 'list'>\n"
     ]
    }
   ],
   "source": [
    "A = [1, 2, 3, 4, 5]\n",
    "\n",
    "print(A)\n",
    "\n",
    "for x in A:\n",
    "    print(x, type(x))\n",
    "\n",
    "print(type(A))"
   ]
  },
  {
   "cell_type": "code",
   "execution_count": 11,
   "id": "4b8b55e0",
   "metadata": {},
   "outputs": [
    {
     "name": "stdout",
     "output_type": "stream",
     "text": [
      "1\n",
      "2 \n",
      "\n",
      "2\n",
      "3 \n",
      "\n",
      "3\n",
      "4 \n",
      "\n",
      "4\n",
      "5 \n",
      "\n",
      "5\n",
      "6 \n",
      "\n",
      "[1, 2, 3, 4, 5]\n"
     ]
    }
   ],
   "source": [
    "for x in A:\n",
    "    print(x)\n",
    "    x += 1\n",
    "    print(x, '\\n')\n",
    "\n",
    "print(A)\n",
    "\n",
    "# მასივის (list) ელემენტების მნიშვნელობა არ იცვლება"
   ]
  },
  {
   "cell_type": "markdown",
   "id": "68462fe1",
   "metadata": {},
   "source": [
    "შევცვალოთ მასივის ელემენტების მნიშვნელობა. მაგ.: ავიყვანოთ კვადრატში.\n",
    "ამისათვის საჭიროა გვქონდეს წვდომა ინდექსის მეშვეობით. ინდექსი (რიგითი ნომერი) იწყება 0-დან. პირველი ელემნტის ინდექსია 0, მეორის – 1, მესამის – 2 და ა.შ. ბოლო ელემნტის ინდექსი იქნება N-1, სადაც N – მასივში ელემენტების რაოდეობაა. 10 ელემენტიან მასივში პირველი ელემენტის ინდექსია 0, შემეგ – 1, 2, ..., ბოლოსი კი – 9. მასივის სიგრძე გამოითვლება: `len(array)`."
   ]
  },
  {
   "cell_type": "code",
   "execution_count": 15,
   "id": "79ffbc4e",
   "metadata": {
    "scrolled": true
   },
   "outputs": [
    {
     "name": "stdout",
     "output_type": "stream",
     "text": [
      "[1, 4, 9, 16, 25]\n"
     ]
    }
   ],
   "source": [
    "A = [1, 2, 3, 4, 5]\n",
    "for i in range(len(A)):\n",
    "    A[i] **= 2  # A[i] = A[i] ** 2\n",
    "\n",
    "print(A)"
   ]
  },
  {
   "cell_type": "markdown",
   "id": "056e09d8",
   "metadata": {},
   "source": [
    "### მასივის ინიციალიზება"
   ]
  },
  {
   "cell_type": "code",
   "execution_count": 38,
   "id": "7890b492",
   "metadata": {},
   "outputs": [
    {
     "name": "stdout",
     "output_type": "stream",
     "text": [
      "Enter a number: 1\n",
      "Enter a number: 2\n",
      "Enter a number: 3\n",
      "Enter a number: 4\n",
      "Enter a number: 5\n",
      "Enter a number: 0\n"
     ]
    }
   ],
   "source": [
    "A = [0] * 1000\n",
    "top = 0\n",
    "x = int(eval(input(\"Enter a number: \")))\n",
    "\n",
    "while x != 0:\n",
    "    A[top] = x\n",
    "    top += 1\n",
    "    x = int(eval(input(\"Enter a number: \")))"
   ]
  },
  {
   "cell_type": "markdown",
   "id": "e24ef6f3",
   "metadata": {},
   "source": [
    "დავბეჭდოთ უკუმიმდევრობით"
   ]
  },
  {
   "cell_type": "code",
   "execution_count": 40,
   "id": "01a8d638",
   "metadata": {
    "scrolled": true
   },
   "outputs": [
    {
     "name": "stdout",
     "output_type": "stream",
     "text": [
      "5\n",
      "4\n",
      "3\n",
      "2\n",
      "1\n"
     ]
    }
   ],
   "source": [
    "for i in range(top-1, -1, -1):\n",
    "    print(A[i])"
   ]
  },
  {
   "cell_type": "markdown",
   "id": "497f04cf",
   "metadata": {},
   "source": [
    "## მარტივი ალგორითმები"
   ]
  },
  {
   "cell_type": "markdown",
   "id": "d6b719cd",
   "metadata": {},
   "source": [
    "### მასივის კოპირება"
   ]
  },
  {
   "cell_type": "code",
   "execution_count": null,
   "id": "844e6dfb",
   "metadata": {},
   "outputs": [],
   "source": []
  }
 ],
 "metadata": {
  "kernelspec": {
   "display_name": "Python 3",
   "language": "python",
   "name": "python3"
  },
  "language_info": {
   "codemirror_mode": {
    "name": "ipython",
    "version": 3
   },
   "file_extension": ".py",
   "mimetype": "text/x-python",
   "name": "python",
   "nbconvert_exporter": "python",
   "pygments_lexer": "ipython3",
   "version": "3.8.8"
  }
 },
 "nbformat": 4,
 "nbformat_minor": 5
}
