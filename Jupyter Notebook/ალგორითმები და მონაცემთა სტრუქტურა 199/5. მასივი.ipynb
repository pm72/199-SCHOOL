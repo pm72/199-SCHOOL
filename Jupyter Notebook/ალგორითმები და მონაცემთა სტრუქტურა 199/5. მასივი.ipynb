{
 "cells": [
  {
   "cell_type": "markdown",
   "id": "77333615",
   "metadata": {},
   "source": [
    "# მასივი (ტიპი list)"
   ]
  },
  {
   "cell_type": "code",
   "execution_count": 3,
   "id": "10a9da33",
   "metadata": {},
   "outputs": [
    {
     "name": "stdout",
     "output_type": "stream",
     "text": [
      "[1, 2, 3, 4, 5]\n",
      "1 <class 'int'>\n",
      "2 <class 'int'>\n",
      "3 <class 'int'>\n",
      "4 <class 'int'>\n",
      "5 <class 'int'>\n",
      "<class 'list'>\n"
     ]
    }
   ],
   "source": [
    "A = [1, 2, 3, 4, 5]\n",
    "\n",
    "print(A)\n",
    "\n",
    "for x in A:\n",
    "  print(x, type(x))\n",
    "\n",
    "print(type(A))"
   ]
  },
  {
   "cell_type": "code",
   "execution_count": 4,
   "id": "4b8b55e0",
   "metadata": {},
   "outputs": [
    {
     "name": "stdout",
     "output_type": "stream",
     "text": [
      "1\n",
      "2 \n",
      "\n",
      "2\n",
      "3 \n",
      "\n",
      "3\n",
      "4 \n",
      "\n",
      "4\n",
      "5 \n",
      "\n",
      "5\n",
      "6 \n",
      "\n",
      "[1, 2, 3, 4, 5]\n"
     ]
    }
   ],
   "source": [
    "for x in A:\n",
    "  print(x)\n",
    "  x += 1\n",
    "  print(x, '\\n')\n",
    "\n",
    "print(A)\n",
    "\n",
    "# მასივის (list) ელემენტების მნიშვნელობა არ იცვლება"
   ]
  },
  {
   "cell_type": "markdown",
   "id": "68462fe1",
   "metadata": {},
   "source": [
    "შევცვალოთ მასივის ელემენტების მნიშვნელობა. მაგ.: ავიყვანოთ კვადრატში.\n",
    "ამისათვის საჭიროა გვქონდეს წვდომა ინდექსის მეშვეობით. ინდექსი (რიგითი ნომერი) იწყება 0-დან. პირველი ელემნტის ინდექსია 0, მეორის – 1, მესამის – 2 და ა.შ. ბოლო ელემნტის ინდექსი იქნება N-1, სადაც N – მასივში ელემენტების რაოდეობაა. 10 ელემენტიან მასივში პირველი ელემენტის ინდექსია 0, შემეგ – 1, 2, ..., ბოლოსი კი – 9. მასივის სიგრძე გამოითვლება: `len(array)`."
   ]
  },
  {
   "cell_type": "code",
   "execution_count": 10,
   "id": "79ffbc4e",
   "metadata": {
    "scrolled": true
   },
   "outputs": [
    {
     "name": "stdout",
     "output_type": "stream",
     "text": [
      "[1, 4, 9, 16, 25]\n"
     ]
    }
   ],
   "source": [
    "A = [1, 2, 3, 4, 5]\n",
    "for i in range(len(A)):\n",
    "  A[i] **= 2  # A[i] = A[i] ** 2\n",
    "\n",
    "print(A)"
   ]
  },
  {
   "cell_type": "markdown",
   "id": "056e09d8",
   "metadata": {},
   "source": [
    "### მასივის ინიციალიზება"
   ]
  },
  {
   "cell_type": "code",
   "execution_count": 8,
   "id": "7890b492",
   "metadata": {},
   "outputs": [
    {
     "name": "stdout",
     "output_type": "stream",
     "text": [
      "Enter a number: 1\n",
      "Enter a number: 2\n",
      "Enter a number: 3\n",
      "Enter a number: 4\n",
      "Enter a number: 5\n",
      "Enter a number: 0\n"
     ]
    }
   ],
   "source": [
    "A = [0] * 1000\n",
    "top = 0\n",
    "x = int(eval(input(\"Enter a number: \")))\n",
    "\n",
    "while x != 0:\n",
    "  A[top] = x\n",
    "  top += 1\n",
    "  x = int(eval(input(\"Enter a number: \")))"
   ]
  },
  {
   "cell_type": "markdown",
   "id": "e24ef6f3",
   "metadata": {},
   "source": [
    "დავბეჭდოთ უკუმიმდევრობით"
   ]
  },
  {
   "cell_type": "code",
   "execution_count": 9,
   "id": "01a8d638",
   "metadata": {
    "scrolled": true
   },
   "outputs": [
    {
     "name": "stdout",
     "output_type": "stream",
     "text": [
      "5\n",
      "4\n",
      "3\n",
      "2\n",
      "1\n"
     ]
    }
   ],
   "source": [
    "for i in range(top-1, -1, -1):\n",
    "  print(A[i])"
   ]
  },
  {
   "cell_type": "markdown",
   "id": "497f04cf",
   "metadata": {},
   "source": [
    "## მარტივი ალგორითმები"
   ]
  },
  {
   "cell_type": "markdown",
   "id": "d6b719cd",
   "metadata": {},
   "source": [
    "### მასივის კოპირება"
   ]
  },
  {
   "cell_type": "code",
   "execution_count": 16,
   "id": "844e6dfb",
   "metadata": {},
   "outputs": [
    {
     "name": "stdout",
     "output_type": "stream",
     "text": [
      "Enter the number for size array: 5\n",
      "Enter a number: 52\n",
      "Enter a number: 14\n",
      "Enter a number: 58\n",
      "Enter a number: 36\n",
      "Enter a number: 17\n"
     ]
    }
   ],
   "source": [
    "N = int(eval(input(\"Enter the number for size array: \")))\n",
    "\n",
    "A = [0] * N\n",
    "B = [0] * N\n",
    "\n",
    "for i  in range(N):\n",
    "  A[i] = eval(input(\"Enter a number: \"))\n",
    "\n",
    "for i in range(N):\n",
    "  B[i] = A[i]"
   ]
  },
  {
   "cell_type": "markdown",
   "id": "e6004e69",
   "metadata": {},
   "source": [
    "შეიძლება ჩაიწეროს ასეც:"
   ]
  },
  {
   "cell_type": "code",
   "execution_count": 19,
   "id": "402ab24c",
   "metadata": {},
   "outputs": [],
   "source": [
    "C = A"
   ]
  },
  {
   "cell_type": "markdown",
   "id": "3c6fb3e9",
   "metadata": {},
   "source": [
    "მაგრამ, ამ შემთხვევაში ინფორმაციის კოპირების ნაცვლად კოპირდება ბმული. C და A სახელები მიუთითებენ ერთსა და იმავე მისამართს, რომელზეც ჩაწერილია მასივი. თუ A მასივში შევცვლით რომელიმე ან რამდენიმე რიცხვს, C მასივშიც შეცვლილი რიცხვები გამოჩნდება. სინამდვილეში იმ მისამართზე, რომელზეც მიუთითებენ A და C, იცვლება ინფორმაცია და ორივე სახელი (A და C) მიუთითებენ მისამრთს, რომელზეც მოხდა ინფორმაციის ცვლილება. ამიტომაც ხდება ორივე სახელის დაბეჭდვისას ერთი და იგივე ინფორმაციის ბეჭდვა."
   ]
  },
  {
   "cell_type": "code",
   "execution_count": 20,
   "id": "8943ec94",
   "metadata": {},
   "outputs": [
    {
     "data": {
      "text/plain": [
       "[52, 14, 58, 36, 17]"
      ]
     },
     "execution_count": 20,
     "metadata": {},
     "output_type": "execute_result"
    }
   ],
   "source": [
    "C"
   ]
  },
  {
   "cell_type": "code",
   "execution_count": 33,
   "id": "50773fd8",
   "metadata": {
    "scrolled": true
   },
   "outputs": [
    {
     "name": "stdout",
     "output_type": "stream",
     "text": [
      "A: [77, 57, 63, 41, 10, 8, 11]\n",
      "C: [101, 57, 63, 41, 10, 8, 11]\n",
      "B: [52, 14, 58, 36, 17]\n"
     ]
    }
   ],
   "source": [
    "A[0] = 77\n",
    "\n",
    "print(\"A:\", A)\n",
    "print(\"C:\", C)\n",
    "print(\"B:\", B)"
   ]
  },
  {
   "cell_type": "markdown",
   "id": "00f997d5",
   "metadata": {},
   "source": [
    "დუბლიკატის შესაქმნელად შეგვიძლია გამოვიყენოთ მოკლე ჩანაწერი: `list()` და `copy()`:"
   ]
  },
  {
   "cell_type": "code",
   "execution_count": 39,
   "id": "7fad07b0",
   "metadata": {},
   "outputs": [
    {
     "name": "stdout",
     "output_type": "stream",
     "text": [
      "A: [15, 57, 63, 41, 10, 8, 11]\n",
      "C: [15, 57, 63, 41, 10, 8, 11] \n",
      "\n",
      "A: [15, 57, 63, 41, 10, 8, 11]\n",
      "C: [101, 57, 63, 41, 10, 8, 11] \n",
      "\n",
      "D: [15, 57, 63, 41, 10, 8, 11]\n",
      "D: [15, 0, 63, 41, 10, 8, 11]\n",
      "A: [15, 57, 63, 41, 10, 8, 11]\n"
     ]
    }
   ],
   "source": [
    "A = [15, 57, 63, 41, 10, 8, 11]\n",
    "\n",
    "C = list(A)\n",
    "\n",
    "print(\"A:\", A)\n",
    "print(\"C:\", C, \"\\n\")\n",
    "\n",
    "C[0] = 101\n",
    "\n",
    "print(\"A:\", A)\n",
    "print(\"C:\", C, \"\\n\")\n",
    "\n",
    "D = A.copy()\n",
    "\n",
    "print(\"D:\", D)\n",
    "\n",
    "D[1] = 0\n",
    "print(\"D:\", D)\n",
    "print(\"A:\", A)"
   ]
  },
  {
   "cell_type": "markdown",
   "id": "0652f4a3",
   "metadata": {},
   "source": [
    "### ელემენტის წრფივი ძებნა მასივში"
   ]
  },
  {
   "cell_type": "code",
   "execution_count": 64,
   "id": "cf2fa84d",
   "metadata": {},
   "outputs": [],
   "source": [
    "def array_search(A:list, x:int) -> int:\n",
    "  ''' ახორციელებს რიცხვის (x) ძებნას მასივში (A)\n",
    "      ინდექსით 0-დან N-მდე (0..N-1).\n",
    "      აბრუნებს ნაპოვნი რიცხვის ინდექსს.\n",
    "      წინააღმდეგ შემთხვევაშ -1.\n",
    "      ერნაირი რიცხვების შემთხვევაში აბრუნებს\n",
    "      ნაპოვნი პირველი რიცხვის ინდექსს.\n",
    "  '''\n",
    "  \n",
    "  N = len(A)\n",
    "  for i in range(N):\n",
    "    if A[i] == x:\n",
    "      return i\n",
    "  \n",
    "  return -1\n",
    "  \n",
    "  \n",
    "# ======= Tests ===========\n",
    "# Test 1\n",
    "def test_array_serch():\n",
    "  A1 = [1, 2, 3, 4, 5]\n",
    "  m = array_search(A1, 8)\n",
    "  \n",
    "  print(\"Test 1 – OK!\") if m == -1 else print(\"Test 1 – Fail!\")  \n",
    "  \n",
    "# -------------------------\n",
    "# Test 2\n",
    "  A2 = [-1, -2, -3, -4, -5]\n",
    "  m = array_search(A2, -3)\n",
    "  \n",
    "  print(\"Test 2 – OK!\") if m == 2 else print(\"Test 2 – Fail!\")  \n",
    "  \n",
    "# -------------------------\n",
    "# Test 3\n",
    "  A3 = [10, 20, 30, 10, 10]\n",
    "  m = array_search(A3, 10)\n",
    "  \n",
    "  print(\"Test 3 – OK!\") if m == 0 else print(\"Test 3 – Fail!\")    "
   ]
  },
  {
   "cell_type": "code",
   "execution_count": 65,
   "id": "20f171bc",
   "metadata": {
    "scrolled": true
   },
   "outputs": [
    {
     "name": "stdout",
     "output_type": "stream",
     "text": [
      "Test 1 – OK!\n",
      "Test 2 – OK!\n",
      "Test 3 – OK!\n"
     ]
    }
   ],
   "source": [
    "test_array_serch()"
   ]
  },
  {
   "cell_type": "markdown",
   "id": "dd291af2",
   "metadata": {},
   "source": [
    "### მასივის შებრუნება"
   ]
  },
  {
   "cell_type": "code",
   "execution_count": 76,
   "id": "0ab794d7",
   "metadata": {},
   "outputs": [],
   "source": [
    "def invert_array(A: list):\n",
    "  ''' მასივის შებრუნება 0-დან N-მდე (0..N-1)\n",
    "  '''\n",
    "  N = len(A)\n",
    "  \n",
    "  for i in range(N // 2):\n",
    "    A[i], A[N - 1 - i] = A[N -1 - i], A[i]\n",
    "    \n",
    "\n",
    "  \n",
    "# ====== Tests ===========\n",
    "# Test 1\n",
    "def test_invert_array():\n",
    "  A1 = [1, 2, 3, 4, 5]\n",
    "  \n",
    "  print(A1)\n",
    "  invert_array(A1)\n",
    "  print(A1)\n",
    "  \n",
    "  print(\"Test 1 – OK!\") if A1 == [5, 4, 3, 2, 1] else print(\"Test 1 – Fail!\")\n",
    "\n",
    "# -------------------------\n",
    "# Test 2\n",
    "  A2 = [0] * 7 + [10]\n",
    "  \n",
    "  print(A2)\n",
    "  invert_array(A2)\n",
    "  print(A2)\n",
    "  \n",
    "  print(\"Test 2 – OK!\") if A2 == [10] + [0] * 7 else print(\"Test 2 – Fail!\")"
   ]
  },
  {
   "cell_type": "code",
   "execution_count": 78,
   "id": "20fe1220",
   "metadata": {},
   "outputs": [
    {
     "name": "stdout",
     "output_type": "stream",
     "text": [
      "[1, 2, 3, 4, 5]\n",
      "[5, 4, 3, 2, 1]\n",
      "Test 1 – OK!\n",
      "[0, 0, 0, 0, 0, 0, 0, 10]\n",
      "[10, 0, 0, 0, 0, 0, 0, 0]\n",
      "Test 2 – OK!\n"
     ]
    }
   ],
   "source": [
    "test_invert_array()"
   ]
  },
  {
   "cell_type": "markdown",
   "id": "f4194b08",
   "metadata": {},
   "source": [
    "### ციკლური ძვრები"
   ]
  },
  {
   "cell_type": "markdown",
   "id": "3d0003ef",
   "metadata": {},
   "source": [
    "არსებობს ციკლური ძვრები 2 შემთხვევა:\n",
    "1. ციკური ძვრა მარცხნივ\n",
    "2. ციკლური ძვრა მარჯვნივ\n",
    "\n",
    "\n",
    "  მარცხნივ                    მარჯვნივ\n",
    "------------->              <--------------\n",
    "[1][2][3][4][5]             [1][2][3][4][5]\n",
    " <- <- <- <- <-             -> -> -> -> ->\n",
    "temp = [1]                  temp = [5]\n",
    "[2][3][4][5][]              [][1][2][3][4]\n",
    "[] = temp                   [] = temp"
   ]
  },
  {
   "cell_type": "markdown",
   "id": "bd9a306b",
   "metadata": {},
   "source": [
    "#### ციკლური ძვარა მარცნივ"
   ]
  },
  {
   "cell_type": "code",
   "execution_count": 82,
   "id": "fc383105",
   "metadata": {},
   "outputs": [],
   "source": [
    "A = [1, 2, 3, 4, 5]\n",
    "N = len(A)\n",
    "\n",
    "temp = A[0]\n",
    "for i in range(N - 1):\n",
    "  A[i] = A[i + 1]\n",
    "\n",
    "A[N - 1] = temp"
   ]
  },
  {
   "cell_type": "code",
   "execution_count": 85,
   "id": "12db8b1b",
   "metadata": {},
   "outputs": [
    {
     "data": {
      "text/plain": [
       "[2, 3, 4, 5, 1]"
      ]
     },
     "execution_count": 85,
     "metadata": {},
     "output_type": "execute_result"
    }
   ],
   "source": [
    "A"
   ]
  },
  {
   "cell_type": "markdown",
   "id": "a698c83d",
   "metadata": {},
   "source": [
    "#### ციკლური ძვარა მარჯვნივ"
   ]
  },
  {
   "cell_type": "code",
   "execution_count": 87,
   "id": "fa8a5492",
   "metadata": {},
   "outputs": [],
   "source": [
    "A = [1, 2, 3, 4, 5]\n",
    "N = len(A)\n",
    "\n",
    "temp = A[N - 1]\n",
    "for i in range(N - 1, 0, -1):\n",
    "  A[i] = A[i - 1]\n",
    "\n",
    "A[0] = temp"
   ]
  },
  {
   "cell_type": "code",
   "execution_count": 89,
   "id": "3a38ddb3",
   "metadata": {},
   "outputs": [
    {
     "data": {
      "text/plain": [
       "[5, 1, 2, 3, 4]"
      ]
     },
     "execution_count": 89,
     "metadata": {},
     "output_type": "execute_result"
    }
   ],
   "source": [
    "A"
   ]
  },
  {
   "cell_type": "markdown",
   "id": "140bc37f",
   "metadata": {},
   "source": [
    "### ერატოსთენეს საცერი"
   ]
  },
  {
   "cell_type": "code",
   "execution_count": 103,
   "id": "93eb3b1a",
   "metadata": {},
   "outputs": [],
   "source": [
    "def sieve_of_eratosthenes(N: int):\n",
    "  A = [True] * N\n",
    "  A[0] = A[1] = False\n",
    "  \n",
    "  for i in range(2, N):\n",
    "    if A[i]:\n",
    "      for j in range(2 * i, N, i):\n",
    "        A[j] = False\n",
    "  \n",
    "  simple_numbers = []\n",
    "  for i in range(N):\n",
    "    simple_numbers.append(i) if A[i] else 0\n",
    "\n",
    "  return simple_numbers"
   ]
  },
  {
   "cell_type": "code",
   "execution_count": 137,
   "id": "f3ea30be",
   "metadata": {},
   "outputs": [
    {
     "name": "stdout",
     "output_type": "stream",
     "text": [
      "2     3     5     7     11    13    17    19    23    \n",
      "31    37    41    43    47    53    59    61    67    \n",
      "73    79    83    89    97    101   103   107   109   \n",
      "127   131   137   139   149   151   157   163   167   \n",
      "179   181   191   193   197   199   211   223   227   \n",
      "233   239   241   251   257   263   269   271   277   \n",
      "283   293   307   311   313   317   331   337   347   \n",
      "353   359   367   373   379   383   389   397   401   \n",
      "419   421   431   433   439   443   449   457   461   \n",
      "467   479   487   491   499   "
     ]
    }
   ],
   "source": [
    "N = 500\n",
    "count = 0\n",
    "\n",
    "for i in sieve_of_eratosthenes(N):\n",
    "  count += 1\n",
    "  \n",
    "  print(f\"{i:<6d}\", end='') if count %10 != 0 else print()"
   ]
  }
 ],
 "metadata": {
  "kernelspec": {
   "display_name": "Python 3 (ipykernel)",
   "language": "python",
   "name": "python3"
  },
  "language_info": {
   "codemirror_mode": {
    "name": "ipython",
    "version": 3
   },
   "file_extension": ".py",
   "mimetype": "text/x-python",
   "name": "python",
   "nbconvert_exporter": "python",
   "pygments_lexer": "ipython3",
   "version": "3.10.9"
  }
 },
 "nbformat": 4,
 "nbformat_minor": 5
}
