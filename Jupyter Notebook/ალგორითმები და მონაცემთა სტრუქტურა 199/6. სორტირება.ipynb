{
 "cells": [
  {
   "cell_type": "markdown",
   "id": "5b0a50e7",
   "metadata": {},
   "source": [
    "# სორტირებები"
   ]
  },
  {
   "cell_type": "code",
   "execution_count": 40,
   "id": "3cbede90",
   "metadata": {},
   "outputs": [],
   "source": [
    "# სორტირება ბუშტებით (bubble sort)\n",
    "def bubble_sort(A):\n",
    "  '''Bubble sort'''\n",
    "  \n",
    "  N = len(A)\n",
    "  \n",
    "  for j in range(N-1, 0, -1):\n",
    "    for i in range(j):\n",
    "      if A[i] > A[i+1]:\n",
    "        A[i], A[i+1] = A[i+1], A[i]\n",
    "  \n",
    "  \n",
    "# სორტირება ჩასმით (insertion sort)\n",
    "def inseretion_sort(A):\n",
    "  '''Insertion sort'''\n",
    "  \n",
    "  N = len(A)\n",
    "  \n",
    "  for i in range(1, N):\n",
    "    j = i\n",
    "    while j > 0 and A[j-1] > A[j]:\n",
    "      A[j], A[j-1] = A[j-1], A[j]\n",
    "      j -= 1\n",
    "    \n",
    "\n",
    "\n",
    "# სორტირება ამორჩევით (selection sort)\n",
    "def selection_sort(A):\n",
    "  '''Selection sort'''\n",
    "  \n",
    "  N = len(A)\n",
    "  \n",
    "  for i in range(N-1):\n",
    "    for j in range(i+1, N):\n",
    "      if A[j] < A[i]:\n",
    "        A[i], A[j] = A[j], A[i]"
   ]
  },
  {
   "cell_type": "code",
   "execution_count": 41,
   "id": "110499a7",
   "metadata": {},
   "outputs": [],
   "source": [
    "# ტესტირებები (tests)\n",
    "\n",
    "def test_sort(sort_algorithm):\n",
    "  # Test 1\n",
    "  print(\"Testing:\", sort_algorithm.__doc__)\n",
    "  print(\"Testcase #1: \", end='')\n",
    "  \n",
    "  A = [4, 2, 5, 1, 3]\n",
    "  A_sorted = [1, 2, 3, 4, 5]\n",
    "  \n",
    "  sort_algorithm(A)\n",
    "  \n",
    "  print(\"OK!\" if A == A_sorted else \"Fail!\")\n",
    "\n",
    "\n",
    "  # ==========================\n",
    "  # Test 2\n",
    "  print(\"Testcase #2: \", end='')\n",
    "  \n",
    "  A = list(range(10, 20)) + list(range(1, 10))\n",
    "  A_sorted = list(range(1, 20))\n",
    "  \n",
    "  sort_algorithm(A)\n",
    "  \n",
    "  print(\"OK!\" if A == A_sorted else \"Fail!\")\n",
    "\n",
    "\n",
    "  # ==========================\n",
    "  # Test 3\n",
    "  print(\"Testcase #3: \", end='')\n",
    "  \n",
    "  A = [4, 2, 4, 2, 1]\n",
    "  A_sorted = [1, 2, 2, 4, 4]\n",
    "  \n",
    "  sort_algorithm(A)\n",
    "  \n",
    "  print(\"OK!\" if A == A_sorted else \"Fail!\")"
   ]
  },
  {
   "cell_type": "code",
   "execution_count": 46,
   "id": "7fb0b717",
   "metadata": {
    "scrolled": true
   },
   "outputs": [
    {
     "name": "stdout",
     "output_type": "stream",
     "text": [
      "Testing: Bubble sort\n",
      "Testcase #1: OK!\n",
      "Testcase #2: OK!\n",
      "Testcase #3: OK!\n",
      "\n",
      "Testing: Insertion sort\n",
      "Testcase #1: OK!\n",
      "Testcase #2: OK!\n",
      "Testcase #3: OK!\n",
      "\n",
      "Testing: Selection sort\n",
      "Testcase #1: OK!\n",
      "Testcase #2: OK!\n",
      "Testcase #3: OK!\n",
      "\n"
     ]
    }
   ],
   "source": [
    "if __name__ == '__main__':\n",
    "  test_sort(bubble_sort)\n",
    "  print()\n",
    "  \n",
    "  test_sort(inseretion_sort)\n",
    "  print()\n",
    "  \n",
    "  test_sort(selection_sort)\n",
    "  print()"
   ]
  }
 ],
 "metadata": {
  "kernelspec": {
   "display_name": "Python 3 (ipykernel)",
   "language": "python",
   "name": "python3"
  },
  "language_info": {
   "codemirror_mode": {
    "name": "ipython",
    "version": 3
   },
   "file_extension": ".py",
   "mimetype": "text/x-python",
   "name": "python",
   "nbconvert_exporter": "python",
   "pygments_lexer": "ipython3",
   "version": "3.10.9"
  }
 },
 "nbformat": 4,
 "nbformat_minor": 5
}
