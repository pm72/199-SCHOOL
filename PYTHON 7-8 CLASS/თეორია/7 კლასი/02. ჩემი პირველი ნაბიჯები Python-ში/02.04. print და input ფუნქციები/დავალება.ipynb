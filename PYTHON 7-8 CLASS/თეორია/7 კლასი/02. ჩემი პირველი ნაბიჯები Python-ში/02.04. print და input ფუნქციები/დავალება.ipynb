{
 "cells": [
  {
   "cell_type": "markdown",
   "id": "90144d06",
   "metadata": {},
   "source": [
    "__დავალება 1.__\n",
    "\n",
    "პროგრამაში განსაზღვრეთ სამი ცვლადი:\n",
    "\n",
    "`a = 7\n",
    "b = -4\n",
    "c = 3`\n",
    "\n",
    "დაბეჭდეთ მათი მნიშვნელობები ეკრანზე. გამოიყენეთ ფუნქცია print() (მონაცემებს შორის მხოლოდ ერთი ინტერვალი უნდა იყოს).\n",
    "\n",
    "```python\n",
    "Sample Input:\n",
    "\n",
    "Sample Output:\n",
    "7 -4 3\n",
    "```"
   ]
  },
  {
   "cell_type": "code",
   "execution_count": null,
   "id": "efe51041",
   "metadata": {},
   "outputs": [],
   "source": [
    "# ჩაწერე კოდი აქ"
   ]
  },
  {
   "cell_type": "markdown",
   "id": "b8f753b3",
   "metadata": {},
   "source": [
    "__დავალება 2.__\n",
    "\n",
    "პროგრამაში განსაზღვრეთ სამი ცვლადი:\n",
    "\n",
    "`a = 7\n",
    "b = -4\n",
    "c = 3`\n",
    "\n",
    "დაბეჭდეთ მათი მნიშვნელობები ეკრანზე. გამოიყენეთ ფუნქცია print() (ყოველი მონაცემი ახალ სტრიქონზე გამოიტანეთ).\n",
    "\n",
    "```python\n",
    "Sample Input:\n",
    "\n",
    "Sample Output:\n",
    "7\n",
    "-4\n",
    "3\n",
    "```"
   ]
  },
  {
   "cell_type": "code",
   "execution_count": 2,
   "id": "136029f0",
   "metadata": {},
   "outputs": [],
   "source": [
    "# ჩაწერე კოდი აქ"
   ]
  },
  {
   "cell_type": "markdown",
   "id": "b9eb26f6",
   "metadata": {},
   "source": [
    "__დავალება 3.__\n",
    "\n",
    "პროგრამაში განსაზღვრეთ ორი სტრიქონი:\n",
    "\n",
    "`s1 = \"Hello,\"\n",
    "s2 = \"Python!\"`\n",
    "\n",
    "ფუნქცია print()-ის დახმარებით დაბეჭდეთ ერთ სტრიქონად. სიტყვები გამოყავით ინტერვალით.\n",
    "\n",
    "```python\n",
    "Sample Input:\n",
    "\n",
    "Sample Output:\n",
    "Hello, Python\n",
    "```"
   ]
  },
  {
   "cell_type": "code",
   "execution_count": 2,
   "id": "88fc69f3",
   "metadata": {},
   "outputs": [],
   "source": [
    "# ჩაწერე კოდი აქ"
   ]
  },
  {
   "cell_type": "markdown",
   "id": "1c7903ba",
   "metadata": {},
   "source": [
    "__დავალება 4.__\n",
    "\n",
    "დაასრულეთ პროგრამა, რომელშიც შეიტანება ორი სიტყვა (`s1` და `s2` ცვლადებში) ერთ სტრიქონზე ინტერვალით და დაბეჭდავს ეკრანზე ფორმატით:\n",
    "\n",
    "                               Word 1: s1 | Word 2: s2\n",
    "\n",
    "```python\n",
    "Sample Input:\n",
    "I love\n",
    "  \n",
    "Sample Output:\n",
    "Word 1: I | Word 2: love\n",
    "```"
   ]
  },
  {
   "cell_type": "code",
   "execution_count": null,
   "id": "20bbb9ee",
   "metadata": {},
   "outputs": [],
   "source": [
    "# მონაცემების შეტანა\n",
    "s1, s2 = map(str.strip, input().split())\n",
    "\n",
    "# გააგრძელე პროგრამა"
   ]
  },
  {
   "cell_type": "markdown",
   "id": "bc7884a6",
   "metadata": {},
   "source": [
    "__დავალება 5.__\n",
    "\n",
    "დაწერეთ პროგრამა, რომელშიც შეიტანება ორი მთელი, დადებითი რიცხვი, ხოლო დაიბეჭდება პირველი რიცხვის ახარისხება მეორეში:\n",
    "\n",
    "```python\n",
    "Sample Input:\n",
    "2 3\n",
    "  \n",
    "Sample Output:\n",
    "8\n",
    "```"
   ]
  },
  {
   "cell_type": "code",
   "execution_count": null,
   "id": "505259ad",
   "metadata": {},
   "outputs": [],
   "source": [
    "# მონაცემების შეტანა\n",
    "s1, s2 = map(int, input().split())\n",
    "\n",
    "# გააგრძელე პროგრამა"
   ]
  },
  {
   "cell_type": "code",
   "execution_count": null,
   "id": "6b0866e9",
   "metadata": {},
   "outputs": [],
   "source": []
  },
  {
   "cell_type": "markdown",
   "id": "b06e663d",
   "metadata": {},
   "source": [
    "__დავალება 6.__\n",
    "\n",
    "შეარჩიეთ ბრძანება, რომელიც ინახავს კლავიატურიდან შეტანილ ერთ მთელი ტიპის რიცხვს.\n",
    "\n",
    "* ასეთი ბრძანება არ არსებობს\n",
    "* d = int(input())\n",
    "* d = float(input())\n",
    "* d = input()"
   ]
  },
  {
   "cell_type": "code",
   "execution_count": 2,
   "id": "51f909ad",
   "metadata": {},
   "outputs": [],
   "source": [
    "# ჩაწერე სწორი პასუხი"
   ]
  },
  {
   "cell_type": "markdown",
   "id": "53a4f0a4",
   "metadata": {},
   "source": [
    "__დავალება 7.__\n",
    "\n",
    "შეარჩიეთ ბრძანება, რომელიც ინახავს კლავიატურიდან შეტანილ სტრიქონს.\n",
    "\n",
    "* ასეთი ბრძანება არ არსებობს\n",
    "* d = input()\n",
    "* d = int(input())\n",
    "* d = float(input())"
   ]
  },
  {
   "cell_type": "code",
   "execution_count": 2,
   "id": "3547cdcc",
   "metadata": {},
   "outputs": [],
   "source": [
    "# ჩაწერე სწორი პასუხი"
   ]
  },
  {
   "cell_type": "markdown",
   "id": "6a39d821",
   "metadata": {},
   "source": [
    "__დავალება 8.__\n",
    "\n",
    "დაწერეთ პროგრამა, რომელშიც შეიტანება ორი ათწილადი ტიპის რიცხვი ერთ სტრიქონზე და დაიბეჭდავს მათ ჯამს:\n",
    "\n",
    "```python\n",
    "Sample Input:\n",
    "8 11\n",
    "  \n",
    "Sample Output:\n",
    "19.0\n",
    "```"
   ]
  },
  {
   "cell_type": "code",
   "execution_count": 3,
   "id": "2c6d32cc",
   "metadata": {},
   "outputs": [],
   "source": [
    "# ჩაწერე კოდი აქ"
   ]
  },
  {
   "cell_type": "markdown",
   "id": "bd89b08e",
   "metadata": {},
   "source": [
    "__დავალება 9.__\n",
    "\n",
    "მაღაზიაში იყიდება სხვადასხვა ფერის კალმისტარი. `X` ლურჯი, `y` მწვანე, ორჯერ მეტი შავი, ვიდრე ლურჯი და ოთხჯერ მეტი წითელი, ვიდრე მწვანე. დაწერეთ პროგრამა, რომელშიც შეგვყვავს `X` და `Y` მთელი ტიპის მნიშვნელობები ერთ სტრიქონში:\n",
    "\n",
    "                        X, Y = map(int, input().split())\n",
    "                        \n",
    "და ეკრანზე ბეჭდავს კალმების საერთო რაოდენობას.\n",
    "\n",
    "```python\n",
    "Sample Input:\n",
    "10 20\n",
    "  \n",
    "Sample Output:\n",
    "130\n",
    "```"
   ]
  },
  {
   "cell_type": "code",
   "execution_count": 3,
   "id": "78b5cf41",
   "metadata": {},
   "outputs": [],
   "source": [
    "# ჩაწერე კოდი აქ"
   ]
  },
  {
   "cell_type": "markdown",
   "id": "687a496d",
   "metadata": {},
   "source": [
    "__დავალება 10.__\n",
    "\n",
    "ეკრანიდან ორ სტრიქონად შეგვყავს მართკუთხედის სიგრძე და სიგანე (ათწილადი მნიშვნელობები). დავბეჭდოთ მართკუთხედის პერიმეტრი.\n",
    "\n",
    "```python\n",
    "Sample Input:\n",
    "8\n",
    "11\n",
    "  \n",
    "Sample Output:\n",
    "38.0\n",
    "```"
   ]
  },
  {
   "cell_type": "code",
   "execution_count": 3,
   "id": "e87ac9df",
   "metadata": {},
   "outputs": [],
   "source": [
    "# ჩაწერე კოდი აქ"
   ]
  },
  {
   "cell_type": "markdown",
   "id": "3aff286d",
   "metadata": {},
   "source": [
    "__დავალება 11.__\n",
    "\n",
    "დაბეჭდეთ `math.pi`-ს მნიშვნელობა მეათასამდე დამრგვალების სიზუსტით.\n",
    "\n",
    "```python\n",
    "Sample Input:\n",
    "  \n",
    "Sample Output:\n",
    "3.142\n",
    "```"
   ]
  },
  {
   "cell_type": "code",
   "execution_count": 3,
   "id": "3ba13ef4",
   "metadata": {},
   "outputs": [],
   "source": [
    "# ჩაწერე კოდი აქ"
   ]
  },
  {
   "cell_type": "markdown",
   "id": "1cf18bc8",
   "metadata": {},
   "source": [
    "__დავალება 12.__\n",
    "\n",
    "კლავიატურიდა შეგვაქვს ერთი ათწილადის ტიპის რიცხვი. დავბეჭდოთ ეს რიცხვი, ოღონდ წინ დავურთოთ შეტყობინება: `You entered the number `\n",
    "\n",
    "```python\n",
    "Sample Input:\n",
    "7.54\n",
    "  \n",
    "Sample Output:\n",
    "You entered the number 7.54\n",
    "```"
   ]
  },
  {
   "cell_type": "code",
   "execution_count": 3,
   "id": "9595548d",
   "metadata": {},
   "outputs": [],
   "source": [
    "# ჩაწერე კოდი აქ"
   ]
  }
 ],
 "metadata": {
  "kernelspec": {
   "display_name": "Python 3",
   "language": "python",
   "name": "python3"
  },
  "language_info": {
   "codemirror_mode": {
    "name": "ipython",
    "version": 3
   },
   "file_extension": ".py",
   "mimetype": "text/x-python",
   "name": "python",
   "nbconvert_exporter": "python",
   "pygments_lexer": "ipython3",
   "version": "3.8.8"
  }
 },
 "nbformat": 4,
 "nbformat_minor": 5
}
