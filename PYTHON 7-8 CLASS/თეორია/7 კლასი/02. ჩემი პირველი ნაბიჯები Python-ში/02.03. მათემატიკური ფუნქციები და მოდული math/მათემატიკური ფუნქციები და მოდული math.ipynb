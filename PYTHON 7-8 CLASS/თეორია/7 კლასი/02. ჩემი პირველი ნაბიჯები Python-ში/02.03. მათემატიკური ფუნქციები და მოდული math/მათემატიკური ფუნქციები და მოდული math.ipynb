{
 "cells": [
  {
   "cell_type": "markdown",
   "id": "6a20febc",
   "metadata": {},
   "source": [
    "# მათემატიკური ფუნქციები და მოდული math"
   ]
  },
  {
   "cell_type": "markdown",
   "id": "7f7b908b",
   "metadata": {},
   "source": [
    "### ჩადგმული მათემატიკური ფუნქციები"
   ]
  },
  {
   "cell_type": "code",
   "execution_count": 5,
   "id": "97362f31",
   "metadata": {},
   "outputs": [
    {
     "name": "stdout",
     "output_type": "stream",
     "text": [
      "5\n",
      "1.5\n",
      "5.65\n"
     ]
    }
   ],
   "source": [
    "print(abs(-5))\n",
    "print(abs(1.5))\n",
    "\n",
    "a = abs(-5.65)\n",
    "print(a)"
   ]
  },
  {
   "cell_type": "code",
   "execution_count": 10,
   "id": "49f15c5f",
   "metadata": {},
   "outputs": [
    {
     "name": "stdout",
     "output_type": "stream",
     "text": [
      "-10\n",
      "-10\n",
      "\n",
      "10\n",
      "10\n"
     ]
    }
   ],
   "source": [
    "print(min(1, 2, 3, 0, -10, 10))\n",
    "\n",
    "b = min(1, 2, 3, 0, -10, 10)\n",
    "print(b)\n",
    "\n",
    "print()\n",
    "\n",
    "print(max(1, 2, 3, 0, -10, 10))\n",
    "\n",
    "b = max(1, 2, 3, 0, -10, 10)\n",
    "print(b)"
   ]
  },
  {
   "cell_type": "code",
   "execution_count": 16,
   "id": "19edece8",
   "metadata": {},
   "outputs": [
    {
     "name": "stdout",
     "output_type": "stream",
     "text": [
      "1\n",
      "36\n",
      "36\n",
      "\n",
      "7.0\n",
      "7.0\n",
      "7.0\n",
      "7.0\n",
      "\n",
      "3.0\n",
      "3.0\n"
     ]
    }
   ],
   "source": [
    "print(pow(1, 2))\n",
    "\n",
    "print(pow(6, 2))\n",
    "print( 6 ** 2)\n",
    "\n",
    "print()\n",
    "\n",
    "print(pow(49, 0.5))\n",
    "print(pow(49, 1/2))\n",
    "print(49 ** 0.5)\n",
    "print(49 ** (1/2))\n",
    "\n",
    "print()\n",
    "\n",
    "print(pow(27, 1/3))\n",
    "print(27 ** (1/3))"
   ]
  },
  {
   "cell_type": "code",
   "execution_count": 24,
   "id": "dc835f94",
   "metadata": {},
   "outputs": [
    {
     "name": "stdout",
     "output_type": "stream",
     "text": [
      "0\n",
      "2\n",
      "2\n",
      "4\n",
      "12\n",
      "14\n",
      "\n",
      "11\n"
     ]
    }
   ],
   "source": [
    "print(round(0.5))\n",
    "print(round(1.5))\n",
    "print(round(2.5))\n",
    "print(round(3.5))\n",
    "print(round(12.5))\n",
    "print(round(13.5))\n",
    "\n",
    "print()\n",
    "\n",
    "print(round(10.5000000001))"
   ]
  },
  {
   "cell_type": "code",
   "execution_count": 34,
   "id": "cef061a5",
   "metadata": {},
   "outputs": [
    {
     "name": "stdout",
     "output_type": "stream",
     "text": [
      "7.88\n",
      "7.8\n",
      "7.846\n",
      "\n",
      "10.0\n",
      "800.0\n",
      "780.0\n"
     ]
    }
   ],
   "source": [
    "print(round(7.8756, 2))\n",
    "print(round(7.8, 2))\n",
    "print(round(7.845575, 3))\n",
    "\n",
    "print()\n",
    "\n",
    "print(round(7.845575, -1))\n",
    "print(round(784.5575, -2))\n",
    "print(round(784.5575, -1))"
   ]
  },
  {
   "cell_type": "code",
   "execution_count": 36,
   "id": "0ba14233",
   "metadata": {},
   "outputs": [
    {
     "name": "stdout",
     "output_type": "stream",
     "text": [
      "3\n",
      "3\n"
     ]
    }
   ],
   "source": [
    "print(max(1, 2, abs(-3), -10))\n",
    "print(max(1, 2, abs(min(10, 5, -3, 12, 7)), -10))"
   ]
  },
  {
   "cell_type": "code",
   "execution_count": 49,
   "id": "69af499f",
   "metadata": {},
   "outputs": [
    {
     "name": "stdout",
     "output_type": "stream",
     "text": [
      "6\n",
      "-5\n",
      "\n",
      "5\n",
      "-4\n",
      "\n",
      "720\n",
      "\n",
      "2\n",
      "<class 'int'>\n",
      "\n",
      "7.0\n",
      "\n",
      "3.141592653589793\n",
      "2.718281828459045\n"
     ]
    }
   ],
   "source": [
    "import math\n",
    "\n",
    "print(math.ceil(5.2))\n",
    "print(math.ceil(-5.2))\n",
    "\n",
    "print()\n",
    "\n",
    "print(math.floor(5.99))\n",
    "print(math.floor(-3.38))\n",
    "\n",
    "print()\n",
    "\n",
    "print(math.factorial(6))  # 1 * 2 * 3 * 4 * 5 * 6\n",
    "\n",
    "print()\n",
    "\n",
    "print(math.trunc(2.56))  # print(int(2.56))\n",
    "print(type(math.trunc(2.56)))\n",
    "\n",
    "print()\n",
    "\n",
    "print(math.sqrt(49))  # print(49 ** 0.5)\n",
    "\n",
    "print()\n",
    "\n",
    "print(math.pi)\n",
    "print(math.e)"
   ]
  }
 ],
 "metadata": {
  "kernelspec": {
   "display_name": "Python 3",
   "language": "python",
   "name": "python3"
  },
  "language_info": {
   "codemirror_mode": {
    "name": "ipython",
    "version": 3
   },
   "file_extension": ".py",
   "mimetype": "text/x-python",
   "name": "python",
   "nbconvert_exporter": "python",
   "pygments_lexer": "ipython3",
   "version": "3.8.8"
  }
 },
 "nbformat": 4,
 "nbformat_minor": 5
}
