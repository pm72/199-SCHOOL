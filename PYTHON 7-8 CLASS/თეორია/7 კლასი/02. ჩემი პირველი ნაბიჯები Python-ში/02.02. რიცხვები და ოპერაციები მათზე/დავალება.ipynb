{
 "cells": [
  {
   "cell_type": "markdown",
   "id": "af0d0285",
   "metadata": {},
   "source": [
    "__დავალება 1.__\n",
    "\n",
    "მონაცემთა რომელ ტიპს მიეკუთვნება `int`?\n",
    "\n",
    "* ასეთი ტიპი არ არსებობს\n",
    "* კომპლექსური\n",
    "* მცოცავწერტილიანი\n",
    "* მთელი"
   ]
  },
  {
   "cell_type": "code",
   "execution_count": null,
   "id": "a4df9940",
   "metadata": {},
   "outputs": [],
   "source": [
    "# ჩაწერეთ სწორი პასუხი"
   ]
  },
  {
   "cell_type": "markdown",
   "id": "0e06a9d5",
   "metadata": {},
   "source": [
    "__დავალება 2.__\n",
    "\n",
    "მონაცემთა რომელ ტიპს მიეკუთვნება `float`?\n",
    "\n",
    "* მცოცავწერტილიანი\n",
    "* მთელი\n",
    "* კომპლექსური\n",
    "* ასეთი ტიპი არ არსებობს"
   ]
  },
  {
   "cell_type": "code",
   "execution_count": null,
   "id": "e653c012",
   "metadata": {},
   "outputs": [],
   "source": [
    "# ჩაწერეთ სწორი პასუხი"
   ]
  },
  {
   "cell_type": "markdown",
   "id": "d0a86e9b",
   "metadata": {},
   "source": [
    "__დავალება 3.__\n",
    "\n",
    "რას დაბეჭდავს ბრძანება `print(type(-36))`?\n",
    "\n",
    "* bool\n",
    "* float\n",
    "* complex\n",
    "* int\n",
    "* str"
   ]
  },
  {
   "cell_type": "code",
   "execution_count": null,
   "id": "26ad8660",
   "metadata": {},
   "outputs": [],
   "source": [
    "# ჩაწერეთ სწორი პასუხი"
   ]
  },
  {
   "cell_type": "markdown",
   "id": "0d79bd63",
   "metadata": {},
   "source": [
    "__დავალება 4.__\n",
    "\n",
    "რას დაბეჭდავს ბრძანება `print(type(3.67))`?\n",
    "\n",
    "* bool\n",
    "* str\n",
    "* complex\n",
    "* float\n",
    "* int"
   ]
  },
  {
   "cell_type": "code",
   "execution_count": 5,
   "id": "59bbd10a",
   "metadata": {},
   "outputs": [],
   "source": [
    "# ჩაწერეთ სწორი "
   ]
  },
  {
   "cell_type": "markdown",
   "id": "cea850c8",
   "metadata": {},
   "source": [
    "__დავალება 5.__\n",
    "\n",
    "სწორად დაალაგეთ არითმეტიკულ ოპერატორები და მათი დასახელებები:\n",
    "\n",
    "`+` – გამრავლება\n",
    "\n",
    "`-` – გაყოფა\n",
    "\n",
    "`*` – ნაშთის აღება\n",
    "\n",
    "`/` – მთელზე გაყოფა\n",
    "\n",
    "`//` – ახარისხება\n",
    "\n",
    "`%` – მიმატება\n",
    "\n",
    "`**` – გამოკლება"
   ]
  },
  {
   "cell_type": "code",
   "execution_count": null,
   "id": "118f02f5",
   "metadata": {},
   "outputs": [],
   "source": [
    "# ჩაწერეთ სწორი პასუხი"
   ]
  },
  {
   "cell_type": "markdown",
   "id": "3797b17f",
   "metadata": {},
   "source": [
    "__დავალება 6.__\n",
    "\n",
    "რა დაიბეჭდება `7.0 + 2.5`?"
   ]
  },
  {
   "cell_type": "code",
   "execution_count": null,
   "id": "4378a0cb",
   "metadata": {},
   "outputs": [],
   "source": [
    "# ჩაწერეთ სწორი პასუხი"
   ]
  },
  {
   "cell_type": "markdown",
   "id": "c86cd65d",
   "metadata": {},
   "source": [
    "__დავალება 7.__\n",
    "\n",
    "რა დაიბეჭდება `2 ** 4`?"
   ]
  },
  {
   "cell_type": "code",
   "execution_count": null,
   "id": "e451b067",
   "metadata": {},
   "outputs": [],
   "source": [
    "# ჩაწერეთ სწორი პასუხი"
   ]
  },
  {
   "cell_type": "markdown",
   "id": "541238fd",
   "metadata": {},
   "source": [
    "__დავალება 8.__\n",
    "\n",
    "რა მნიშვნელობას მივიღებთ `32 / 2 ** 4` გამოთვლისას?"
   ]
  },
  {
   "cell_type": "code",
   "execution_count": null,
   "id": "95f366c5",
   "metadata": {},
   "outputs": [],
   "source": [
    "# ჩაწერეთ სწორი პასუხი"
   ]
  },
  {
   "cell_type": "markdown",
   "id": "1863091f",
   "metadata": {},
   "source": [
    "__დავალება 9.__\n",
    "\n",
    "რისი ტოლია `11 % 3`?"
   ]
  },
  {
   "cell_type": "code",
   "execution_count": null,
   "id": "0503a997",
   "metadata": {},
   "outputs": [],
   "source": [
    "# ჩაწერეთ სწორი პასუხი"
   ]
  },
  {
   "cell_type": "markdown",
   "id": "d025d4bd",
   "metadata": {},
   "source": [
    "__დავალება 10.__\n",
    "\n",
    "რისი ტოლია `11 % 33`?"
   ]
  },
  {
   "cell_type": "code",
   "execution_count": null,
   "id": "e16629df",
   "metadata": {},
   "outputs": [],
   "source": [
    "# ჩაწერეთ სწორი პასუხი"
   ]
  },
  {
   "cell_type": "markdown",
   "id": "e7e5f2e7",
   "metadata": {},
   "source": [
    "__დავალება 11.__\n",
    "\n",
    "რისი ტოლია `21 // 4`?"
   ]
  },
  {
   "cell_type": "code",
   "execution_count": null,
   "id": "e9e79f92",
   "metadata": {},
   "outputs": [],
   "source": [
    "# ჩაწერეთ სწორი პასუხი"
   ]
  },
  {
   "cell_type": "markdown",
   "id": "a13a2de7",
   "metadata": {},
   "source": [
    "__დავალება 12.__\n",
    "\n",
    "რას დავინახავთ `print(type(8/2))` ბრძანების შესრულებისას?\n",
    "\n",
    "* int\n",
    "* complex\n",
    "* float\n",
    "* str"
   ]
  },
  {
   "cell_type": "code",
   "execution_count": null,
   "id": "f3a037fe",
   "metadata": {},
   "outputs": [],
   "source": [
    "# ჩაწერეთ სწორი პასუხი"
   ]
  },
  {
   "cell_type": "markdown",
   "id": "0bd4d9f2",
   "metadata": {},
   "source": [
    "__დავალება 13.__\n",
    "\n",
    "რისი ტოლი იქნება `i`-ს მნიშვნელობა პროგრამის შესრულებისას:\n",
    "\n",
    "```python\n",
    "i = 2\n",
    "i += 3\n",
    "print(i)\n",
    "```"
   ]
  },
  {
   "cell_type": "code",
   "execution_count": null,
   "id": "40a3c482",
   "metadata": {},
   "outputs": [],
   "source": [
    "# ჩაწერეთ სწორი პასუხი"
   ]
  },
  {
   "cell_type": "markdown",
   "id": "497829e4",
   "metadata": {},
   "source": [
    "__დავალება 14.__\n",
    "\n",
    "რისი ტოლი იქნება `j`-ს მნიშვნელობა პროგრამის შესრულებისას:\n",
    "\n",
    "```python\n",
    "j = 10\n",
    "j -= 7\n",
    "print(j)\n",
    "```"
   ]
  },
  {
   "cell_type": "code",
   "execution_count": null,
   "id": "f6fb290a",
   "metadata": {},
   "outputs": [],
   "source": [
    "# ჩაწერეთ სწორი პასუხი"
   ]
  },
  {
   "cell_type": "markdown",
   "id": "78774671",
   "metadata": {},
   "source": [
    "__დავალება 15.__\n",
    "\n",
    "რისი ტოლი იქნება `k`-ს მნიშვნელობა პროგრამის შესრულებისას:\n",
    "\n",
    "```python\n",
    "k = 8\n",
    "k *= 2\n",
    "print(k)\n",
    "```"
   ]
  },
  {
   "cell_type": "code",
   "execution_count": null,
   "id": "7b74cd35",
   "metadata": {},
   "outputs": [],
   "source": []
  }
 ],
 "metadata": {
  "kernelspec": {
   "display_name": "Python 3",
   "language": "python",
   "name": "python3"
  },
  "language_info": {
   "codemirror_mode": {
    "name": "ipython",
    "version": 3
   },
   "file_extension": ".py",
   "mimetype": "text/x-python",
   "name": "python",
   "nbconvert_exporter": "python",
   "pygments_lexer": "ipython3",
   "version": "3.11.3"
  }
 },
 "nbformat": 4,
 "nbformat_minor": 5
}
