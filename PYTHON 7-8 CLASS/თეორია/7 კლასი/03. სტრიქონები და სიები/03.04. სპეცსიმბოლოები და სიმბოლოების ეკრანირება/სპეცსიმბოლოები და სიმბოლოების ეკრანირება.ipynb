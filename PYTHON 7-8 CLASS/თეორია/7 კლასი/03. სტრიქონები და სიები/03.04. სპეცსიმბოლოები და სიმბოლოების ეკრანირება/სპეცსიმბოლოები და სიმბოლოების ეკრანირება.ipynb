{
 "cells": [
  {
   "cell_type": "markdown",
   "id": "2d99cc5f",
   "metadata": {},
   "source": [
    "# სპეცსიმბოლოები და სიმბოლოების ეკრანირება"
   ]
  },
  {
   "cell_type": "code",
   "execution_count": 22,
   "id": "24f36d93",
   "metadata": {
    "scrolled": true
   },
   "outputs": [
    {
     "data": {
      "text/plain": [
       "'Hello\\npython'"
      ]
     },
     "execution_count": 22,
     "metadata": {},
     "output_type": "execute_result"
    }
   ],
   "source": [
    "text = '''Hello\n",
    "python'''\n",
    "\n",
    "text"
   ]
  },
  {
   "cell_type": "code",
   "execution_count": 24,
   "id": "3210e6b6",
   "metadata": {},
   "outputs": [
    {
     "name": "stdout",
     "output_type": "stream",
     "text": [
      "Hello\n",
      "python\n",
      "12\n"
     ]
    }
   ],
   "source": [
    "print(text)\n",
    "print(len(text))"
   ]
  },
  {
   "cell_type": "markdown",
   "id": "fb1bb3fa",
   "metadata": {},
   "source": [
    "`\\n` – სამომხმარებლო სომბოლო (ახალ ხაზზე გადასვლა). მხედველობაში მიიღება ერთ სიმბოლოდ.\n",
    "\n",
    "`\\` + სიმბოლო"
   ]
  },
  {
   "cell_type": "code",
   "execution_count": 26,
   "id": "ad61231c",
   "metadata": {},
   "outputs": [
    {
     "data": {
      "text/plain": [
       "'Panda needs\\npython'"
      ]
     },
     "execution_count": 26,
     "metadata": {},
     "output_type": "execute_result"
    }
   ],
   "source": [
    "t = \"Panda needs\\npython\"\n",
    "\n",
    "t"
   ]
  },
  {
   "cell_type": "code",
   "execution_count": 28,
   "id": "6a936b6f",
   "metadata": {},
   "outputs": [
    {
     "name": "stdout",
     "output_type": "stream",
     "text": [
      "Panda needs\n",
      "python\n"
     ]
    }
   ],
   "source": [
    "print(t)"
   ]
  },
  {
   "cell_type": "markdown",
   "id": "bbea85e4",
   "metadata": {},
   "source": [
    "__სამომხმაებლო სიმბოლოები:__  \n",
    "`\\n`  \n",
    "`\\\\`  \n",
    "`\\'`  \n",
    "`\\\"` \n",
    "`\\a`  \n",
    "`\\b`  \n",
    "`\\f`  \n",
    "`\\r`  \n",
    "`\\t`  \n",
    "`\\v`  \n",
    "`\\0`  \n",
    "`\\xhh`  \n",
    "`\\ooo`  \n",
    "`\\N{id}`  \n",
    "`\\uhhh`  \n",
    "`\\Uhhhhhhhh`  \n",
    "`\\სხვა`  "
   ]
  },
  {
   "cell_type": "markdown",
   "id": "251d8bdc",
   "metadata": {},
   "source": [
    "__ყველაზე ხშირად გამოყენებადი სამომხმარებლო სიმბოლოები:__  \n",
    "`\\n`  \n",
    "`\\\\`  \n",
    "`\\'`  \n",
    "`\\\"`  \n",
    "`\\t`"
   ]
  },
  {
   "cell_type": "code",
   "execution_count": 33,
   "id": "5f805f02",
   "metadata": {},
   "outputs": [
    {
     "name": "stdout",
     "output_type": "stream",
     "text": [
      "\tPanda needs\n",
      "python\n",
      "\n",
      "\\Panda needs\n",
      "python\n"
     ]
    }
   ],
   "source": [
    "t = \"\\tPanda needs\\npython\"\n",
    "print(t)\n",
    "\n",
    "print()\n",
    "\n",
    "t = \"\\Panda needs\\npython\"\n",
    "print(t)"
   ]
  },
  {
   "cell_type": "code",
   "execution_count": 36,
   "id": "60330151",
   "metadata": {},
   "outputs": [
    {
     "name": "stdout",
     "output_type": "stream",
     "text": [
      "Panda \n",
      "eeds\\ python\n"
     ]
    }
   ],
   "source": [
    "t = \"Panda \\needs\\ python\"\n",
    "print(t)"
   ]
  },
  {
   "cell_type": "markdown",
   "id": "796aae06",
   "metadata": {},
   "source": [
    "t = \"Panda \\\\needs\\\\ python\"\n",
    "print(t)"
   ]
  },
  {
   "cell_type": "markdown",
   "id": "5a098a52",
   "metadata": {},
   "source": [
    "ასეთ მიდგომას ეწოდება __სიმბოლოს ეკრანირება__"
   ]
  },
  {
   "cell_type": "markdown",
   "id": "f0235570",
   "metadata": {},
   "source": [
    "`D:\\python\\projects\\199\\2023-2024\\7_1\\text.py`"
   ]
  },
  {
   "cell_type": "code",
   "execution_count": 44,
   "id": "75b10f55",
   "metadata": {},
   "outputs": [
    {
     "name": "stdout",
     "output_type": "stream",
     "text": [
      "D:\\python\\projects\\199\\2023-2024\\7_1\\text.py\n"
     ]
    }
   ],
   "source": [
    "path = \"D:\\\\python\\\\projects\\\\199\\\\2023-2024\\\\7_1\\\\text.py\"\n",
    "print(path)"
   ]
  },
  {
   "cell_type": "code",
   "execution_count": 47,
   "id": "d8dd1462",
   "metadata": {},
   "outputs": [
    {
     "ename": "SyntaxError",
     "evalue": "invalid syntax (<ipython-input-47-3f1b24c77042>, line 2)",
     "output_type": "error",
     "traceback": [
      "\u001b[1;36m  File \u001b[1;32m\"<ipython-input-47-3f1b24c77042>\"\u001b[1;36m, line \u001b[1;32m2\u001b[0m\n\u001b[1;33m    s = \"Vine marks \"SAPERAVI\"\"\u001b[0m\n\u001b[1;37m                     ^\u001b[0m\n\u001b[1;31mSyntaxError\u001b[0m\u001b[1;31m:\u001b[0m invalid syntax\n"
     ]
    }
   ],
   "source": [
    "# Vine marks \"SAPERAVI\"\n",
    "s = \"Vine marks \"SAPERAVI\"\"\n",
    "print(s)"
   ]
  },
  {
   "cell_type": "code",
   "execution_count": 49,
   "id": "b3a388a9",
   "metadata": {
    "scrolled": true
   },
   "outputs": [
    {
     "name": "stdout",
     "output_type": "stream",
     "text": [
      "Vine marks \"SAPERAVI\"\n",
      "Vine marks 'SAPERAVI'\n"
     ]
    }
   ],
   "source": [
    "# Vine marks \"SAPERAVI\"\n",
    "s = \"Vine marks \\\"SAPERAVI\\\"\"\n",
    "print(s)\n",
    "\n",
    "s = 'Vine marks \\'SAPERAVI\\''\n",
    "print(s)"
   ]
  },
  {
   "cell_type": "code",
   "execution_count": 50,
   "id": "c8a16f79",
   "metadata": {
    "scrolled": true
   },
   "outputs": [
    {
     "name": "stdout",
     "output_type": "stream",
     "text": [
      "Vine marks \"SAPERAVI\"\n",
      "Vine marks 'SAPERAVI'\n"
     ]
    }
   ],
   "source": [
    "s = 'Vine marks \"SAPERAVI\"'\n",
    "print(s)\n",
    "\n",
    "s = \"Vine marks 'SAPERAVI'\"\n",
    "print(s)"
   ]
  },
  {
   "cell_type": "markdown",
   "id": "fdc8b734",
   "metadata": {},
   "source": [
    "`row strings`"
   ]
  },
  {
   "cell_type": "code",
   "execution_count": 54,
   "id": "fcefd696",
   "metadata": {},
   "outputs": [
    {
     "name": "stdout",
     "output_type": "stream",
     "text": [
      "D:\\python\\projects\\199\\2023-2024\\7_1\\text.py\n",
      "D:\\\\python\\\\projects\\\\199\\\\2023-2024\\\\7_1\\\\text.py\n",
      "D:\\python\\projects\\199\\2023-2024\\7_1\\text.py\\n\n"
     ]
    }
   ],
   "source": [
    "path = \"D:\\\\python\\\\projects\\\\199\\\\2023-2024\\\\7_1\\\\text.py\"\n",
    "print(path)\n",
    "\n",
    "path = r\"D:\\\\python\\\\projects\\\\199\\\\2023-2024\\\\7_1\\\\text.py\"\n",
    "print(path)\n",
    "\n",
    "path = r\"D:\\python\\projects\\199\\2023-2024\\7_1\\text.py\"\n",
    "print(path)"
   ]
  }
 ],
 "metadata": {
  "kernelspec": {
   "display_name": "Python 3",
   "language": "python",
   "name": "python3"
  },
  "language_info": {
   "codemirror_mode": {
    "name": "ipython",
    "version": 3
   },
   "file_extension": ".py",
   "mimetype": "text/x-python",
   "name": "python",
   "nbconvert_exporter": "python",
   "pygments_lexer": "ipython3",
   "version": "3.8.8"
  }
 },
 "nbformat": 4,
 "nbformat_minor": 5
}
