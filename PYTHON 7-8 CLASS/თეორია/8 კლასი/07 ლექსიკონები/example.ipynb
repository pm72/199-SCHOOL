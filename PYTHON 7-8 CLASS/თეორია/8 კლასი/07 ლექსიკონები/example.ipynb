{
 "cells": [
  {
   "cell_type": "markdown",
   "id": "a843f881",
   "metadata": {},
   "source": [
    "როგორ ავიღო ნიკას შედეგი?"
   ]
  },
  {
   "cell_type": "code",
   "execution_count": 7,
   "id": "a4db0428",
   "metadata": {},
   "outputs": [
    {
     "name": "stdout",
     "output_type": "stream",
     "text": [
      "[{'Paata': 'B'}, {'Nika': 'A'}, {'Lasha': 'C'}]\n",
      "{'Nika': 'A'}\n",
      "A\n"
     ]
    }
   ],
   "source": [
    "students = {\n",
    "  \"students\": [\n",
    "    {\"id\": 1, \"name\": \"Paata\", \"age\": 24},\n",
    "    {\"id\": 2, \"name\": \"Nika\", \"age\": 20},\n",
    "    {\"id\": 3, \"name\": \"Lasha\", \"age\": 21},\n",
    "  ],\n",
    "  \"grades\": [\n",
    "    {\"Paata\": \"B\"},\n",
    "    {\"Nika\": \"A\"},\n",
    "    {\"Lasha\": \"C\"},\n",
    "  ]\n",
    "}\n",
    "\n",
    "nika_grade = students[\"grades\"]\n",
    "print(nika_grade)\n",
    "\n",
    "nika_grade = students[\"grades\"][1]\n",
    "print(nika_grade)\n",
    "\n",
    "nika_grade = students[\"grades\"][1]['Nika']\n",
    "print(nika_grade)"
   ]
  },
  {
   "cell_type": "markdown",
   "id": "93658f64",
   "metadata": {},
   "source": [
    "---\n",
    "\n",
    "ახლა დავბეჭდოთ ასეთი ფორმატით:\n",
    "\n",
    "`Student_id: 3, Name: Lasha, Grade\" C`"
   ]
  },
  {
   "cell_type": "code",
   "execution_count": 21,
   "id": "062b1b4a",
   "metadata": {},
   "outputs": [
    {
     "name": "stdout",
     "output_type": "stream",
     "text": [
      "Student_id: 3, Name: Lasha, Grade: C\n"
     ]
    }
   ],
   "source": [
    "students = {\n",
    "  \"students\": [\n",
    "    {\"id\": 1, \"name\": \"Paata\", \"age\": 24},\n",
    "    {\"id\": 2, \"name\": \"Nika\", \"age\": 20},\n",
    "    {\"id\": 3, \"name\": \"Lasha\", \"age\": 21},\n",
    "  ],\n",
    "  \"grades\": [\n",
    "    {\"Paata\": \"B\"},\n",
    "    {\"Nika\": \"A\"},\n",
    "    {\"Lasha\": \"C\"},\n",
    "  ]\n",
    "}\n",
    "\n",
    "st_id = students[\"students\"][2]['id']\n",
    "st_name = students[\"students\"][st_id - 1]['name']\n",
    "st_grade = students[\"grades\"][st_id - 1][st_name]\n",
    "\n",
    "print(f\"Student_id: {st_id}, Name: {st_name}, Grade: {st_grade}\")"
   ]
  },
  {
   "cell_type": "markdown",
   "id": "481b1975",
   "metadata": {},
   "source": [
    "---\n",
    "\n",
    "დავბეჭდოთ ყველა სტუდენტის მონაცემი\n",
    "\n",
    "```py\n",
    "ID: 1, Name: Paata, Grade B\n",
    "ID: 2, Name: Nika, Grade A\n",
    "ID: 3, Name: Lasha, Grade C\n",
    "```"
   ]
  },
  {
   "cell_type": "code",
   "execution_count": 72,
   "id": "bb941cc8",
   "metadata": {},
   "outputs": [
    {
     "name": "stdout",
     "output_type": "stream",
     "text": [
      "ID: 1, Name: Paata, Grade: B\n",
      "ID: 2, Name: Nika, Grade: A\n",
      "ID: 3, Name: Lasha, Grade: C\n"
     ]
    }
   ],
   "source": [
    "# I ვარიანტი\n",
    "\n",
    "students = {\n",
    "  \"students\": [\n",
    "    {\"id\": 1, \"name\": \"Paata\", \"age\": 24},\n",
    "    {\"id\": 2, \"name\": \"Nika\", \"age\": 20},\n",
    "    {\"id\": 3, \"name\": \"Lasha\", \"age\": 21},\n",
    "  ],\n",
    "  \"grades\": [\n",
    "    {\"Paata\": \"B\"},\n",
    "    {\"Nika\": \"A\"},\n",
    "    {\"Lasha\": \"C\"},\n",
    "  ]\n",
    "}\n",
    "\n",
    "for student in students[\"students\"]:\n",
    "  st_id = student['id']\n",
    "  st_name = student['name']\n",
    "\n",
    "  for grade in students[\"grades\"]:\n",
    "    if st_name in grade:\n",
    "      st_grade = grade[st_name]\n",
    "\n",
    "  print(f\"ID: {st_id}, Name: {st_name}, Grade: {st_grade}\")"
   ]
  },
  {
   "cell_type": "code",
   "execution_count": 50,
   "id": "0b4fd5d6",
   "metadata": {},
   "outputs": [
    {
     "name": "stdout",
     "output_type": "stream",
     "text": [
      "ID: 1, Name: Paata, Grade: B\n",
      "ID: 2, Name: Nika, Grade: A\n",
      "ID: 3, Name: Lasha, Grade: C\n"
     ]
    }
   ],
   "source": [
    "# II ვარიანტი\n",
    "\n",
    "students = {\n",
    "  \"students\": [\n",
    "    {\"id\": 1, \"name\": \"Paata\", \"age\": 24},\n",
    "    {\"id\": 2, \"name\": \"Nika\", \"age\": 20},\n",
    "    {\"id\": 3, \"name\": \"Lasha\", \"age\": 21},\n",
    "  ],\n",
    "  \"grades\": [\n",
    "    {\"Paata\": \"B\"},\n",
    "    {\"Nika\": \"A\"},\n",
    "    {\"Lasha\": \"C\"},\n",
    "  ]\n",
    "}\n",
    "\n",
    "for student in students[\"students\"]:\n",
    "  st_id = student['id']\n",
    "  st_name = student['name']\n",
    "  st_grade = students[\"grades\"][st_id - 1][st_name]\n",
    "\n",
    "  print(f\"ID: {st_id}, Name: {st_name}, Grade: {st_grade}\")"
   ]
  },
  {
   "cell_type": "markdown",
   "id": "4fe22d2f",
   "metadata": {},
   "source": [
    "---\n",
    "\n",
    "დავბეჭდოთ ყველა სტუდენტის მონაცემები სხვადასხვა `id`-ებით"
   ]
  },
  {
   "cell_type": "code",
   "execution_count": null,
   "id": "ed4852a4",
   "metadata": {},
   "outputs": [],
   "source": [
    "students = {\n",
    "  \"students\": [\n",
    "    {\"id\": 20, \"name\": \"Paata\", \"age\": 24},\n",
    "    {\"id\": 100, \"name\": \"Nika\", \"age\": 20},\n",
    "    {\"id\": 1232, \"name\": \"Lasha\", \"age\": 21},\n",
    "  ],\n",
    "  \"grades\": [\n",
    "    {\"Paata\": \"B\"},\n",
    "    {\"Nika\": \"A\"},\n",
    "    {\"Lasha\": \"C\"},\n",
    "    {\"Archil\": \"C\"},\n",
    "    {\"Alexandre\": \"C\"},\n",
    "  ]\n",
    "}\n",
    "\n",
    "for student in students[\"students\"]:\n",
    "  st_id = student['id']\n",
    "  st_name = student['name']\n",
    "  st_grade = students[\"grades\"][st_id - 1][st_name]   # IndexError: list index out of range\n",
    "\n",
    "  print(f\"ID: {st_id}, Name: {st_name}, Grade: {st_grade}\")"
   ]
  },
  {
   "cell_type": "markdown",
   "id": "1348b858",
   "metadata": {},
   "source": [
    "`grades` სიაში `st_id` არ ემთხვევა სიის ინდექსებს `0..1..2..`   `20, 100, 1232`\n",
    "\n",
    "ჩავწეროთ: st_grade = '' და გავუშვათ პროგრამა..."
   ]
  },
  {
   "cell_type": "code",
   "execution_count": 52,
   "id": "a2a9a781",
   "metadata": {},
   "outputs": [
    {
     "name": "stdout",
     "output_type": "stream",
     "text": [
      "ID: 20, Name: Paata, Grade: \n",
      "ID: 100, Name: Nika, Grade: \n",
      "ID: 1232, Name: Lasha, Grade: \n"
     ]
    }
   ],
   "source": [
    "students = {\n",
    "  \"students\": [\n",
    "    {\"id\": 20, \"name\": \"Paata\", \"age\": 24},\n",
    "    {\"id\": 100, \"name\": \"Nika\", \"age\": 20},\n",
    "    {\"id\": 1232, \"name\": \"Lasha\", \"age\": 21},\n",
    "  ],\n",
    "  \"grades\": [\n",
    "    {\"Paata\": \"B\"},\n",
    "    {\"Nika\": \"A\"},\n",
    "    {\"Lasha\": \"C\"},\n",
    "    {\"Archil\": \"C\"},\n",
    "    {\"Alexandre\": \"C\"},\n",
    "  ]\n",
    "}\n",
    "\n",
    "for student in students[\"students\"]:\n",
    "  st_id = student['id']\n",
    "  st_name = student['name']\n",
    "  st_grade = ''\n",
    "\n",
    "  print(f\"ID: {st_id}, Name: {st_name}, Grade: {st_grade}\")"
   ]
  },
  {
   "cell_type": "code",
   "execution_count": 74,
   "id": "59eee821",
   "metadata": {},
   "outputs": [
    {
     "name": "stdout",
     "output_type": "stream",
     "text": [
      "{'Paata': 'B'}\n",
      "{'Nika': 'A'}\n",
      "{'Lasha': 'C'}\n",
      "{'Archil': 'C'}\n",
      "{'Alexandre': 'C'}\n",
      "{'Paata': 'B'}\n",
      "{'Nika': 'A'}\n",
      "{'Lasha': 'C'}\n",
      "{'Archil': 'C'}\n",
      "{'Alexandre': 'C'}\n",
      "{'Paata': 'B'}\n",
      "{'Nika': 'A'}\n",
      "{'Lasha': 'C'}\n",
      "{'Archil': 'C'}\n",
      "{'Alexandre': 'C'}\n"
     ]
    }
   ],
   "source": [
    "students = {\n",
    "  \"students\": [\n",
    "    {\"id\": 20, \"name\": \"Paata\", \"age\": 24},\n",
    "    {\"id\": 100, \"name\": \"Nika\", \"age\": 20},\n",
    "    {\"id\": 1232, \"name\": \"Lasha\", \"age\": 21},\n",
    "  ],\n",
    "  \"grades\": [\n",
    "    {\"Paata\": \"B\"},\n",
    "    {\"Nika\": \"A\"},\n",
    "    {\"Lasha\": \"C\"},\n",
    "    {\"Archil\": \"C\"},\n",
    "    {\"Alexandre\": \"C\"},\n",
    "  ]\n",
    "}\n",
    "\n",
    "for student in students[\"students\"]:\n",
    "  st_id = student['id']\n",
    "  st_name = student['name']\n",
    "  st_grade = ''\n",
    "\n",
    "  for grade in students[\"grades\"]:\n",
    "    print(grade)\n",
    "\n",
    "  # print(f\"ID: {st_id}, Name: {st_name}, Grade: {st_grade}\")"
   ]
  },
  {
   "cell_type": "code",
   "execution_count": 68,
   "id": "62d55546",
   "metadata": {},
   "outputs": [
    {
     "name": "stdout",
     "output_type": "stream",
     "text": [
      "ID: 20, Name: Paata, Grade: B\n",
      "ID: 100, Name: Nika, Grade: A\n",
      "ID: 1232, Name: Lasha, Grade: C\n"
     ]
    }
   ],
   "source": [
    "students = {\n",
    "  \"students\": [\n",
    "    {\"id\": 20, \"name\": \"Paata\", \"age\": 24},\n",
    "    {\"id\": 100, \"name\": \"Nika\", \"age\": 20},\n",
    "    {\"id\": 1232, \"name\": \"Lasha\", \"age\": 21},\n",
    "  ],\n",
    "  \"grades\": [\n",
    "    {\"Paata\": \"B\"},\n",
    "    {\"Nika\": \"A\"},\n",
    "    {\"Lasha\": \"C\"},\n",
    "    {\"Archil\": \"C\"},\n",
    "    {\"Alexandre\": \"C\"},\n",
    "  ]\n",
    "}\n",
    "\n",
    "for student in students[\"students\"]:\n",
    "  st_id = student['id']\n",
    "  st_name = student['name']\n",
    "\n",
    "  for grade in students[\"grades\"]:\n",
    "    if st_name in grade:\n",
    "      # print(st_name)\n",
    "      \n",
    "      st_grade = grade[st_name]\n",
    "\n",
    "  print(f\"ID: {st_id}, Name: {st_name}, Grade: {st_grade}\")"
   ]
  },
  {
   "cell_type": "markdown",
   "id": "908c5b1a",
   "metadata": {},
   "source": [
    "---\n",
    "\n",
    "ახლა, ასეთი ვარიანტი განვიხილოთ: `grades`-ებიდან ამოვიღოთ არჩილის შეფასების სტრიქონი, ხოლო `students`-ში არჩილის მონაცემები ჩავამატოთ. ციკლში კი – `st_grade = \"Grade not available\"` და დავბეჭდოთ მონაცემები."
   ]
  },
  {
   "cell_type": "code",
   "execution_count": 77,
   "id": "4d04b0fa",
   "metadata": {},
   "outputs": [
    {
     "name": "stdout",
     "output_type": "stream",
     "text": [
      "ID: 20, Name: Paata, Grade: B\n",
      "ID: 100, Name: Nika, Grade: A\n",
      "ID: 1232, Name: Lasha, Grade: Grade Not available\n",
      "ID: 8564, Name: Archil, Grade: Grade Not available\n"
     ]
    }
   ],
   "source": [
    "students = {\n",
    "  \"students\": [\n",
    "    {\"id\": 20, \"name\": \"Paata\", \"age\": 24},\n",
    "    {\"id\": 100, \"name\": \"Nika\", \"age\": 20},\n",
    "    {\"id\": 1232, \"name\": \"Lasha\", \"age\": 21},\n",
    "    {\"id\": 8564, \"name\": \"Archil\", \"age\": 32},\n",
    "  ],\n",
    "  \"grades\": [\n",
    "    {\"Paata\": \"B\"},\n",
    "    {\"Nika\": \"A\"},\n",
    "    {\"lasha\": \"C\"},\n",
    "    {\"Alexandre\": \"C\"},\n",
    "  ]\n",
    "}\n",
    "\n",
    "for student in students[\"students\"]:\n",
    "  st_id = student['id']\n",
    "  st_name = student['name']\n",
    "  st_grade = 'Grade Not available'\n",
    "\n",
    "  for grade in students[\"grades\"]:\n",
    "    if st_name in grade:\n",
    "      st_grade = grade[st_name]\n",
    "\n",
    "  print(f\"ID: {st_id}, Name: {st_name}, Grade: {st_grade}\")"
   ]
  },
  {
   "cell_type": "markdown",
   "id": "f0270dc7",
   "metadata": {},
   "source": [
    "---\n",
    "\n",
    "მონაცემებში შესაძლებელია სახელების დამთხვევა. თუ გვექნება ერთნაირ სახელიანი სტუდენტები, მაშინ მათი შეფასებებიც უნდა შევიტანოთ `grades`-ებში."
   ]
  },
  {
   "cell_type": "code",
   "execution_count": 83,
   "id": "978d802b",
   "metadata": {},
   "outputs": [
    {
     "name": "stdout",
     "output_type": "stream",
     "text": [
      "ID: 20, Name: Paata, Grade: A\n",
      "ID: 25, Name: Paata, Grade: A\n",
      "ID: 31, Name: Nika, Grade: B\n",
      "ID: 100, Name: Nika, Grade: B\n",
      "ID: 1232, Name: Lasha, Grade: C\n",
      "ID: 8564, Name: Archil, Grade: A\n"
     ]
    }
   ],
   "source": [
    "students = {\n",
    "  \"students\": [\n",
    "    {\"id\": 20, \"name\": \"Paata\", \"age\": 24},\n",
    "    {\"id\": 25, \"name\": \"Paata\", \"age\": 21},\n",
    "    {\"id\": 31, \"name\": \"Nika\", \"age\": 22},\n",
    "    {\"id\": 100, \"name\": \"Nika\", \"age\": 20},\n",
    "    {\"id\": 1232, \"name\": \"Lasha\", \"age\": 21},\n",
    "    {\"id\": 8564, \"name\": \"Archil\", \"age\": 32},\n",
    "  ],\n",
    "  \"grades\": [\n",
    "    {\"Paata\": \"B\"},\n",
    "    {\"Paata\": \"A\"},\n",
    "    {\"Nika\": \"A\"},\n",
    "    {\"Nika\": \"B\"},\n",
    "    {\"Lasha\": \"C\"},\n",
    "    {\"Archil\": \"A\"},\n",
    "  ]\n",
    "}\n",
    "\n",
    "for student in students[\"students\"]:\n",
    "  st_id = student['id']\n",
    "  st_name = student['name']\n",
    "  st_grade = 'Grade Not available'\n",
    "\n",
    "  for grade in students[\"grades\"]:\n",
    "    if st_name in grade:\n",
    "      st_grade = grade[st_name]\n",
    "\n",
    "  print(f\"ID: {st_id}, Name: {st_name}, Grade: {st_grade}\")"
   ]
  },
  {
   "cell_type": "markdown",
   "id": "8bf897a5",
   "metadata": {},
   "source": [
    "---\n",
    "\n",
    "როგორც ხედავთ ორივე პაატას და ნიკას `grade`-ები ერთნაირია, შესაბამისად – `A` და `B`. ჩაწერა შეფასების ბოლო მონაცემები.\n",
    "\n",
    "ჩვენ სტუდენტები (`students`) და მათი შეფასებები (`grades`) ერთმანეთთან სახელებითაა დაკავშირებული. ამიტომაც შემოწმებისას (მეორე ციკლი) ვამოწმებთ სახელებს (სტუდენტის სახელი თუ არის შეფასების ლექსიკონში). დადებითი პასუხის შემთხვევაში შეფასებების ლექსიკონიდან შეფასების ბოლო მნიშვნლობა ენიჭება ცვლად `st_grade`-ს. ეს რომ გამოვასწოროთ, საჭიროა სტიდენტების შესაბამისი `ID`-იბიც ჩავწეროთ `grades`-ში."
   ]
  },
  {
   "cell_type": "code",
   "execution_count": 86,
   "id": "6e09be12",
   "metadata": {},
   "outputs": [
    {
     "name": "stdout",
     "output_type": "stream",
     "text": [
      "ID: 20, Name: Paata, Grade: B\n",
      "ID: 25, Name: Paata, Grade: A\n",
      "ID: 31, Name: Nika, Grade: A\n",
      "ID: 100, Name: Nika, Grade: B\n",
      "ID: 1232, Name: Lasha, Grade: C\n",
      "ID: 8564, Name: Archil, Grade: A\n"
     ]
    }
   ],
   "source": [
    "students = {\n",
    "  \"students\": [\n",
    "    {\"id\": 20, \"name\": \"Paata\", \"age\": 24},\n",
    "    {\"id\": 25, \"name\": \"Paata\", \"age\": 21},\n",
    "    {\"id\": 31, \"name\": \"Nika\", \"age\": 22},\n",
    "    {\"id\": 100, \"name\": \"Nika\", \"age\": 20},\n",
    "    {\"id\": 1232, \"name\": \"Lasha\", \"age\": 21},\n",
    "    {\"id\": 8564, \"name\": \"Archil\", \"age\": 32},\n",
    "  ],\n",
    "  \"grades\": [\n",
    "    {\"id\":20, \"Paata\": \"B\"},\n",
    "    {\"id\":25, \"Paata\": \"A\"},\n",
    "    {\"id\":31, \"Nika\": \"A\"},\n",
    "    {\"id\":100, \"Nika\": \"B\"},\n",
    "    {\"id\":1232, \"Lasha\": \"C\"},\n",
    "    {\"id\":8564, \"Archil\": \"A\"},\n",
    "  ]\n",
    "}\n",
    "\n",
    "for student in students[\"students\"]:\n",
    "  st_id = student['id']\n",
    "  st_name = student['name']\n",
    "  st_grade = 'Grade Not available'\n",
    "\n",
    "  for grade in students[\"grades\"]:\n",
    "    if st_id == grade['id']:\n",
    "      st_grade = grade[st_name]\n",
    "\n",
    "  print(f\"ID: {st_id}, Name: {st_name}, Grade: {st_grade}\")"
   ]
  }
 ],
 "metadata": {
  "kernelspec": {
   "display_name": "Python 3",
   "language": "python",
   "name": "python3"
  },
  "language_info": {
   "codemirror_mode": {
    "name": "ipython",
    "version": 3
   },
   "file_extension": ".py",
   "mimetype": "text/x-python",
   "name": "python",
   "nbconvert_exporter": "python",
   "pygments_lexer": "ipython3",
   "version": "3.13.0"
  }
 },
 "nbformat": 4,
 "nbformat_minor": 5
}
