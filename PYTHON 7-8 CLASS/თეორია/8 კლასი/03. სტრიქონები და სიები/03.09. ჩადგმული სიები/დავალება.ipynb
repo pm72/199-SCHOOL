{
 "cells": [
  {
   "cell_type": "markdown",
   "id": "923f4903",
   "metadata": {},
   "source": [
    "#### დავალება 1.\n",
    "\n",
    "მოცემულია სია: `a = [5.4, 6.7, 10.4]`\n",
    "\n",
    "დაამატეთ სიის ბოლოში კლავიატურიდან შეტანილი რიცხვები სიის სახით ისე, რომ მიღებული სიის ბოლო ელემენტი ასევე წარმოადგენდეს სიას. დაბეჭდეთ მიღებული შედეგი ეკრანზე.\n",
    "\n",
    "```python\n",
    "Sample Input:\n",
    "8 11\n",
    "\n",
    "Sample Output:\n",
    "[5.4, 6.7, 10.4, [8, 11]]\n",
    "```"
   ]
  },
  {
   "cell_type": "code",
   "execution_count": 24,
   "id": "713e13d4",
   "metadata": {},
   "outputs": [],
   "source": [
    "a = [5.4, 6.7, 10.4]\n",
    "\n",
    "# კოდი ჩაწერე აქ"
   ]
  },
  {
   "cell_type": "markdown",
   "id": "93901451",
   "metadata": {},
   "source": [
    "#### დავალება 2.\n",
    "\n",
    "შეიტანეთ სამ ხაზად ტექსტური ინფორმაცია (თითოეული ცალ-ცალკე ხაზიდან). შეინახეთ ჩადგმული სიის სახით (თითოეული შეტანილი ხაზი წარმოადგებს სიას. მიიღეთ სამ ელემენტია სია, რომლის ყველა ელემენტი ასევე სიაა). შედეგი დაბეჭდეთ ეკრანზე.\n",
    "\n",
    "```python\n",
    "Sample Input:\n",
    "Python is one of the programming languages\n",
    "Georgia is a resort country\n",
    "Rugby is our game\n",
    "\n",
    "Sample Output:\n",
    "[['Python', 'is', 'one', 'of', 'the', 'programming', 'languages'], ['Georgia', 'is', 'a', 'resort', 'country'], ['Rugby', 'is', 'our', 'game']]\n",
    "```"
   ]
  },
  {
   "cell_type": "code",
   "execution_count": null,
   "id": "22a41c6b",
   "metadata": {},
   "outputs": [],
   "source": [
    "# კოდი ჩაწერე აქ"
   ]
  },
  {
   "cell_type": "markdown",
   "id": "fb189d6a",
   "metadata": {},
   "source": [
    "#### დავალება 3.\n",
    "\n",
    "შეიტანეთ მატრიცა სამ ხაზად (თითოეულ ხაზზე ოთხი რიცხვი გაყოფილი ინტერვალით). დაბეჭდეთ ეკრანზე ბოლო სვეტი სტრიქონის სახით.\n",
    "\n",
    "```python\n",
    "Sample Input:\n",
    "8 11 12 1\n",
    "9 4 36 -4\n",
    "1 12 49 5\n",
    "\n",
    "Sample Output:\n",
    "1 -4 5\n",
    "```"
   ]
  },
  {
   "cell_type": "code",
   "execution_count": null,
   "id": "cbc9ca1b",
   "metadata": {},
   "outputs": [],
   "source": [
    "# კოდი ჩაწერე აქ"
   ]
  },
  {
   "cell_type": "markdown",
   "id": "083bf263",
   "metadata": {},
   "source": [
    "#### დავალება 4.\n",
    "\n",
    "მოცემულია ჩადგმლი სია:\n",
    "\n",
    "`a = [True, [1, 0, [\"True\", [\"true\", \"false\"], \"False\"]], False]`\n",
    "\n",
    "როგორ ჩავწეროთ ინდექსები, რომ გვქონდეს `true` ელემნეტთან წვდომა?\n",
    "\n",
    "შეარჩიეთ ერთი სწორი ვარიანტი ჩამონათვალდან:\n",
    "\n",
    "* `a[2][3][2][1]`\n",
    "* `a[1][2][0][1]`\n",
    "* `a[1][2][0]`\n",
    "* `a[1][2][1]`\n",
    "* `a[1][2][1][0]`"
   ]
  },
  {
   "cell_type": "code",
   "execution_count": null,
   "id": "11916f17",
   "metadata": {},
   "outputs": [],
   "source": [
    "# პასუხი ჩაწერე აქ"
   ]
  },
  {
   "cell_type": "markdown",
   "id": "34610480",
   "metadata": {},
   "source": [
    "#### დავალება 5.\n",
    "\n",
    "მოცემულია ჩადგმლი სია:\n",
    "\n",
    "`a = [True, [1, 0, [\"True\", [\"true\", \"false\"], \"F\"]], False]`\n",
    "\n",
    "რა ბრძანება უნდა დავწეროთ `F` ელემენტის წასაშლელად?\n",
    "\n",
    "შეარჩიეთ ერთი სწორი ვარიანტი ჩამონათვალდან:\n",
    "\n",
    "* `del a[2][3][3]`\n",
    "* `del a[1][1][2]`\n",
    "* `del a[1][2][2]`\n",
    "* `in a[1][2][2]`\n",
    "* `in a[1][1][2]`"
   ]
  },
  {
   "cell_type": "code",
   "execution_count": null,
   "id": "d7b75ac6",
   "metadata": {},
   "outputs": [],
   "source": [
    "# პასუხი ჩაწერე აქ"
   ]
  },
  {
   "cell_type": "markdown",
   "id": "b1a67b78",
   "metadata": {},
   "source": [
    "#### დავალება 6.\n",
    "\n",
    "მოცემულია ჩადგმული სია ოთხ სტრიქონად:\n",
    "\n",
    "```\n",
    "t = [['ხრმალი', 'გავსტყორცე', 'გარდვიჭერ'],\n",
    "     ['ვეფხი', 'შევიპყარ', 'ხელითა'],\n",
    "     ['მის', 'გამო', 'კოცნა', 'მომინდა'],\n",
    "     ['ვინ', 'მწვავს', 'ცეცხლითა', 'ცხელითა'],\n",
    "    ]\n",
    "```\n",
    "\n",
    "დაწერეთ პროგრამა, რომელიც შეამოწმებს სიაში კლავიატურიდან შეტანილი სიტყვის არსებობას და დაბეჭდავს `True` ან `False` შესაბამისად.\n",
    "\n",
    "```python\n",
    "Sample Input:\n",
    "ვეფხი\n",
    "\n",
    "Sample Output:\n",
    "True\n",
    "```"
   ]
  },
  {
   "cell_type": "code",
   "execution_count": 54,
   "id": "e33ad9b3",
   "metadata": {},
   "outputs": [],
   "source": [
    "t = [['ხრმალი', 'გავსტყორცე', 'გარდვიჭერ'],\n",
    "     ['ვეფხი', 'შევიპყარ', 'ხელითა'],\n",
    "     ['მის', 'გამო', 'კოცნა', 'მომინდა'],\n",
    "     ['ვინ', 'მწვავს', 'ცეცხლითა', 'ცხელითა'],\n",
    "    ]\n",
    "\n",
    "# კოდი ჩაწერე აქ"
   ]
  }
 ],
 "metadata": {
  "kernelspec": {
   "display_name": "Python 3",
   "language": "python",
   "name": "python3"
  },
  "language_info": {
   "codemirror_mode": {
    "name": "ipython",
    "version": 3
   },
   "file_extension": ".py",
   "mimetype": "text/x-python",
   "name": "python",
   "nbconvert_exporter": "python",
   "pygments_lexer": "ipython3",
   "version": "3.8.8"
  }
 },
 "nbformat": 4,
 "nbformat_minor": 5
}
