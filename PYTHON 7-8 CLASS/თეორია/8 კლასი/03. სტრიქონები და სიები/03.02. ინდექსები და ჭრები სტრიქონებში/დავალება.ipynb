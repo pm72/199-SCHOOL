{
 "cells": [
  {
   "cell_type": "markdown",
   "id": "2d70c7aa",
   "metadata": {},
   "source": [
    "__დავალება 1.__\n",
    "\n",
    "დაწერეთ პროგრამა, რომელიც კლავიატურიდან შეიტანს სტრიქონს და დაბეჭდავს პირველ და ბოლო სიმბოლოს.\n",
    "\n",
    "```python\n",
    "Sample Input:\n",
    "I love Python\n",
    "\n",
    "Sample Output:\n",
    "In\n",
    "```"
   ]
  },
  {
   "cell_type": "code",
   "execution_count": null,
   "id": "8f6c515b",
   "metadata": {},
   "outputs": [],
   "source": [
    "# კოდი ჩაწერე აქ"
   ]
  },
  {
   "cell_type": "markdown",
   "id": "4594319d",
   "metadata": {},
   "source": [
    "__დავალება 2.__\n",
    "\n",
    "რა დაიბეჭდება?\n",
    "\n",
    "```python\n",
    "s = \"Mamporia\"\n",
    "print(s[-4])\n",
    "```\n",
    "\n",
    "* m\n",
    "* არაფერი, შეცდომა IndexError\n",
    "* a\n",
    "* o"
   ]
  },
  {
   "cell_type": "code",
   "execution_count": null,
   "id": "fa6b14fb",
   "metadata": {},
   "outputs": [],
   "source": [
    "# პასუხი ჩაწერე აქ"
   ]
  },
  {
   "cell_type": "markdown",
   "id": "5a5a6a5e",
   "metadata": {},
   "source": [
    "__დავალება 3.__\n",
    "\n",
    "რა დაიბეჭდება?\n",
    "\n",
    "```python\n",
    "s = \"Mamporia\"\n",
    "print(s[8])\n",
    "```\n",
    "\n",
    "* p\n",
    "* არაფერი, შეცდომა IndexError\n",
    "* i\n",
    "* M"
   ]
  },
  {
   "cell_type": "code",
   "execution_count": null,
   "id": "dfcf25ac",
   "metadata": {},
   "outputs": [],
   "source": [
    "# პასუხი ჩაწერე აქ"
   ]
  },
  {
   "cell_type": "markdown",
   "id": "d3359999",
   "metadata": {},
   "source": [
    "__დავალება 4.__\n",
    "\n",
    "დაბეჭდეთ კლავიატურიდან შეტანილი სტრიქონის პირველი ოთხი სიმბოლო. იგულისხმება, რომ სტრიქონის სიგრძე მინიმუმ ოთხ სიმბოლოზე მეტია.\n",
    "\n",
    "```python\n",
    "Sample Input:\n",
    "panda\n",
    "\n",
    "Sample Output:\n",
    "pand\n",
    "```"
   ]
  },
  {
   "cell_type": "code",
   "execution_count": null,
   "id": "659a5e1f",
   "metadata": {},
   "outputs": [],
   "source": [
    "# კოდი ჩაწერე აქ"
   ]
  },
  {
   "cell_type": "markdown",
   "id": "56923cb4",
   "metadata": {},
   "source": [
    "__დავალება 5.__\n",
    "\n",
    "დაბეჭდეთ კლავიატურიდან შეტანილი სტრიქონის ბოლო სამი სიმბოლო. იგულისხმება, რომ სტრიქონის მინიმუმ სიგრძე სამ სიმბოლოზე მეტია.\n",
    "\n",
    "```python\n",
    "Sample Input:\n",
    "Mamporia\n",
    "\n",
    "Sample Output:\n",
    "ria\n",
    "```"
   ]
  },
  {
   "cell_type": "code",
   "execution_count": null,
   "id": "926b377a",
   "metadata": {},
   "outputs": [],
   "source": [
    "# კოდი ჩაწერე აქ"
   ]
  },
  {
   "cell_type": "markdown",
   "id": "d8d2337d",
   "metadata": {},
   "source": [
    "__დავალება 6.__\n",
    "\n",
    "დაბეჭდეთ კლავიატურიდან შეტანილი სტრიქონის ყველა კენტ ინდექსიანი სიმბოლო.\n",
    "\n",
    "```python\n",
    "Sample Input:\n",
    "Mamporia\n",
    "\n",
    "Sample Output:\n",
    "apra\n",
    "```"
   ]
  },
  {
   "cell_type": "code",
   "execution_count": 1,
   "id": "225021f5",
   "metadata": {},
   "outputs": [],
   "source": [
    "# კოდი ჩაწერე აქ"
   ]
  },
  {
   "cell_type": "markdown",
   "id": "1ed2f5f3",
   "metadata": {},
   "source": [
    "__დავალება 7.__\n",
    "\n",
    "შეიტანეთ ორი სტრიქონი (თითოეული ახალი ხაზიდან). პირველი ხაზიდან შეტანილი სტრიქონიდან გამოყავით ლუწ ინდექსიანი ყველა სიმბოლო, მეორედან – კენტ ინდექსიანი. გააერთიანეთ სიმბოლოები ერთ სტრიქონად ინტერვალის მეშვეობით და დაბეჭდეთ ეკრანზე.\n",
    "\n",
    "```python\n",
    "Sample Input:\n",
    "Hello\n",
    "Python\n",
    "\n",
    "Sample Output:\n",
    "Hlo yhn\n",
    "```"
   ]
  },
  {
   "cell_type": "code",
   "execution_count": 1,
   "id": "780dd255",
   "metadata": {},
   "outputs": [],
   "source": [
    "# კოდი ჩაწერე აქ"
   ]
  },
  {
   "cell_type": "markdown",
   "id": "fa96ae97",
   "metadata": {},
   "source": [
    "__დავალება 8.__\n",
    "\n",
    "დაბეჭდეთ კლავიატურიდან შეტანილი სტრიქონის პირველი ხუთი სიმბოლო უკუთანმიმდევრობით. იგულისხმება, რომ სტრიქონის სიგრძე მინიმუმ ხუთ სიმბოლოზე მეტია.\n",
    "\n",
    "```python\n",
    "Sample Input:\n",
    "abrakadabra\n",
    "\n",
    "Sample Output:\n",
    "karba\n",
    "```"
   ]
  },
  {
   "cell_type": "code",
   "execution_count": 1,
   "id": "480b1e2e",
   "metadata": {},
   "outputs": [],
   "source": [
    "# კოდი ჩაწერე აქ"
   ]
  },
  {
   "cell_type": "markdown",
   "id": "63234b6f",
   "metadata": {},
   "source": [
    "__დავალება 9.__\n",
    "\n",
    "კლავიატურიდან შეიტანეთ ორი სიტყვა ერთ სტრიქონად. პირველი სიტყვის სიგრძე ნაკლებია მეირეზე. დაბეჭდეთ მეორე სიტყვიდან პირველი სიტყვის სიგრძის ქვესტრიქონი.\n",
    "\n",
    "```python\n",
    "Sample Input:\n",
    "Hello Mamporia\n",
    "\n",
    "Sample Output:\n",
    "Mampo\n",
    "```"
   ]
  },
  {
   "cell_type": "code",
   "execution_count": 9,
   "id": "03db10fb",
   "metadata": {},
   "outputs": [],
   "source": [
    "# კოდი ჩაწერე აქ"
   ]
  },
  {
   "cell_type": "markdown",
   "id": "6a87cf7d",
   "metadata": {},
   "source": [
    "__დავალება 10.__\n",
    "\n",
    "კლავიატურიდან შეიტანეთ ორი სიტყვა ერთ სტრიქონად. მეორე სიტყვის სიგრძე ნაკლებია პირველზე. პირველი სიტყვა მოჭერით მეორე სიტყვის სიგრძემდე და ორივედან გამოყავით კენტინდექსიანი სიმბოლოები. შეადარეთ მიღებული სტრიქონები ლოგიკურ ტოლობაზე. შედეგი დაბეჭდეთ ეკრანზე (`True / False`). \n",
    "\n",
    "```python\n",
    "Sample Input:\n",
    "Hello Hell\n",
    "\n",
    "Sample Output:\n",
    "True\n",
    "```"
   ]
  },
  {
   "cell_type": "code",
   "execution_count": 17,
   "id": "a126a0fd",
   "metadata": {},
   "outputs": [],
   "source": [
    "# კოდი ჩაწერე აქ"
   ]
  }
 ],
 "metadata": {
  "kernelspec": {
   "display_name": "Python 3",
   "language": "python",
   "name": "python3"
  },
  "language_info": {
   "codemirror_mode": {
    "name": "ipython",
    "version": 3
   },
   "file_extension": ".py",
   "mimetype": "text/x-python",
   "name": "python",
   "nbconvert_exporter": "python",
   "pygments_lexer": "ipython3",
   "version": "3.8.8"
  }
 },
 "nbformat": 4,
 "nbformat_minor": 5
}
