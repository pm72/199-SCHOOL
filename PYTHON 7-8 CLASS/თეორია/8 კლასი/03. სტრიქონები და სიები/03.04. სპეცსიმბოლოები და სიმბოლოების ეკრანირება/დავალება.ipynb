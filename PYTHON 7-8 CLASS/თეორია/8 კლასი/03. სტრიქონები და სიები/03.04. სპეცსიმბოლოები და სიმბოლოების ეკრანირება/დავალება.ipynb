{
 "cells": [
  {
   "cell_type": "markdown",
   "id": "d9b72ecc",
   "metadata": {},
   "source": [
    "__დავალება 1.__\n",
    "\n",
    "შეუთავსეთ სპეციალური სიმბოლოები მათ აღწერილობებს.\n",
    "\n",
    "`\\n` – ახალ ხაზზე გადასვლა  \n",
    "`\\\\` – აპოსტროფის სიმბოლო (ერთმაგი ბრჭყალი)  \n",
    "`\\'` – ორმაგი ბრჭყალის სიმბოლო  \n",
    "`\\\"` – ჰორიზონტალური ტაბულაცია  \n",
    "`\\b` – კურსორის უკან დაბრუნება  \n",
    "`\\r` – `BackSpace` კლავიშის ემულაცია  \n",
    "`\\t` – „უკუსლეშის“ სიმბოლო  "
   ]
  },
  {
   "cell_type": "code",
   "execution_count": null,
   "id": "8daddd1d",
   "metadata": {},
   "outputs": [],
   "source": [
    "# ჩაწერე პასუხები აქ"
   ]
  },
  {
   "cell_type": "markdown",
   "id": "d2392cd4",
   "metadata": {},
   "source": [
    "__დავალება 2.__\n",
    "\n",
    "დაბეჭდეთ წინადადება: `The topic of the lesson is \"special characters\"`. აუცილებელია ბრჭყალების დაბეჭდვა.\n",
    "\n",
    "```python\n",
    "Sample Input:\n",
    "\n",
    "Sample Output:\n",
    "The topic of the lesson is \"special characters\"\n",
    "```"
   ]
  },
  {
   "cell_type": "code",
   "execution_count": 6,
   "id": "26ff57d0",
   "metadata": {},
   "outputs": [],
   "source": [
    "# ჩაწერე კოდი აქ"
   ]
  },
  {
   "cell_type": "markdown",
   "id": "b1a72789",
   "metadata": {},
   "source": [
    "__დავალება 3.__\n",
    "\n",
    "კლავიატურიდან შეიტანეთ ორი სიტყვა ინტერვალით ერთ ხაზზე. ჩასვით ამ სიტყვებს შორის „უკუსლეშის“ სიმბოლო (ინტერვალის მაგივრად). შედეგი დაბეჭდეთ ეკრანზე.\n",
    "\n",
    "P.S. ამოცანა ამოხსენით `f`-სტრიქონის გამოყენების გარეშე\n",
    "\n",
    "```python\n",
    "Sample Input:\n",
    "Hello Mamporia!\n",
    "\n",
    "Sample Output:\n",
    "Hello\\Mamporia!\n",
    "```"
   ]
  },
  {
   "cell_type": "code",
   "execution_count": 5,
   "id": "0e1d7397",
   "metadata": {},
   "outputs": [],
   "source": [
    "# ჩაწერე კოდი აქ"
   ]
  },
  {
   "cell_type": "markdown",
   "id": "4caf23b6",
   "metadata": {},
   "source": [
    "__დავალება 4.__\n",
    "\n",
    "კლავიატურიდან შეიტანეთ რამდენიმე სიტყვა ინტერვალით ერთ ხაზზე. პირველი ინტერვალი შეცვალეთ ერთმაგი ბრჭყალით, დანარჩენი – ორმაგით. შედეგი დაბეჭდეთ ეკრანზე.\n",
    "\n",
    "```python\n",
    "Sample Input:\n",
    "My best friend is Python!\n",
    "\n",
    "Sample Output:\n",
    "My'best\"friend\"is\"Python!\n",
    "```"
   ]
  },
  {
   "cell_type": "code",
   "execution_count": 5,
   "id": "b4612848",
   "metadata": {},
   "outputs": [],
   "source": [
    "# ჩაწერე კოდი აქ"
   ]
  },
  {
   "cell_type": "markdown",
   "id": "186b020c",
   "metadata": {},
   "source": [
    "__დავალება 5.__\n",
    "\n",
    "`row`-სტრიქონის გამოყენებით დაბეჭდეთ `C:\\WINDOWS\\System32\\drivers\\etc\\hosts`.\n",
    "\n",
    "```python\n",
    "Sample Input:\n",
    "\n",
    "\n",
    "Sample Output:\n",
    "C:\\WINDOWS\\System32\\drivers\\etc\\hosts\n",
    "```"
   ]
  },
  {
   "cell_type": "code",
   "execution_count": 5,
   "id": "30452be0",
   "metadata": {},
   "outputs": [],
   "source": [
    "# ჩაწერე კოდი აქ"
   ]
  },
  {
   "cell_type": "markdown",
   "id": "4cf25ed1",
   "metadata": {},
   "source": [
    "__დავალება 6.__\n",
    "\n",
    "კლავიატურიდან შეიტანილი სიტყვა დაბეჭდეთ ორმაგ ბრჭყალებში. \n",
    "\n",
    "```python\n",
    "Sample Input:\n",
    "language\n",
    "\n",
    "Sample Output:\n",
    "\"language\"\n",
    "```"
   ]
  },
  {
   "cell_type": "code",
   "execution_count": 5,
   "id": "708d0853",
   "metadata": {},
   "outputs": [],
   "source": [
    "# ჩაწერე კოდი აქ"
   ]
  }
 ],
 "metadata": {
  "kernelspec": {
   "display_name": "Python 3",
   "language": "python",
   "name": "python3"
  },
  "language_info": {
   "codemirror_mode": {
    "name": "ipython",
    "version": 3
   },
   "file_extension": ".py",
   "mimetype": "text/x-python",
   "name": "python",
   "nbconvert_exporter": "python",
   "pygments_lexer": "ipython3",
   "version": "3.8.8"
  }
 },
 "nbformat": 4,
 "nbformat_minor": 5
}
