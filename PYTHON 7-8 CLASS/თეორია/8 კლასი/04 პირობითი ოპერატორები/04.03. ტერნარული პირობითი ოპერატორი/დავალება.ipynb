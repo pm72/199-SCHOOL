{
 "cells": [
  {
   "cell_type": "markdown",
   "id": "0db34b71",
   "metadata": {},
   "source": [
    "#### დავალება 1.\n",
    "\n",
    "შეიტანეთ ორი მცოცავწერტილიანი რიცხვი, თითოეული ახალი ხაზიდან. ტერნარული პირობითი ოპერატორის გამოყენებით დაბეჭდეთ უდიდესი.\n",
    "\n",
    "```python\n",
    "Sample Input:\n",
    "5.4\n",
    "-3.8\n",
    "\n",
    "Sample Output:\n",
    "5.4\n",
    "```"
   ]
  },
  {
   "cell_type": "code",
   "execution_count": null,
   "id": "552b11e5",
   "metadata": {},
   "outputs": [],
   "source": [
    "# კოდი ჩაწერე აქ"
   ]
  },
  {
   "cell_type": "markdown",
   "id": "9a6a3531",
   "metadata": {},
   "source": [
    "#### დავალება 2.\n",
    "\n",
    "შეიტანეთ მთელი რიცხვი, ტერნარული პირობითი ოპერატორის გამოყენებით დაბეჭდეთ ტექსტი: `Multiple of 3` ან `Not a multiple of 3` თუ შეტანილი რიცხვი 3-ის ჯერადია ან არ არის ჯერადი.\n",
    "\n",
    "```python\n",
    "Sample Input:\n",
    "9\n",
    "\n",
    "Sample Output:\n",
    "Multiple of 3\n",
    "```"
   ]
  },
  {
   "cell_type": "code",
   "execution_count": null,
   "id": "00c4ba38",
   "metadata": {},
   "outputs": [],
   "source": [
    "# კოდი ჩაწერე აქ"
   ]
  },
  {
   "cell_type": "markdown",
   "id": "a53eabc9",
   "metadata": {},
   "source": [
    "#### დავალება 3.\n",
    "\n",
    "შეიტანეთ სიტყვა. დაბეჭდეთ შეტანილი სიტყვა პალინდრომია თუ არა. პალინდრომია სიტყვა, თუ მარჯვნიდან და მარცხნიდან ერთნაირად იკითხება. რეგისტრი მხედველობაში არ მიიღება. გამოიყენეთ ტერნარული პირობითი ოპერატორი.\n",
    "\n",
    "```python\n",
    "Sample Input:\n",
    "redivider\n",
    "\n",
    "Sample Output:\n",
    "Palindrome\n",
    "```"
   ]
  },
  {
   "cell_type": "code",
   "execution_count": null,
   "id": "a809990e",
   "metadata": {},
   "outputs": [],
   "source": [
    "# კოდი ჩაწერე აქ"
   ]
  },
  {
   "cell_type": "markdown",
   "id": "27e6ee53",
   "metadata": {},
   "source": [
    "#### დავალება 4.\n",
    "\n",
    "შეიტანეთ მთელი რიცხვი 0 ან 1. შეტანილი რიცხვი გარდაქმენით ტექსტად: 0 – \"False\", 1 – \"True\" და დაბეჭდეთ. გამოიყენეთ ტერნარული პირობითი ოპერატორი.\n",
    "\n",
    "```python\n",
    "Sample Input:\n",
    "1\n",
    "\n",
    "Sample Output:\n",
    "True\n",
    "```"
   ]
  },
  {
   "cell_type": "code",
   "execution_count": null,
   "id": "eb0fe79f",
   "metadata": {},
   "outputs": [],
   "source": [
    "# კოდი ჩაწერე აქ"
   ]
  },
  {
   "cell_type": "markdown",
   "id": "c776cad7",
   "metadata": {},
   "source": [
    "#### დავალება 5.\n",
    "\n",
    "შეიტანეთ მთელი რიცხვი [0; 59] დიაპაზონში, რომელიც წარმოადგენს წამებს. თუ შეტანილი რიცხვი 59-ია, შემდეგი რიცხვი იქნება 0 და ა.შ. რიცხვები მოძრაობენ წრეზე. ტერნარული პირობითი ოპერატორის გამოყენებით დაბეჭდეთ მიღებული რიცხვი.\n",
    "\n",
    "```python\n",
    "Sample Input:\n",
    "55\n",
    "\n",
    "Sample Output:\n",
    "56\n",
    "```"
   ]
  },
  {
   "cell_type": "code",
   "execution_count": 8,
   "id": "d43e0a8f",
   "metadata": {},
   "outputs": [],
   "source": [
    "# კოდი ჩაწერე აქ"
   ]
  },
  {
   "cell_type": "markdown",
   "id": "9d8a5b9b",
   "metadata": {},
   "source": [
    "#### დავალება 6.\n",
    "\n",
    "`m = ['do', 're', 'mi', 'fa', 'sol', 'la', 'si']`\n",
    "\n",
    "ერთ სტრიქონად შეიტანეთ სამი მთელი რიცხვი 1-დან 7-ის ჩათვლით, რომელიც წარმოადგენენ ნოტებს. დაბეჭდეთ შეტანილი რიცხვების შესაბამისი ნოტები ისე, რომ `do` და `fa` ნოტების წინ ჩასვით `#`. გამოიყენეთ ტერნარული პირობითი ოპერატორი.\n",
    "\n",
    "```python\n",
    "Sample Input:\n",
    "1 6 7\n",
    "\n",
    "Sample Output:\n",
    "#do la si\n",
    "```"
   ]
  },
  {
   "cell_type": "code",
   "execution_count": 38,
   "id": "0be4fd48",
   "metadata": {},
   "outputs": [],
   "source": [
    "# კოდი ჩაწერე აქ"
   ]
  }
 ],
 "metadata": {
  "kernelspec": {
   "display_name": "Python 3",
   "language": "python",
   "name": "python3"
  },
  "language_info": {
   "codemirror_mode": {
    "name": "ipython",
    "version": 3
   },
   "file_extension": ".py",
   "mimetype": "text/x-python",
   "name": "python",
   "nbconvert_exporter": "python",
   "pygments_lexer": "ipython3",
   "version": "3.8.8"
  }
 },
 "nbformat": 4,
 "nbformat_minor": 5
}
