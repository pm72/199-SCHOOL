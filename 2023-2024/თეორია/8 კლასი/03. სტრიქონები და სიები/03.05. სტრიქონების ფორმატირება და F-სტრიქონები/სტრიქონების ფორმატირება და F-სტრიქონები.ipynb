{
 "cells": [
  {
   "cell_type": "markdown",
   "id": "6f962657",
   "metadata": {},
   "source": [
    "# სტრიქონის ფორმატირება და F-სტრიქონი"
   ]
  },
  {
   "cell_type": "code",
   "execution_count": 2,
   "id": "d400d682",
   "metadata": {},
   "outputs": [
    {
     "name": "stdout",
     "output_type": "stream",
     "text": [
      "My name is Paata, I am 51 years old and I love python\n"
     ]
    }
   ],
   "source": [
    "# My name is Paata, I am 51 years old and I love python\n",
    "\n",
    "name = 'Paata'\n",
    "age = 51\n",
    "\n",
    "print(\"My name is \" + name + \", I am \" + str(age) + \" years old and I love python\")"
   ]
  },
  {
   "cell_type": "code",
   "execution_count": 11,
   "id": "b88b003a",
   "metadata": {},
   "outputs": [
    {
     "name": "stdout",
     "output_type": "stream",
     "text": [
      "My name is Paata, I am 51 years old and I love python\n",
      "My name is PAATA, I am 102 years old and I love python\n",
      "My name is 5, I am 51 years old and I love python\n",
      "\n",
      "My name is Paata, I am 51 years old and I love python\n"
     ]
    }
   ],
   "source": [
    "name = 'Paata'\n",
    "age = 51\n",
    "\n",
    "print(f\"My name is {name}, I am {age} years old and I love python\")\n",
    "print(f\"My name is {name.upper()}, I am {age * 2} years old and I love python\")\n",
    "print(f\"My name is {len(name)}, I am {age} years old and I love python\\n\")\n",
    "\n",
    "msg = f\"My name is {name}, I am {age} years old and I love python\"\n",
    "\n",
    "print(msg)"
   ]
  }
 ],
 "metadata": {
  "kernelspec": {
   "display_name": "Python 3",
   "language": "python",
   "name": "python3"
  },
  "language_info": {
   "codemirror_mode": {
    "name": "ipython",
    "version": 3
   },
   "file_extension": ".py",
   "mimetype": "text/x-python",
   "name": "python",
   "nbconvert_exporter": "python",
   "pygments_lexer": "ipython3",
   "version": "3.8.8"
  }
 },
 "nbformat": 4,
 "nbformat_minor": 5
}
