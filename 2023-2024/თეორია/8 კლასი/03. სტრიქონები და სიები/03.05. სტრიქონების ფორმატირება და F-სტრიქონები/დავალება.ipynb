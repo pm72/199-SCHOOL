{
 "cells": [
  {
   "cell_type": "markdown",
   "id": "2ffeb583",
   "metadata": {},
   "source": [
    "__დავალება 1.__\n",
    "\n",
    "სხვადასხვა ხაზზე შეიტანეთ სახელი, გვარი და ასაკი. `f`-სტრიქონის მეშვეობით დაბეჭდეთ \"Dear `<first name> <last name>` Congratulations on your <age>th birthday!\" ბრჭყალების გარეშე\n",
    "\n",
    "```python\n",
    "Sample Input:\n",
    "Paata\n",
    "Mamporia\n",
    "51\n",
    "\n",
    "Sample Output:\n",
    "Dear Paata Mamporia! Congratulations on your 35th birthday!\n",
    "```"
   ]
  },
  {
   "cell_type": "code",
   "execution_count": null,
   "id": "a3f3629c",
   "metadata": {},
   "outputs": [],
   "source": [
    "# კოდი ჩაწერე აქ"
   ]
  },
  {
   "cell_type": "markdown",
   "id": "e4a3e83a",
   "metadata": {},
   "source": [
    "__დავალება 2.__\n",
    "\n",
    "ერთ ხაზზე, ინტერვალით შეიტანეთ ნაკეთობის ზომები (მთელი რიცხვი): სიგანე, სიღრმე, სიმაღლე. დაბეჭდეთ: \"Dimensions: <width> x <dept> x <height>\"\n",
    "\n",
    "```python\n",
    "Sample Input:\n",
    "8 11 13\n",
    "\n",
    "Sample Output:\n",
    "Dimensions: 8 x 11 x 13\n",
    "```"
   ]
  },
  {
   "cell_type": "code",
   "execution_count": null,
   "id": "17b989c6",
   "metadata": {},
   "outputs": [],
   "source": [
    "# კოდი ჩაწერე აქ"
   ]
  },
  {
   "cell_type": "markdown",
   "id": "736a36bd",
   "metadata": {},
   "source": [
    "__დავალება 3.__\n",
    "\n",
    "ერთ ხაზზე შეიტანეთ ორი მთელი რიცხვი. შეტანილი რიცხვები დაბეჭდეთ ზრდადობის მიხედვით.\n",
    "\n",
    "```python\n",
    "Sample Input:\n",
    "18 11\n",
    "\n",
    "Sample Output:\n",
    "11 18\n",
    "```"
   ]
  },
  {
   "cell_type": "code",
   "execution_count": null,
   "id": "96c4c1f3",
   "metadata": {},
   "outputs": [],
   "source": [
    "# კოდი ჩაწერე აქ"
   ]
  },
  {
   "cell_type": "markdown",
   "id": "5a0b4389",
   "metadata": {},
   "source": [
    "__დავალება 4.__\n",
    "\n",
    "კლავიატურიდან შეიტანეთ მისამართი (ყოველი მონაცემი ახალი ხაზიდან) ფორმატით: ქალაქი, ქუჩა, სახლის ნომერი (მთელი რიცხვი), ბინის ნომერი (მთელი რიცხვი). დაბეჭდეთ შემდეგი სახით: `<city> city, <avenu> ave, 9, apt. <apt>` \n",
    "\n",
    "```python\n",
    "Sample Input:\n",
    "Tbilisi\n",
    "Rustaveli\n",
    "9\n",
    "1\n",
    "\n",
    "Sample Output:\n",
    "Tbilisi city, Rustaveli ave, 9, apt. 1\n",
    "```"
   ]
  },
  {
   "cell_type": "code",
   "execution_count": null,
   "id": "9f7b9de8",
   "metadata": {},
   "outputs": [],
   "source": [
    "# კოდი ჩაწერე აქ"
   ]
  },
  {
   "cell_type": "markdown",
   "id": "8e1e2910",
   "metadata": {},
   "source": [
    "__დავალება 5.__\n",
    "\n",
    "კლავიატურიდან შეიტანეთ დოლარის კურსი (ათწილადი) და ლარის რაოდენობა (მთელი). დაბეჭდეთ: `You can get $384 for 1000 laris at the rate of 2.6` \n",
    "\n",
    "```python\n",
    "Sample Input:\n",
    "2.6\n",
    "1000\n",
    "\n",
    "Sample Output:\n",
    "You can get $384 for 1000 laris at the rate of 2.6\n",
    "```"
   ]
  },
  {
   "cell_type": "code",
   "execution_count": 6,
   "id": "a4415ba1",
   "metadata": {},
   "outputs": [],
   "source": [
    "# კოდი ჩაწერე აქ"
   ]
  }
 ],
 "metadata": {
  "kernelspec": {
   "display_name": "Python 3",
   "language": "python",
   "name": "python3"
  },
  "language_info": {
   "codemirror_mode": {
    "name": "ipython",
    "version": 3
   },
   "file_extension": ".py",
   "mimetype": "text/x-python",
   "name": "python",
   "nbconvert_exporter": "python",
   "pygments_lexer": "ipython3",
   "version": "3.8.8"
  }
 },
 "nbformat": 4,
 "nbformat_minor": 5
}
