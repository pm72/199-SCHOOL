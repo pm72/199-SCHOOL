{
 "cells": [
  {
   "cell_type": "markdown",
   "id": "565835b7",
   "metadata": {},
   "source": [
    "#### დავალება 1.\n",
    "\n",
    "მოცემულია მენიუ შემდეგი ინსტრუქციით:\n",
    "```\n",
    "m = '''1. Introduction in Python\n",
    "2. Strings and lists\n",
    "3. Conditional statements\n",
    "4. Loops\n",
    "5. Dictionaries, Tuples and Sets\n",
    "6. Exit'''\n",
    "```\n",
    "\n",
    "შეიტანეთ მთელი რიცხვი 1-დან 6-ის ჩათვლით. დაბეჭდეთ შეტანილი ციფრის მენიუს შესამაბიმი პუნქტი. გამოიყენეთ `if-elif` კონსტრუქცია.\n",
    "\n",
    "```python\n",
    "Sample Input:\n",
    "2\n",
    "\n",
    "Sample Output:\n",
    "2. Строки и списки\n",
    "```"
   ]
  },
  {
   "cell_type": "code",
   "execution_count": null,
   "id": "d554bb2a",
   "metadata": {},
   "outputs": [],
   "source": [
    "# კოდი ჩაწერე აქ"
   ]
  },
  {
   "cell_type": "markdown",
   "id": "81df372f",
   "metadata": {},
   "source": [
    "#### დავალება 2.\n",
    "\n",
    "შეიტანეთ სამი მთელი რიცხვი ერთ სტრიქონად. დაბეჭდეთ უმცირესი. პროგრამა დაწერეთ `min()` ფუნქციის გარეშე\n",
    "\n",
    "```python\n",
    "Sample Input:\n",
    "8 11 -1\n",
    "\n",
    "Sample Output:\n",
    "-1\n",
    "```"
   ]
  },
  {
   "cell_type": "code",
   "execution_count": 24,
   "id": "0e55e471",
   "metadata": {},
   "outputs": [],
   "source": [
    "# კოდი ჩაწერე აქ"
   ]
  },
  {
   "cell_type": "markdown",
   "id": "04f66b0c",
   "metadata": {},
   "source": [
    "#### დავალება 3.\n",
    "\n",
    "შეიტანეთ მოკრივეს წონა კგ-ში (მცოცავწერტილიანი რიცხვი). წონები რამდენიმე კატეგორიადაა დაყოფილი:\n",
    "\n",
    "1. მსუბუქი წონა – 60 კგ-ს ჩათვლით;\n",
    "2. ქვესაშუალო წონა – 64 კგ-ს ჩათვლით;\n",
    "3. საშუალო წონა – 69 კგ-ს ჩათვლით;\n",
    "4. დანარჩენი – 69 კგ-ზე მეტი.\n",
    "\n",
    "დაბეჭდეთ იმ კატეგორიის ნომერი, რომელშიც უნდა იასპარეზოს მოკრივემ.\n",
    "\n",
    "```python\n",
    "Sample Input:\n",
    "62.4\n",
    "\n",
    "Sample Output:\n",
    "2\n",
    "```"
   ]
  },
  {
   "cell_type": "code",
   "execution_count": 24,
   "id": "ededb510",
   "metadata": {},
   "outputs": [],
   "source": [
    "# კოდი ჩაწერე აქ"
   ]
  },
  {
   "cell_type": "markdown",
   "id": "d5e29fce",
   "metadata": {},
   "source": [
    "#### დავალება 4.\n",
    "\n",
    "შეიტანეთ კვირის დღე ციფრის სახით (1, 2, ..., 7). დაბეჭდეთ ციფრის შესაბამისი დღე (Monday, Tuesday, Wednesday, Thursday, Friday, Saturday, Sunday). გამოიყენეთ `if-elif` კონსტრუქცია.\n",
    "\n",
    "```python\n",
    "Sample Input:\n",
    "2\n",
    "\n",
    "Sample Output:\n",
    "Tuesday\n",
    "```"
   ]
  },
  {
   "cell_type": "code",
   "execution_count": 30,
   "id": "8700a10f",
   "metadata": {},
   "outputs": [],
   "source": [
    "# კოდი ჩაწერე აქ"
   ]
  },
  {
   "cell_type": "markdown",
   "id": "2cf655ef",
   "metadata": {},
   "source": [
    "#### დავალება 5.\n",
    "\n",
    "შეიტანეთ თვე რიცხვის სახით (1, 2, ..., 12). დაბეჭდეთ შეტანილი თვის დღეების რაოდენობა. ითვლება, რომ წელი არანაკიანია. გამიყენეთ შედარების ოპერატორი არაუმეტეს სამი განშტოებით (ბლოკით).\n",
    "\n",
    "P.S. დღეების რაოდენობა არანაკიანი წლისთვის: `31, 28, 31, 30, 31, 30, 31, 31, 30, 31, 30, 31`\n",
    "\n",
    "```python\n",
    "Sample Input:\n",
    "2\n",
    "\n",
    "Sample Output:\n",
    "28\n",
    "```"
   ]
  },
  {
   "cell_type": "code",
   "execution_count": 54,
   "id": "1bef787d",
   "metadata": {},
   "outputs": [],
   "source": [
    "# კოდი ჩაწერე აქ"
   ]
  },
  {
   "cell_type": "markdown",
   "id": "86befc6e",
   "metadata": {},
   "source": [
    "#### დავალება 6.\n",
    "\n",
    "შეიტანეთ თვე და დღე რიცხვის სახით (`m` – თვე და `d` – დღე) ერთ სტრიქონად. დაბეჭდეთ შეტანილი თარიღის წინა და შემდეგი თარიღი (თვე და დღე) ფორმატით: `mm.dd`, სადაც `m` და `d` – თვის და დღის აღმნიშვნელია რიცხვის სახით შესაბამისად. წელი არანაკიანია.  \n",
    "\n",
    "P.S. დღეების რაოდენობა არანაკიანი წლისთვის: `31, 28, 31, 30, 31, 30, 31, 31, 30, 31, 30, 31`\n",
    "\n",
    "```python\n",
    "Sample Input:\n",
    "8 31\n",
    "\n",
    "Sample Output:\n",
    "08.30 09.01\n",
    "```"
   ]
  },
  {
   "cell_type": "code",
   "execution_count": 54,
   "id": "be22a023",
   "metadata": {},
   "outputs": [],
   "source": [
    "# კოდი ჩაწერე აქ"
   ]
  },
  {
   "cell_type": "markdown",
   "id": "d27edad6",
   "metadata": {},
   "source": [
    "#### დავალება 7.\n",
    "\n",
    "შეიტანეთ ნატურალური რიცხვი `k` (1 <= k <= 365). დაბეჭდეთ კვირის რომელ დღეს (Monday, Tuesday, Wednesday, Thursday, Friday, Saturday, Sunday) წარმოადგენს შეტანილი რიცხვი. წელი არანაკიანია.\n",
    "\n",
    "P.S. დღეების რაოდენობა არანაკიანი წლისთვის: `31, 28, 31, 30, 31, 30, 31, 31, 30, 31, 30, 31`\n",
    "\n",
    "```python\n",
    "Sample Input:\n",
    "121\n",
    "\n",
    "Sample Output:\n",
    "Tuesday\n",
    "```"
   ]
  },
  {
   "cell_type": "code",
   "execution_count": 54,
   "id": "d7a764d7",
   "metadata": {},
   "outputs": [],
   "source": [
    "# კოდი ჩაწერე აქ"
   ]
  }
 ],
 "metadata": {
  "kernelspec": {
   "display_name": "Python 3",
   "language": "python",
   "name": "python3"
  },
  "language_info": {
   "codemirror_mode": {
    "name": "ipython",
    "version": 3
   },
   "file_extension": ".py",
   "mimetype": "text/x-python",
   "name": "python",
   "nbconvert_exporter": "python",
   "pygments_lexer": "ipython3",
   "version": "3.8.8"
  }
 },
 "nbformat": 4,
 "nbformat_minor": 5
}
