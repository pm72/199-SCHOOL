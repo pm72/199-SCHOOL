{
 "cells": [
  {
   "cell_type": "markdown",
   "id": "af78aef3",
   "metadata": {},
   "source": [
    "#### დავალება 1.\n",
    "\n",
    "შეუთავსეთ სიის მეთოდები მათ აღწერილობებს.\n",
    "\n",
    "`append` – ასუფთავებს სიას (შლის ყველა ელემენტს)\n",
    "\n",
    "`insert` – შლის ბოლო ელემენტს, ან ელემენტს მითითებული ინდექსით, პოზიციით\n",
    "\n",
    "`remove` – ამატებს ელემენტს სიის ბოლოში\n",
    "\n",
    "`pop` – ჩასვამს ელემენტს სიის მითითებულ ადილას\n",
    "\n",
    "`clear` – შლის ელემენტს მნიშვნელობის მიხედვით"
   ]
  },
  {
   "cell_type": "code",
   "execution_count": null,
   "id": "3946439a",
   "metadata": {},
   "outputs": [],
   "source": [
    "# პასუხები ჩაწერე აქ"
   ]
  },
  {
   "cell_type": "markdown",
   "id": "dee1dbfa",
   "metadata": {},
   "source": [
    "#### დავალება 2.\n",
    "\n",
    "ერთ ხაზზე შეიტანეთ მთელი რიცხვები. თუ პირველი და ბოლო რიცხვები ტოლია, სიის ბოლოში დაამატეთ `True`, წინააღმდეგ შემთხვევაში – `False`. შედეგი დაბეჭდეთ ეკრანზე. `print(*lst)`\n",
    "\n",
    "```python\n",
    "Sample Input:\n",
    "8 12 2 -10 6\n",
    "\n",
    "Sample Output:\n",
    "8 12 2 -10 6 True\n",
    "```"
   ]
  },
  {
   "cell_type": "code",
   "execution_count": null,
   "id": "ab57760f",
   "metadata": {},
   "outputs": [],
   "source": [
    "# კოდი ჩაწერე აქ"
   ]
  },
  {
   "cell_type": "markdown",
   "id": "b2690950",
   "metadata": {},
   "source": [
    "#### დავალება 3\n",
    "\n",
    "გვაქვს ქალაქების სახელწოდებების სია.\n",
    "\n",
    "`cities = [\"Tbilisi\", \"Madrid\", \"Lisbon\"]`\n",
    "\n",
    "სიის მეორე პოზიციაზე ჩასვით \"Buenos-Aires\" და სია დაბეჭდეთ ეკრანზე. `print(*cities)`\n",
    "\n",
    "```python\n",
    "Sample Input:\n",
    "\n",
    "\n",
    "Sample Output:\n",
    "Tbilisi Buenos-Aires Madrid Lisbon\n",
    "```"
   ]
  },
  {
   "cell_type": "code",
   "execution_count": null,
   "id": "63866777",
   "metadata": {},
   "outputs": [],
   "source": [
    "# კოდი ჩაწერე აქ"
   ]
  },
  {
   "cell_type": "markdown",
   "id": "37735516",
   "metadata": {},
   "source": [
    "#### დავალება 4\n",
    "\n",
    "შეიტანეთ ტელეფონის ნომერი სტრიქონულად შემდეგი ფორმატით: `995(xxx)xx-xx-xx`. სტრიქონი გარდაქმნეით სიად (ყველა სიმბოლო ცალ-ცალკე, უნდა მივიღოთ სიმბოლოების სია). შემდეგ წაშალეთ პირველი სიმბოლო `+`. `995` შეცვლაეთ `195`. წაშალეთ დეფისები. დაბეჭდეთ ინფორმაცია `''.join(lst)` მეშვეობით.\n",
    "\n",
    "```python\n",
    "Sample Input:\n",
    "+995(558)02-13-35\n",
    "\n",
    "Sample Output:\n",
    "195(558)021335\n",
    "```"
   ]
  },
  {
   "cell_type": "code",
   "execution_count": 25,
   "id": "65a558b4",
   "metadata": {},
   "outputs": [],
   "source": [
    "# კოდი ჩაწერე აქ"
   ]
  },
  {
   "cell_type": "markdown",
   "id": "55b9eaf0",
   "metadata": {},
   "source": [
    "#### დავალება 5\n",
    "\n",
    "შეიტანეთ ტელეფონის ნომერი სტრიქონულად შემდეგი ფორმატით: `995(xxx)xx-xx-xx`. სტრიქონი გარდაქმნეით სიად (ყველა სიმბოლო ცალ-ცალკე, უნდა მივიღოთ სიმბოლოების სია). შემდეგ წაშალეთ პირველი სიმბოლო `+`. `995` შეცვლაეთ `195`. წაშალეთ დეფისები. დაბეჭდეთ ინფორმაცია `''.join(lst)` მეშვეობით.\n",
    "\n",
    "```python\n",
    "Sample Input:\n",
    "Erich Paul Remark\n",
    "\n",
    "Sample Output:\n",
    "Remark E.P.\n",
    "```"
   ]
  },
  {
   "cell_type": "code",
   "execution_count": 27,
   "id": "7848af10",
   "metadata": {},
   "outputs": [],
   "source": [
    "# კოდი ჩაწერე აქ"
   ]
  },
  {
   "cell_type": "markdown",
   "id": "e8a41172",
   "metadata": {},
   "source": [
    "#### დავალება 6\n",
    "\n",
    "შეუთავსეთ სიის მეთოდები მათ აღწერილობებს.\n",
    "\n",
    "`copy` – ასორტირებს სიის ელემენტებს\n",
    "\n",
    "`count` – აბრუნებს სიაში ნაპოვნი პირველი ელემენტის ინდექსს \n",
    "\n",
    "`index` – ცვლის სიის ელემენტების განლაგებას რევერსულად\n",
    "\n",
    "`reverse` – აბრუნებს სიაში არსებული ელემნების რაოდენობას\n",
    "\n",
    "`sort` – აბრუნებს კოპირებულ სიას"
   ]
  },
  {
   "cell_type": "code",
   "execution_count": 27,
   "id": "b59ac7f7",
   "metadata": {},
   "outputs": [],
   "source": [
    "# პასუხი ჩაწერე აქ"
   ]
  },
  {
   "cell_type": "markdown",
   "id": "07435c5c",
   "metadata": {},
   "source": [
    "#### დავალება 7\n",
    "\n",
    "მთელი რიცხვები შეიტანება ერთ სტრიქონში, რომელიც გამოყოფილია ინტერვალით (მინიმუმ ოთხი რიცხვი). დაბეჭდეთ სამი უმცირესი რიცხვი ზრდადობის მიხედვით დალაგებული.\n",
    "\n",
    "```python\n",
    "Sample Input:\n",
    "8 11 -5 10 -1 0 7\n",
    "\n",
    "Sample Output:\n",
    "-5 -1 0\n",
    "```"
   ]
  },
  {
   "cell_type": "code",
   "execution_count": 55,
   "id": "d36ff934",
   "metadata": {},
   "outputs": [],
   "source": [
    "# კოდი ჩაწერე აქ"
   ]
  },
  {
   "cell_type": "markdown",
   "id": "48313a72",
   "metadata": {},
   "source": [
    "#### დავალება 8\n",
    "\n",
    "მთელი რიცხვები შეიტანება ერთ სტრიქონში, რომელიც გამოყოფილია ინტერვალით. გარდაქმენით სიად. თუ სიის ბოლო ელემენტი კენტია შეცვალეთ იგი `True`-თი, წინააღმდეგ შემთხვევაში – `False`. დაბეჭდეთ შედეგი. `peint(*lst)`\n",
    "\n",
    "```python\n",
    "Sample Input:\n",
    "8 11 0 3 5 6\n",
    "\n",
    "Sample Output:\n",
    "8 11 0 3 5 False\n",
    "```"
   ]
  },
  {
   "cell_type": "code",
   "execution_count": 57,
   "id": "83fb22c6",
   "metadata": {},
   "outputs": [],
   "source": [
    "# კოდი ჩაწერე აქ"
   ]
  },
  {
   "cell_type": "markdown",
   "id": "14464465",
   "metadata": {},
   "source": [
    "#### დავალება 9\n",
    "\n",
    "მოსწავლეების ქულები (6-დან 10-ის ჩათვლით) შეიტანება ერთ სტრიქონში, რომელიც გამოყოფილია ინტერვალით. დაბეჭდეთ `4`-ანების რაოდენობა.\n",
    "\n",
    "```python\n",
    "Sample Input:\n",
    "4 6 10 4 8 4 4 10\n",
    "\n",
    "Sample Output:\n",
    "4\n",
    "```"
   ]
  },
  {
   "cell_type": "code",
   "execution_count": 59,
   "id": "ce81097d",
   "metadata": {},
   "outputs": [],
   "source": [
    "# კოდი ჩაწერე აქ"
   ]
  },
  {
   "cell_type": "markdown",
   "id": "488886cf",
   "metadata": {},
   "source": [
    "#### დავალება 10\n",
    "\n",
    "მდინარეების სახელწოდებები შეიტანება ერთ სტრიქონში, რომელიც გამოყოფილია ინტერვალით. დაალაგეთ ზრდადობის მიხედვით. წაშალეთ პირველი ელემნტი. შედეგი ეკრანზე დაბეჭდეთ.\n",
    "\n",
    "```python\n",
    "Sample Input:\n",
    "Mtkvari Rioni Enguri Supsa Psou Iori Alazani Tortla\n",
    "\n",
    "Sample Output:\n",
    "Enguri Iori Mtkvari Psou Rioni Supsa Tortla\n",
    "```"
   ]
  },
  {
   "cell_type": "code",
   "execution_count": 66,
   "id": "cae42778",
   "metadata": {},
   "outputs": [],
   "source": [
    "# კოდი ჩაწერე აქ"
   ]
  }
 ],
 "metadata": {
  "kernelspec": {
   "display_name": "Python 3",
   "language": "python",
   "name": "python3"
  },
  "language_info": {
   "codemirror_mode": {
    "name": "ipython",
    "version": 3
   },
   "file_extension": ".py",
   "mimetype": "text/x-python",
   "name": "python",
   "nbconvert_exporter": "python",
   "pygments_lexer": "ipython3",
   "version": "3.8.8"
  }
 },
 "nbformat": 4,
 "nbformat_minor": 5
}
