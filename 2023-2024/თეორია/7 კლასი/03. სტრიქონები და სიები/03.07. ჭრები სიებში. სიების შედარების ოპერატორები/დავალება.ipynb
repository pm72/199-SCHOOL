{
 "cells": [
  {
   "cell_type": "markdown",
   "id": "2fd72138",
   "metadata": {},
   "source": [
    "__დავალება 1.__\n",
    "\n",
    "მოცემულია დღის განმავლობაში ნაყურები ვიდეოფილმების ნახვის მთელი რიცხვების სია:\n",
    "\n",
    "`v = [1205, 1101, 1434, 1320, 923, 874]`\n",
    "\n",
    "დაბეჭდეთ პირველი სამი მნიშვნელობა (გამოიყენეთ ჭრა).\n",
    "\n",
    "```python\n",
    "Sample Input:\n",
    "\n",
    "\n",
    "Sample Output:\n",
    "[1205, 1101, 1434]\n",
    "```"
   ]
  },
  {
   "cell_type": "code",
   "execution_count": null,
   "id": "ba3ad693",
   "metadata": {},
   "outputs": [],
   "source": [
    "# კოდი ჩაწერე აქ"
   ]
  },
  {
   "cell_type": "markdown",
   "id": "81987952",
   "metadata": {},
   "source": [
    "__დავალება 2.__\n",
    "\n",
    "მოცემულია დღის განმავლობაში ნაყურები ვიდეოფილმების ნახვის მთელი რიცხვების სია:\n",
    "\n",
    "`v = [1205, 1101, 1434, 1320, 923, 874]`\n",
    "\n",
    "დაბეჭდეთ ბოლო ოთხი მნიშვნელობა (გამოიყენეთ ჭრა).\n",
    "\n",
    "```python\n",
    "Sample Input:\n",
    "\n",
    "\n",
    "Sample Output:\n",
    "[1434, 1320, 923, 874]\n",
    "```"
   ]
  },
  {
   "cell_type": "code",
   "execution_count": null,
   "id": "9eb53dc4",
   "metadata": {},
   "outputs": [],
   "source": [
    "# კოდი ჩაწერე აქ"
   ]
  },
  {
   "cell_type": "markdown",
   "id": "aacb2340",
   "metadata": {},
   "source": [
    "__დავალება 3.__\n",
    "\n",
    "მოცემულია ქალაქების სახელწოდებების სია:\n",
    "\n",
    "`c = [\"Tbilisi\", \"New Yourk\", \"Tokyo\", \"Rome\", \"Paris\", \"London\", \"Moscow\", \"Madrid\"]`\n",
    "\n",
    "ჭრების საშუალებით დაბეჭდეთ ყოველი მეორე თავიდან ბოლომდე.\n",
    "\n",
    "```python\n",
    "Sample Input:\n",
    "\n",
    "\n",
    "Sample Output:\n",
    "['Tbilisi', 'Tokyo', 'Paris', 'Moscow']\n",
    "```"
   ]
  },
  {
   "cell_type": "code",
   "execution_count": null,
   "id": "7b1dbbb9",
   "metadata": {},
   "outputs": [],
   "source": [
    "# კოდი ჩაწერე აქ"
   ]
  },
  {
   "cell_type": "markdown",
   "id": "bd312fad",
   "metadata": {},
   "source": [
    "__დავალება 4.__\n",
    "\n",
    "მოცემულია ქალაქების სახელწოდებების სია:\n",
    "\n",
    "`c = [\"Tbilisi\", \"New Yourk\", \"Tokyo\", \"Rome\", \"Paris\", \"London\", \"Moscow\", \"Madrid\"]`\n",
    "\n",
    "ჭრების საშუალებით დაბეჭდეთ ყოველი მეორე დაწყებული მეორე ელემენტიდან.\n",
    "\n",
    "```python\n",
    "Sample Input:\n",
    "\n",
    "\n",
    "Sample Output:\n",
    "['New Yourk', 'Rome', 'London', 'Madrid']\n",
    "```"
   ]
  },
  {
   "cell_type": "code",
   "execution_count": null,
   "id": "f2025d6b",
   "metadata": {},
   "outputs": [],
   "source": [
    "# კოდი ჩაწერე აქ"
   ]
  },
  {
   "cell_type": "markdown",
   "id": "a9067f1f",
   "metadata": {},
   "source": [
    "__დავალება 5.__\n",
    "\n",
    "მოცემულია მოსწავლის შეფასებების სია:\n",
    "\n",
    "`m = [4, 6, 10, 10, 4, 4, 6, 6, 8, 10, 8, 8]`\n",
    "\n",
    "ჭრების საშუალებით დაბეჭდეთ ელემენტები მე-3-დან მე-7-ის ჩათვლით უკუმიმართულებით.\n",
    "\n",
    "```python\n",
    "Sample Input:\n",
    "\n",
    "\n",
    "Sample Output:\n",
    "[6, 4, 4, 10, 10]\n",
    "```"
   ]
  },
  {
   "cell_type": "code",
   "execution_count": null,
   "id": "11a29b35",
   "metadata": {},
   "outputs": [],
   "source": [
    "# კოდი ჩაწერე აქ"
   ]
  },
  {
   "cell_type": "code",
   "execution_count": null,
   "id": "ca349ecd",
   "metadata": {},
   "outputs": [],
   "source": []
  },
  {
   "cell_type": "markdown",
   "id": "2e8283f8",
   "metadata": {},
   "source": [
    "__დავალება 6.__\n",
    "\n",
    "მოცემულია მოსწავლის შეფასებების სია:\n",
    "\n",
    "`m = [4, 6, 10, 10, 4, 4, 6, 6, 8, 10, 8, 8]`\n",
    "\n",
    "ჭრების საშუალებით დაბეჭდეთ ყოველი მეორე ელემენტები უკუმიმართულებით.\n",
    "\n",
    "```python\n",
    "Sample Input:\n",
    "\n",
    "\n",
    "Sample Output:\n",
    "[8, 10, 6, 4, 10, 6]\n",
    "```"
   ]
  },
  {
   "cell_type": "markdown",
   "id": "747c05b6",
   "metadata": {},
   "source": [
    "__დავალება 7.__\n",
    "\n",
    "რა დაიბეჭდება?\n",
    "\n",
    "`[1, 2, 3] > [1, 1, 10]`\n",
    "\n",
    "* `True`\n",
    "* `False`"
   ]
  },
  {
   "cell_type": "code",
   "execution_count": 1,
   "id": "3dd1b09d",
   "metadata": {},
   "outputs": [],
   "source": [
    "# პასუხი ჩაწერე აქ"
   ]
  },
  {
   "cell_type": "markdown",
   "id": "b1393f63",
   "metadata": {},
   "source": [
    "__დავალება 8.__\n",
    "\n",
    "რა დაიბეჭდება?\n",
    "\n",
    "`[1, 2, 3] < [1, 2, 3, 4]`\n",
    "\n",
    "* `True`\n",
    "* `False`"
   ]
  },
  {
   "cell_type": "code",
   "execution_count": 1,
   "id": "c4c8a818",
   "metadata": {},
   "outputs": [],
   "source": [
    "# პასუხი ჩაწერე აქ"
   ]
  },
  {
   "cell_type": "markdown",
   "id": "f638d418",
   "metadata": {},
   "source": [
    "__დავალება 9.__\n",
    "\n",
    "რა დაიბეჭდება?\n",
    "\n",
    "`[1, 2, 3] >= [1, 2, 3]`\n",
    "\n",
    "* `False`\n",
    "* `True`"
   ]
  },
  {
   "cell_type": "code",
   "execution_count": 1,
   "id": "dc0accb6",
   "metadata": {},
   "outputs": [],
   "source": [
    "# პასუხი ჩაწერე აქ"
   ]
  },
  {
   "cell_type": "markdown",
   "id": "1157abf9",
   "metadata": {},
   "source": [
    "__დავალება 10.__\n",
    "\n",
    "რა დაიბეჭდება?\n",
    "\n",
    "`[1, 2, 3, \"4\"] > [1, 2, 3, \"5\"]`\n",
    "\n",
    "* `True`\n",
    "* აღიძვრება შეცდომა `TypeError`\n",
    "* `False`"
   ]
  },
  {
   "cell_type": "code",
   "execution_count": 1,
   "id": "4f81927e",
   "metadata": {},
   "outputs": [],
   "source": [
    "# პასუხი ჩაწერე აქ"
   ]
  },
  {
   "cell_type": "markdown",
   "id": "cce35825",
   "metadata": {},
   "source": [
    "__დავალება 11.__\n",
    "\n",
    "რა დაიბეჭდება?\n",
    "\n",
    "`[1, 2, 3, 7] > [1, 2, 3, \"5\"]`\n",
    "\n",
    "* `True`\n",
    "* აღიძვრება შეცდომა `TypeError`\n",
    "* `False`"
   ]
  },
  {
   "cell_type": "code",
   "execution_count": 1,
   "id": "7846c806",
   "metadata": {},
   "outputs": [],
   "source": [
    "# პასუხი ჩაწერე აქ"
   ]
  }
 ],
 "metadata": {
  "kernelspec": {
   "display_name": "Python 3",
   "language": "python",
   "name": "python3"
  },
  "language_info": {
   "codemirror_mode": {
    "name": "ipython",
    "version": 3
   },
   "file_extension": ".py",
   "mimetype": "text/x-python",
   "name": "python",
   "nbconvert_exporter": "python",
   "pygments_lexer": "ipython3",
   "version": "3.8.8"
  }
 },
 "nbformat": 4,
 "nbformat_minor": 5
}
