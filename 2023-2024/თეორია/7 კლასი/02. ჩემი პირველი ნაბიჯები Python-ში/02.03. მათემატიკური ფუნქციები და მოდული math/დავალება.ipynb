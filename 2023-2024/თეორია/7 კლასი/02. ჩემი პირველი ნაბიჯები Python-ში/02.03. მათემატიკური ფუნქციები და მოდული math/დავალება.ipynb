{
 "cells": [
  {
   "cell_type": "markdown",
   "id": "125114f6",
   "metadata": {},
   "source": [
    "__დავალება 1.__\n",
    "\n",
    "დაამთავრეთ პრორამის კოდი კლავიატურიდან შეტანილი რიცხვის მოდულის გამოსათვლელად. შედეგის ეკრანზე გამოსატანად გამოიყენეთ ფუნქცია `print`.\n",
    "\n",
    "_ნიმუში:_\n",
    "\n",
    "```python\n",
    "Sample Input:\n",
    "-5\n",
    "\n",
    "Sample Output:\n",
    "5\n",
    "```"
   ]
  },
  {
   "cell_type": "code",
   "execution_count": null,
   "id": "1935c221",
   "metadata": {},
   "outputs": [],
   "source": [
    "# მთელი რიცხვის შეტანა\n",
    "d = int(input())\n",
    "\n",
    "## გააგრძელე პროგრამის წერა..."
   ]
  },
  {
   "cell_type": "markdown",
   "id": "43aab7df",
   "metadata": {},
   "source": [
    "__დავალება 2.__\n",
    "\n",
    "დაამთავრეთ პრორამის კოდი კლავიატურიდან ხუთი შეტანილი რიცხვიდან მინიმუმის საპოვნელად. შედეგის ეკრანზე გამოსატანად გამოიყენეთ ფუნქცია `print`.\n",
    "\n",
    "_ნიმუში:_\n",
    "\n",
    "```python\n",
    "Sample Input:\n",
    "8 11 -5 3 0\n",
    "\n",
    "Sample Output:\n",
    "-5\n",
    "```"
   ]
  },
  {
   "cell_type": "code",
   "execution_count": null,
   "id": "84f09750",
   "metadata": {},
   "outputs": [],
   "source": [
    "# მთელი რიცხვების შეტანა\n",
    "d1, d2, d3, d4, d5 = map(int, input().split())\n",
    "\n",
    "# გააგრძელე პროგრამის წერა..."
   ]
  },
  {
   "cell_type": "markdown",
   "id": "55cc3a38",
   "metadata": {},
   "source": [
    "__დავალება 3.__\n",
    "\n",
    "დაამთავრეთ პრორამის კოდი კლავიატურიდან ხუთი შეტანილი რიცხვიდან მაქსიმუმის საპოვნელად. შედეგის ეკრანზე გამოსატანად გამოიყენეთ ფუნქცია `print`.\n",
    "\n",
    "_ნიმუში:_\n",
    "\n",
    "```python\n",
    "Sample Input:\n",
    "8 11 -5 3 0\n",
    "\n",
    "Sample Output:\n",
    "11\n",
    "```"
   ]
  },
  {
   "cell_type": "code",
   "execution_count": null,
   "id": "85b8099a",
   "metadata": {},
   "outputs": [],
   "source": [
    "# მთელი რიცხვების შეტანა\n",
    "d1, d2, d3, d4, d5 = map(int, input().split())\n",
    "\n",
    "# გააგრძელე პროგრამის წერა..."
   ]
  },
  {
   "cell_type": "markdown",
   "id": "af21b1ad",
   "metadata": {},
   "source": [
    "__დავალება 4.__\n",
    "\n",
    "რომელი ბრძანება უნდა ჩავწეროთ პროგრამაში `math` მოდულის გამოსაყენებლად?\n",
    "\n",
    "* math import\n",
    "* include math\n",
    "* math\n",
    "* import from math\n",
    "* import math"
   ]
  },
  {
   "cell_type": "code",
   "execution_count": null,
   "id": "1a3b9955",
   "metadata": {},
   "outputs": [],
   "source": [
    "# ჩაწერე სწორი ვარიანტი..."
   ]
  },
  {
   "cell_type": "markdown",
   "id": "55c07246",
   "metadata": {},
   "source": [
    "__დავალება 5.__\n",
    "\n",
    "დაამთავრეთ პრორამის კოდი მოცემული ფორმულით:\n",
    "\n",
    "$$ \\sqrt{a^2 + b^2} $$\n",
    "\n",
    "`a` და `b` კლავიატურიდან შეტანილი მთელი რიცხვებია. შედეგი დაამრგვალეთ მეასედამდე. ეკრანზე გამოსატანად გამოიყენეთ ფუნქცია `print`.\n",
    "\n",
    "_ნიმუში:_\n",
    "\n",
    "```python\n",
    "Sample Input:\n",
    "3 4\n",
    "\n",
    "Sample Output:\n",
    "5.0\n",
    "```"
   ]
  },
  {
   "cell_type": "code",
   "execution_count": null,
   "id": "23d43b46",
   "metadata": {
    "scrolled": true
   },
   "outputs": [],
   "source": [
    "# მონაცემების შეტანა\n",
    "a, b = map(int, input().split())\n",
    "\n",
    "# გააგრძელე პროგრამის წერა..."
   ]
  },
  {
   "cell_type": "markdown",
   "id": "ff2841c5",
   "metadata": {},
   "source": [
    "__დავალება 6.__\n",
    "\n",
    "დაამთავრეთ პრორამის კოდი მოცემული ფორმულით:\n",
    "\n",
    "$$ C^k_n = \\frac{n!}{k!(n! - k!)} $$\n",
    "\n",
    "`n` და `k` კლავიატურიდან შეტანილი მთელი რიცხვებია. შედეგი გამოიტანეთ ეკრანზე მთელი რიცხვის სახით `print` ფუნქციის გაოყენებით.\n",
    "\n",
    "_ნიმუში:_\n",
    "```python\n",
    "Sample Input:\n",
    "6 3\n",
    "\n",
    "Sample Output:\n",
    "20\n",
    "```"
   ]
  },
  {
   "cell_type": "code",
   "execution_count": null,
   "id": "41bdab06",
   "metadata": {},
   "outputs": [],
   "source": [
    "# მონაცემების შეტანა\n",
    "a, b = map(int, input().split())\n",
    "\n",
    "# გააგრძელე პროგრამის წერა..."
   ]
  },
  {
   "cell_type": "markdown",
   "id": "01a52492",
   "metadata": {},
   "source": [
    "__დავალება 7.__\n",
    "\n",
    "საზაფხულო ბანაკში საჭიროა `n` ბავშვისა და `m` მასწავლებლის ავტობუსით გადაყვანა. ავტობუსში ეტევა 20 ადამიანი. დაამთავრეთ პროგრამის კოდი მინიმალური რაოდენობის ავტობუსის გამოსათვლელად ბავშვებისა და მასწავლებლების გადასაყვანად. შედეგი გამოიტანეთ ეკრანზე მთელი რიცხვის სახით `print` ფუნქციის გაოყენებით.\n",
    "\n",
    "_ნიმუში:_\n",
    "```python\n",
    "Sample Input:\n",
    "40 5\n",
    "\n",
    "Sample Output:\n",
    "3\n",
    "```"
   ]
  },
  {
   "cell_type": "code",
   "execution_count": null,
   "id": "869fa649",
   "metadata": {},
   "outputs": [],
   "source": [
    "# მონაცემების შეტანა\n",
    "n, m = map(int, input().split())\n",
    "\n",
    "# გააგრძელე პროგრამის წერა..."
   ]
  },
  {
   "cell_type": "markdown",
   "id": "ab033280",
   "metadata": {},
   "source": [
    "__დავალება 7.__\n",
    "\n",
    "ტუშის კალამი ღირს `x` ლარი. მაღაზიაში მოქმედებს 10%-იანი ფასდაკლება კალმების შესყიდვაზე. რა მაქსიმალური რაოდენობის კალმის ყიდვაა შესაძლებელი 25 ლარის შემთხვევაში? შედეგი გამოიტანეთ ეკრანზე მთელი რიცხვის სახით `print` ფუნქციის გაოყენებით.\n",
    "\n",
    "_ნიმუში:_\n",
    "```python\n",
    "Sample Input:\n",
    "1\n",
    "\n",
    "Sample Output:\n",
    "27\n",
    "```"
   ]
  },
  {
   "cell_type": "code",
   "execution_count": null,
   "id": "ed3ac4f7",
   "metadata": {
    "scrolled": true
   },
   "outputs": [],
   "source": [
    "# მონაცემების შეტანა\n",
    "x = int(input())\n",
    "\n",
    "# გააგრძელე პროგრამის წერა..."
   ]
  }
 ],
 "metadata": {
  "kernelspec": {
   "display_name": "Python 3",
   "language": "python",
   "name": "python3"
  },
  "language_info": {
   "codemirror_mode": {
    "name": "ipython",
    "version": 3
   },
   "file_extension": ".py",
   "mimetype": "text/x-python",
   "name": "python",
   "nbconvert_exporter": "python",
   "pygments_lexer": "ipython3",
   "version": "3.8.8"
  }
 },
 "nbformat": 4,
 "nbformat_minor": 5
}
