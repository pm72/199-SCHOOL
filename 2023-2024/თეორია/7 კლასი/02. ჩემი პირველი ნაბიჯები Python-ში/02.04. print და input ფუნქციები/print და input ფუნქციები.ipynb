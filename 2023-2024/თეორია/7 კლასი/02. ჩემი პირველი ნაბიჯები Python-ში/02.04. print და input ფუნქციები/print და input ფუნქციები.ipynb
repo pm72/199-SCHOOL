{
 "cells": [
  {
   "cell_type": "markdown",
   "id": "f57ef5a6",
   "metadata": {},
   "source": [
    "# ფუნქციები print() და input()"
   ]
  },
  {
   "cell_type": "markdown",
   "id": "82223b67",
   "metadata": {},
   "source": [
    "* print() – ინფორმაციის ეკრანზე გამოტანა\n",
    "* input() – ინფორმაციის ეკრანიდან (კლავიატურიდან) შეტანა"
   ]
  },
  {
   "cell_type": "code",
   "execution_count": 3,
   "id": "ae00469d",
   "metadata": {},
   "outputs": [
    {
     "name": "stdout",
     "output_type": "stream",
     "text": [
      "1\n",
      "3 5 7\n"
     ]
    }
   ],
   "source": [
    "print(1)\n",
    "print(3, 5, 7)"
   ]
  },
  {
   "cell_type": "code",
   "execution_count": 7,
   "id": "f0be5acc",
   "metadata": {},
   "outputs": [
    {
     "name": "stdout",
     "output_type": "stream",
     "text": [
      "-6.84\n",
      "-10.68\n",
      "10.68\n",
      "Hello\n"
     ]
    }
   ],
   "source": [
    "a = -6.84\n",
    "print(a)\n",
    "print(a * 2 + 3)\n",
    "print(abs(a * 2 + 3))\n",
    "print(\"Hello\")"
   ]
  },
  {
   "cell_type": "markdown",
   "id": "ade7305e",
   "metadata": {},
   "source": [
    "არასავალდებულო, სახელდებული პარამეტრები:\n",
    "* sep – მონაცებების (ჩამონათვალის) გამყოფი ბეჭდვისას\n",
    "* end – მონაცემების (ჩამონათვალის, ინფორმაციის) ბეჭდვისას დამამთავრებელი სიმბოლო"
   ]
  },
  {
   "cell_type": "code",
   "execution_count": 5,
   "id": "3afb9e34",
   "metadata": {},
   "outputs": [
    {
     "name": "stdout",
     "output_type": "stream",
     "text": [
      "-6.84 7 25.6\n",
      "-6.84 | 7 | 25.6\n",
      "-6.84\n",
      "-6.84 | 7\n"
     ]
    }
   ],
   "source": [
    "a = -6.84\n",
    "b = 7\n",
    "c = 25.6\n",
    "\n",
    "print(a, b, c)\n",
    "print(a, b, c, sep=' | ')\n",
    "print(a, sep=' | ')\n",
    "print(a, b, sep=' | ')"
   ]
  },
  {
   "cell_type": "markdown",
   "id": "b1c26078",
   "metadata": {},
   "source": [
    "`end = '\\n'`"
   ]
  },
  {
   "cell_type": "code",
   "execution_count": 7,
   "id": "2c5544b8",
   "metadata": {},
   "outputs": [
    {
     "name": "stdout",
     "output_type": "stream",
     "text": [
      "Hello,\n",
      "Wrld!\n"
     ]
    }
   ],
   "source": [
    "print(\"Hello,\")\n",
    "print(\"Wrld!\")"
   ]
  },
  {
   "cell_type": "code",
   "execution_count": 9,
   "id": "d258d99a",
   "metadata": {
    "scrolled": true
   },
   "outputs": [
    {
     "name": "stdout",
     "output_type": "stream",
     "text": [
      "Hello, World!\n"
     ]
    }
   ],
   "source": [
    "print(\"Hello,\", end=' ')\n",
    "print(\"World!\")"
   ]
  },
  {
   "cell_type": "markdown",
   "id": "80606c15",
   "metadata": {},
   "source": [
    "### ინფორმაციის ფორმატირებული ბეჭდვა"
   ]
  },
  {
   "cell_type": "code",
   "execution_count": 14,
   "id": "822575b8",
   "metadata": {},
   "outputs": [
    {
     "name": "stdout",
     "output_type": "stream",
     "text": [
      "The coordinates of the point: x = 5.76; y = -8\n"
     ]
    }
   ],
   "source": [
    "x = 5.76\n",
    "y = -8\n",
    "\n",
    "# The coordinates of the point: x = 5.76; y = -8\n",
    "print(\"The coordinates of the point: x = \", x, \"; y = \", y, sep='')"
   ]
  },
  {
   "cell_type": "markdown",
   "id": "1de99508",
   "metadata": {},
   "source": [
    "დაწყებული python 3.6-დან გამოიყენება f-სტრიქონები `f-strings`"
   ]
  },
  {
   "cell_type": "code",
   "execution_count": 16,
   "id": "f3a32984",
   "metadata": {
    "scrolled": true
   },
   "outputs": [
    {
     "name": "stdout",
     "output_type": "stream",
     "text": [
      "The coordinates of the point: x = 5.76; y = -8\n"
     ]
    }
   ],
   "source": [
    "x = 5.76\n",
    "y = -8\n",
    "\n",
    "# The coordinates of the point: x = 5.76; y = -8\n",
    "print(f\"The coordinates of the point: x = {x}; y = {y}\")"
   ]
  },
  {
   "cell_type": "markdown",
   "id": "b732a405",
   "metadata": {},
   "source": [
    "## ფუნქცია input()"
   ]
  },
  {
   "cell_type": "code",
   "execution_count": 19,
   "id": "fa86cb09",
   "metadata": {},
   "outputs": [
    {
     "name": "stdout",
     "output_type": "stream",
     "text": [
      "26\n",
      "26 <class 'str'>\n"
     ]
    }
   ],
   "source": [
    "a = input()\n",
    "print(a, type(a))"
   ]
  },
  {
   "cell_type": "code",
   "execution_count": 20,
   "id": "7b700581",
   "metadata": {},
   "outputs": [
    {
     "name": "stdout",
     "output_type": "stream",
     "text": [
      "23\n"
     ]
    },
    {
     "ename": "TypeError",
     "evalue": "bad operand type for abs(): 'str'",
     "output_type": "error",
     "traceback": [
      "\u001b[1;31m---------------------------------------------------------------------------\u001b[0m",
      "\u001b[1;31mTypeError\u001b[0m                                 Traceback (most recent call last)",
      "\u001b[1;32m<ipython-input-20-dca09403f4e4>\u001b[0m in \u001b[0;36m<module>\u001b[1;34m\u001b[0m\n\u001b[0;32m      1\u001b[0m \u001b[0ma\u001b[0m \u001b[1;33m=\u001b[0m \u001b[0minput\u001b[0m\u001b[1;33m(\u001b[0m\u001b[1;33m)\u001b[0m\u001b[1;33m\u001b[0m\u001b[1;33m\u001b[0m\u001b[0m\n\u001b[1;32m----> 2\u001b[1;33m \u001b[0mb\u001b[0m \u001b[1;33m=\u001b[0m \u001b[0mabs\u001b[0m\u001b[1;33m(\u001b[0m\u001b[0ma\u001b[0m\u001b[1;33m)\u001b[0m\u001b[1;33m\u001b[0m\u001b[1;33m\u001b[0m\u001b[0m\n\u001b[0m\u001b[0;32m      3\u001b[0m \u001b[1;33m\u001b[0m\u001b[0m\n\u001b[0;32m      4\u001b[0m \u001b[0mprint\u001b[0m\u001b[1;33m(\u001b[0m\u001b[0mb\u001b[0m\u001b[1;33m)\u001b[0m\u001b[1;33m\u001b[0m\u001b[1;33m\u001b[0m\u001b[0m\n\u001b[0;32m      5\u001b[0m \u001b[1;33m\u001b[0m\u001b[0m\n",
      "\u001b[1;31mTypeError\u001b[0m: bad operand type for abs(): 'str'"
     ]
    }
   ],
   "source": [
    "a = input()\n",
    "b = abs(a)\n",
    "\n",
    "print(b)\n",
    "\n"
   ]
  },
  {
   "cell_type": "code",
   "execution_count": 22,
   "id": "2a2ac036",
   "metadata": {},
   "outputs": [
    {
     "name": "stdout",
     "output_type": "stream",
     "text": [
      "-5\n",
      "5\n"
     ]
    }
   ],
   "source": [
    "a = input()\n",
    "a = int(a)\n",
    "b = abs(a)\n",
    "\n",
    "print(b)\n",
    "\n"
   ]
  },
  {
   "cell_type": "code",
   "execution_count": 23,
   "id": "fe152bc0",
   "metadata": {},
   "outputs": [
    {
     "name": "stdout",
     "output_type": "stream",
     "text": [
      "-5\n",
      "5\n"
     ]
    }
   ],
   "source": [
    "a = int(input())\n",
    "b = abs(a)\n",
    "\n",
    "print(b)\n",
    "\n"
   ]
  },
  {
   "cell_type": "code",
   "execution_count": 24,
   "id": "2fe87a55",
   "metadata": {},
   "outputs": [
    {
     "name": "stdout",
     "output_type": "stream",
     "text": [
      "-5.6\n"
     ]
    },
    {
     "ename": "ValueError",
     "evalue": "invalid literal for int() with base 10: '-5.6'",
     "output_type": "error",
     "traceback": [
      "\u001b[1;31m---------------------------------------------------------------------------\u001b[0m",
      "\u001b[1;31mValueError\u001b[0m                                Traceback (most recent call last)",
      "\u001b[1;32m<ipython-input-24-c30aa594bb15>\u001b[0m in \u001b[0;36m<module>\u001b[1;34m\u001b[0m\n\u001b[1;32m----> 1\u001b[1;33m \u001b[0ma\u001b[0m \u001b[1;33m=\u001b[0m \u001b[0mint\u001b[0m\u001b[1;33m(\u001b[0m\u001b[0minput\u001b[0m\u001b[1;33m(\u001b[0m\u001b[1;33m)\u001b[0m\u001b[1;33m)\u001b[0m\u001b[1;33m\u001b[0m\u001b[1;33m\u001b[0m\u001b[0m\n\u001b[0m\u001b[0;32m      2\u001b[0m \u001b[0mb\u001b[0m \u001b[1;33m=\u001b[0m \u001b[0mabs\u001b[0m\u001b[1;33m(\u001b[0m\u001b[0ma\u001b[0m\u001b[1;33m)\u001b[0m\u001b[1;33m\u001b[0m\u001b[1;33m\u001b[0m\u001b[0m\n\u001b[0;32m      3\u001b[0m \u001b[1;33m\u001b[0m\u001b[0m\n\u001b[0;32m      4\u001b[0m \u001b[0mprint\u001b[0m\u001b[1;33m(\u001b[0m\u001b[0mb\u001b[0m\u001b[1;33m)\u001b[0m\u001b[1;33m\u001b[0m\u001b[1;33m\u001b[0m\u001b[0m\n\u001b[0;32m      5\u001b[0m \u001b[1;33m\u001b[0m\u001b[0m\n",
      "\u001b[1;31mValueError\u001b[0m: invalid literal for int() with base 10: '-5.6'"
     ]
    }
   ],
   "source": [
    "a = int(input())\n",
    "b = abs(a)\n",
    "\n",
    "print(b)"
   ]
  },
  {
   "cell_type": "code",
   "execution_count": 25,
   "id": "e8b055b3",
   "metadata": {},
   "outputs": [
    {
     "name": "stdout",
     "output_type": "stream",
     "text": [
      "-5.6\n",
      "5.6\n"
     ]
    }
   ],
   "source": [
    "a = float(input())\n",
    "b = abs(a)\n",
    "\n",
    "print(b)"
   ]
  },
  {
   "cell_type": "code",
   "execution_count": 27,
   "id": "563ff051",
   "metadata": {},
   "outputs": [
    {
     "name": "stdout",
     "output_type": "stream",
     "text": [
      "2.69\n",
      "2.69\n"
     ]
    }
   ],
   "source": [
    "a = eval(input())\n",
    "b = abs(a)\n",
    "\n",
    "print(b)"
   ]
  },
  {
   "cell_type": "markdown",
   "id": "827abf00",
   "metadata": {},
   "source": [
    "`eval()` ფუნქციას არგუმენტად უნდა გადავცეთ მხოლოდ სტრიქონი.\n",
    "\n",
    "მაგ.: `\"5.69\", \"-7.81\", \"15\", \"-21\", ...`"
   ]
  },
  {
   "cell_type": "markdown",
   "id": "464e7bce",
   "metadata": {},
   "source": [
    "__მაგალითი.__\n",
    "\n",
    "მოცემულია მართკუთხედის გვერდები. დავბეჭდოთ პერომეტრი."
   ]
  },
  {
   "cell_type": "code",
   "execution_count": 29,
   "id": "be13d84c",
   "metadata": {},
   "outputs": [
    {
     "name": "stdout",
     "output_type": "stream",
     "text": [
      "4.5\n",
      "6.7\n",
      "The perimeter is 22.4\n"
     ]
    }
   ],
   "source": [
    "a = eval(input())\n",
    "b = eval(input())\n",
    "\n",
    "print(f\"The perimeter is {2 * (a + b)}\")"
   ]
  },
  {
   "cell_type": "code",
   "execution_count": 31,
   "id": "96a08807",
   "metadata": {
    "scrolled": true
   },
   "outputs": [
    {
     "name": "stdout",
     "output_type": "stream",
     "text": [
      "Compute the perimeter of the rectangle\n",
      "\n",
      "Enter the width of the rectangle: 4.55\n",
      "Enter the width of the rectangle: 6.34\n",
      "\n",
      "The perimeter is 21.78\n"
     ]
    }
   ],
   "source": [
    "print(\"Compute the perimeter of the rectangle\\n\")\n",
    "\n",
    "a = eval(input(\"Enter the width of the rectangle: \"))\n",
    "b = eval(input(\"Enter the height of the rectangle: \"))\n",
    "\n",
    "print(f\"\\nThe perimeter is {2 * (a + b)}\")"
   ]
  },
  {
   "cell_type": "code",
   "execution_count": 47,
   "id": "ce6afda3",
   "metadata": {
    "scrolled": false
   },
   "outputs": [
    {
     "name": "stdout",
     "output_type": "stream",
     "text": [
      "Compute the perimeter of the rectangle\n",
      "\n",
      "Enter the width height of the rectangle: 5.87, 7.51\n",
      "\n",
      "The perimeter is 26.759999999999998\n"
     ]
    }
   ],
   "source": [
    "print(\"Compute the perimeter of the rectangle\\n\")\n",
    "\n",
    "a, b = eval(input(\"Enter the width height of the rectangle: \"))\n",
    "\n",
    "print(f\"\\nThe perimeter is {2 * (a + b)}\")"
   ]
  },
  {
   "cell_type": "code",
   "execution_count": 41,
   "id": "f963cf49",
   "metadata": {
    "scrolled": true
   },
   "outputs": [
    {
     "name": "stdout",
     "output_type": "stream",
     "text": [
      "Compute the perimeter of the rectangle\n",
      "\n",
      "Enter the width height of the rectangle: 5.6 2.15\n",
      "\n",
      "The perimeter is 15.5\n"
     ]
    }
   ],
   "source": [
    "print(\"Compute the perimeter of the rectangle\\n\")\n",
    "\n",
    "a, b = map(eval, input(\"Enter the width height of the rectangle: \").split())\n",
    "\n",
    "print(f\"\\nThe perimeter is {2 * (a + b)}\")"
   ]
  },
  {
   "cell_type": "markdown",
   "id": "927dbefb",
   "metadata": {},
   "source": [
    "__მაგალითი.__\n",
    "\n",
    "მოცემულია სამკუთხედის გვერდები. დავბეჭდოთ პერომეტრი."
   ]
  },
  {
   "cell_type": "code",
   "execution_count": 48,
   "id": "1b05a92c",
   "metadata": {},
   "outputs": [
    {
     "name": "stdout",
     "output_type": "stream",
     "text": [
      "Compute the perimeter of the treangle\n",
      "\n",
      "Enter the sides of the treangle: 2 3 4\n",
      "\n",
      "The perimeter is 9\n"
     ]
    }
   ],
   "source": [
    "print(\"Compute the perimeter of the treangle\\n\")\n",
    "\n",
    "a, b, c = map(eval, input(\"Enter the sides of the treangle: \").split())\n",
    "\n",
    "print(f\"\\nThe perimeter is {a + b + c}\")"
   ]
  }
 ],
 "metadata": {
  "kernelspec": {
   "display_name": "Python 3",
   "language": "python",
   "name": "python3"
  },
  "language_info": {
   "codemirror_mode": {
    "name": "ipython",
    "version": 3
   },
   "file_extension": ".py",
   "mimetype": "text/x-python",
   "name": "python",
   "nbconvert_exporter": "python",
   "pygments_lexer": "ipython3",
   "version": "3.8.8"
  }
 },
 "nbformat": 4,
 "nbformat_minor": 5
}
