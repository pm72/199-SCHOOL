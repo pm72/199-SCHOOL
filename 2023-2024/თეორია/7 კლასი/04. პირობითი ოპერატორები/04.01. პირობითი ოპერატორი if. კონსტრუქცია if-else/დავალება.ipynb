{
 "cells": [
  {
   "cell_type": "markdown",
   "id": "96123e2b",
   "metadata": {},
   "source": [
    "#### დავალება 1.\n",
    "\n",
    "ერთ სტრიქონად შეიტანეთ ორი მცოცავწერტილიანი რიცხვი. დაბეჭდეთ მათ შორის უდიდესი. ამოხსენით შედარების ოპერატორის გამოყენებით.\n",
    "\n",
    "```python\n",
    "Sample Input:\n",
    "8.7 11.0\n",
    "\n",
    "Sample Output:\n",
    "11.0\n",
    "```"
   ]
  },
  {
   "cell_type": "code",
   "execution_count": null,
   "id": "755aa7cd",
   "metadata": {},
   "outputs": [],
   "source": [
    "# კოდი ჩაწერე აქ"
   ]
  },
  {
   "cell_type": "markdown",
   "id": "287c146a",
   "metadata": {},
   "source": [
    "#### დავალება 2.\n",
    "\n",
    "შეიტანეთ სიტყვა. გაარკვიეთ შეტანილი სიტყვა პალინდრომია თუ არა. დაბეჭდეთ `YES / NO` შესაბამისად. სიტყვა პალინდრომია მაშინ, როცა მარცხნიდან და მარჯვნიდან ერთად იკითხება. მაგ.: `ANNA`.\n",
    "\n",
    "```python\n",
    "Sample Input:\n",
    "Rotator\n",
    "\n",
    "Sample Output:\n",
    "YES\n",
    "```"
   ]
  },
  {
   "cell_type": "code",
   "execution_count": null,
   "id": "7508db4f",
   "metadata": {},
   "outputs": [],
   "source": [
    "# კოდი ჩაწერე აქ"
   ]
  },
  {
   "cell_type": "markdown",
   "id": "1c4ac312",
   "metadata": {},
   "source": [
    "#### დავალება 3.\n",
    "\n",
    "ერთ სტრიქონად შეიტანება ორი მთელი, დადებითი რიცხვი `m` და `n`. თუ `m` იყოფა `n`-ზე უნაშთოდ დაბეჭდეთ განაყოფი, წინააღმდეგ შემთხვევაში – `m is not divisible by n`. მაგ.: `17 is not divisible by 5`.\n",
    "\n",
    "```python\n",
    "Sample Input:\n",
    "8 4\n",
    "\n",
    "Sample Output:\n",
    "2\n",
    "\n",
    "Sample Input:\n",
    "11 2\n",
    "\n",
    "Sample Output:\n",
    "11 is not divisible by 2\n",
    "```"
   ]
  },
  {
   "cell_type": "code",
   "execution_count": null,
   "id": "c4e7eaf0",
   "metadata": {},
   "outputs": [],
   "source": [
    "# კოდი ჩაწერე აქ"
   ]
  },
  {
   "cell_type": "markdown",
   "id": "8cfb954a",
   "metadata": {},
   "source": [
    "#### დავალება 4.\n",
    "\n",
    "ერთ სტრიქონად შეიტანება სამი მთელი, დადებითი რიცხვი. შეამოწმეთ შეტანილი რიცხვებიდან პირველი ორი წარმოადგენს მართკუთხა სამკუთხედის კათეტებს, მესამე – ჰიპოტენუზას. დაბეჭდეთ `YES / NO` შესაბამისად. შემოწმება ხორციელდება პითაგორას თეორემის მიხედვით: კათეტების კვადრატების ჯამი ტოლია ჰიპოტენუზის კვადრატის.\n",
    "\n",
    "```python\n",
    "Sample Input:\n",
    "3 4 5\n",
    "\n",
    "Sample Output:\n",
    "YES\n",
    "```"
   ]
  },
  {
   "cell_type": "code",
   "execution_count": null,
   "id": "1e63fce2",
   "metadata": {},
   "outputs": [],
   "source": [
    "# კოდი ჩაწერე აქ"
   ]
  },
  {
   "cell_type": "markdown",
   "id": "4ab94d49",
   "metadata": {},
   "source": [
    "#### დავალება 5.\n",
    "\n",
    "კლავიატურიდან შეიტანეთ ოთხნიშნა რიცხვი. დაბეჭდეთ `YES` თუ რიცხვი მთავრდება `7`-ით. წინააღმდეგ შემთხვევაში – `NO`.\n",
    "\n",
    "```python\n",
    "Sample Input:\n",
    "8117\n",
    "\n",
    "Sample Output:\n",
    "YES\n",
    "```"
   ]
  },
  {
   "cell_type": "code",
   "execution_count": null,
   "id": "6ba06926",
   "metadata": {},
   "outputs": [],
   "source": [
    "# კოდი ჩაწერე აქ"
   ]
  },
  {
   "cell_type": "markdown",
   "id": "b73213c6",
   "metadata": {},
   "source": [
    "#### დავალება 6.\n",
    "\n",
    "შეიტანეთ სიტყვა. შეამოწმეთ არის თუ არა ამ სიტყვაში ასოები: `t`, `h` და `o` (ნებისმიერი თანმიმდევრობით). დაბეჭეთ `YES / NO` შესაბამისად,\n",
    "\n",
    "```python\n",
    "Sample Input:\n",
    "Python\n",
    "\n",
    "Sample Output:\n",
    "YES\n",
    "```"
   ]
  },
  {
   "cell_type": "code",
   "execution_count": null,
   "id": "e5f4cb6c",
   "metadata": {},
   "outputs": [],
   "source": [
    "# კოდი ჩაწერე აქ"
   ]
  },
  {
   "cell_type": "markdown",
   "id": "09558b31",
   "metadata": {},
   "source": [
    "#### დავალება 7.\n",
    "\n",
    "კლავიატურიდან შეიტანეთ ქალაქები. თუ ამ სიაშია მოსკოვი, წაშალეთ. დაბეჭდეთ შედეგი სტრიქონის სახით (ქალაქები გამოყოფილი იყოს ინტერვალიებით).\n",
    "\n",
    "```python\n",
    "Sample Input:\n",
    "Oni Rustavi Telavi Gagra Tbilisi Gori Moscow Gali Java Manglisi Kareli\n",
    "\n",
    "Sample Output:\n",
    "Oni Rustavi Telavi Gagra Tbilisi Gori Gali Java Manglisi Kareli\n",
    "```"
   ]
  },
  {
   "cell_type": "code",
   "execution_count": 9,
   "id": "b97bbcdf",
   "metadata": {},
   "outputs": [],
   "source": [
    "# კოდი ჩაწერე აქ"
   ]
  },
  {
   "cell_type": "markdown",
   "id": "518c0178",
   "metadata": {},
   "source": [
    "#### დავალება 7.\n",
    "\n",
    "კლავიატურიდან შეიტანეთ ქალაქები. თუ ამ სიაშია მოსკოვი, წაშალეთ. დაბეჭდეთ შედეგი სტრიქონის სახით (ქალაქები გამოყოფილი იყოს ინტერვალიებით).\n",
    "\n",
    "```python\n",
    "Sample Input:\n",
    "Oni Rustavi Telavi Gagra Tbilisi Gori Moscow Gali Java Manglisi Kareli\n",
    "\n",
    "Sample Output:\n",
    "Oni Rustavi Telavi Gagra Tbilisi Gori Gali Java Manglisi Kareli\n",
    "```"
   ]
  },
  {
   "cell_type": "raw",
   "id": "4a0a9b0d",
   "metadata": {},
   "source": [
    "# კოდი ჩაწერე აქ"
   ]
  },
  {
   "cell_type": "markdown",
   "id": "bf926c9e",
   "metadata": {},
   "source": [
    "#### დავალება 8.\n",
    "\n",
    "კლავიატურიდან შეიტანეთ ოთხი მთელი, დადებითი რცხვი `a, b, c, d`. განსაზღვრეთ მოთავსდება თუ არა მართკუთხა კონვერტში ზომით `a, b` მმ მართკუთხა ღია ბარათი, რომლის ზომებია `c, d` მმ. გაითვალისწინეთ, რომ ბარათის მოსათავსებლად საჭიროა კონვერტის ღრეჩო 1 მმ ოთხივე მხრიდან. შესაძლებელია ბარათის მობრუნება 90 გრადუსით. დაბეჭდეთ `YES / NO` შესაბამისად.\n",
    "\n",
    "```python\n",
    "Sample Input:\n",
    "12 5 7 2\n",
    "\n",
    "Sample Output:\n",
    "YES\n",
    "```"
   ]
  },
  {
   "cell_type": "code",
   "execution_count": 9,
   "id": "9004b14e",
   "metadata": {},
   "outputs": [],
   "source": [
    "# კოდი ჩაწერე აქ"
   ]
  },
  {
   "cell_type": "markdown",
   "id": "8a8d8918",
   "metadata": {},
   "source": [
    "#### დავალება 9.\n",
    "\n",
    "კლავიატურიდან შეიტანეთ ექვსნიშნა რიცხვი. განსაზღვრეთ არის თუ არა შეტანილი რიცხვი ბედნიერი. (ბედნიერი – ისეთი ექსნიშნა რიცხვი, რომლის პირველი და ბოლო სამი ციფრების ჯამი ერთმანეთის ტოლია) დაბეჭდეთ `YES / NO` შესაბამისად.\n",
    "\n",
    "```python\n",
    "Sample Input:\n",
    "811235\n",
    "\n",
    "Sample Output:\n",
    "YES\n",
    "```"
   ]
  },
  {
   "cell_type": "code",
   "execution_count": 9,
   "id": "f9d802d9",
   "metadata": {},
   "outputs": [],
   "source": [
    "# კოდი ჩაწერე აქ"
   ]
  },
  {
   "cell_type": "markdown",
   "id": "6fd3613f",
   "metadata": {},
   "source": [
    "#### დავალება 10.\n",
    "\n",
    "შუქნიშნის მუშაობა დაპროგრამებულია შემდეგნაირად: ყოველი საათის დასაწყისში 3 წთ-ის განმავლობაში ანთია მწვანე მაშუქი, შემდეგ ორი წუთის განმავლობაში – წითელი, შემდეგი სამი წუთი – მწვანე და ა.შ. მოცემულია მცოცავწერტილიანი რიცხვი `t`, რომელიც აღნიშნავს დროს წუთებში. განსაზღვრეთ რა ფერის მაშუქი აინთება შუქნიშანზე მოცემული რიცხვის შემთხვევაში. დაბეჭდეთ `green / red` შესაბამისად.\n",
    "\n",
    "```python\n",
    "Sample Input:\n",
    "12.5\n",
    "\n",
    "Sample Output:\n",
    "green\n",
    "```"
   ]
  },
  {
   "cell_type": "code",
   "execution_count": 35,
   "id": "c2bd37f1",
   "metadata": {},
   "outputs": [],
   "source": [
    "# კოდი ჩაწერე აქ"
   ]
  }
 ],
 "metadata": {
  "kernelspec": {
   "display_name": "Python 3",
   "language": "python",
   "name": "python3"
  },
  "language_info": {
   "codemirror_mode": {
    "name": "ipython",
    "version": 3
   },
   "file_extension": ".py",
   "mimetype": "text/x-python",
   "name": "python",
   "nbconvert_exporter": "python",
   "pygments_lexer": "ipython3",
   "version": "3.8.8"
  }
 },
 "nbformat": 4,
 "nbformat_minor": 5
}
