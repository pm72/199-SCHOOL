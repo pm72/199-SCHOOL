{
 "cells": [
  {
   "cell_type": "code",
   "execution_count": null,
   "id": "8b51632d",
   "metadata": {},
   "outputs": [],
   "source": [
    "2 + 3\n",
    "8 / 3\n",
    "5 * 6"
   ]
  },
  {
   "cell_type": "code",
   "execution_count": 1,
   "id": "1d90b2b7",
   "metadata": {
    "scrolled": true
   },
   "outputs": [
    {
     "name": "stdout",
     "output_type": "stream",
     "text": [
      "5\n",
      "2.6666666666666665\n",
      "30\n",
      "Hello, there!..\n"
     ]
    }
   ],
   "source": [
    "print(2 + 3)\n",
    "print(8 / 3)\n",
    "print(5 * 6)\n",
    "print(\"Hello, there!..\")"
   ]
  }
 ],
 "metadata": {
  "kernelspec": {
   "display_name": "Python 3 (ipykernel)",
   "language": "python",
   "name": "python3"
  },
  "language_info": {
   "codemirror_mode": {
    "name": "ipython",
    "version": 3
   },
   "file_extension": ".py",
   "mimetype": "text/x-python",
   "name": "python",
   "nbconvert_exporter": "python",
   "pygments_lexer": "ipython3",
   "version": "3.10.9"
  }
 },
 "nbformat": 4,
 "nbformat_minor": 5
}
