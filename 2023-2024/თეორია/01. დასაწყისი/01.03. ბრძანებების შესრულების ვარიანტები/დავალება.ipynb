{
 "cells": [
  {
   "cell_type": "markdown",
   "id": "0e553466",
   "metadata": {},
   "source": [
    "__დავალება 1.__\n",
    "\n",
    "`print` ფუნქციის გამოყენებით დაბეჭდეთ `Hello Python!`.\n",
    "\n",
    "```python\n",
    "Sample Input:\n",
    "\n",
    "Sample Output:\n",
    "Hello Python!\n",
    "```"
   ]
  },
  {
   "cell_type": "code",
   "execution_count": null,
   "id": "108d3898",
   "metadata": {},
   "outputs": [],
   "source": [
    "# გააგრძელე პროგრამის წერა..."
   ]
  },
  {
   "cell_type": "markdown",
   "id": "21830e07",
   "metadata": {},
   "source": [
    "__დავალება 2.__\n",
    "\n",
    "`print` ფუნქციის გამოყენებით დაბეჭდეთ ორი რიცხვის ჯამი `6 + 7`\n",
    "\n",
    "```python\n",
    "Sample Input:\n",
    "\n",
    "Sample Output:\n",
    "13\n",
    "```"
   ]
  },
  {
   "cell_type": "code",
   "execution_count": null,
   "id": "db94984d",
   "metadata": {},
   "outputs": [],
   "source": [
    "# გააგრძელე პროგრამის წერა..."
   ]
  }
 ],
 "metadata": {
  "kernelspec": {
   "display_name": "Python 3 (ipykernel)",
   "language": "python",
   "name": "python3"
  },
  "language_info": {
   "codemirror_mode": {
    "name": "ipython",
    "version": 3
   },
   "file_extension": ".py",
   "mimetype": "text/x-python",
   "name": "python",
   "nbconvert_exporter": "python",
   "pygments_lexer": "ipython3",
   "version": "3.10.9"
  }
 },
 "nbformat": 4,
 "nbformat_minor": 5
}
